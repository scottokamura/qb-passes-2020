{
 "cells": [
  {
   "cell_type": "code",
   "execution_count": 1,
   "id": "magnetic-watts",
   "metadata": {},
   "outputs": [],
   "source": [
    "import pandas as pd\n",
    "import numpy as np\n",
    "import matplotlib.pyplot as plt\n",
    "%matplotlib inline\n",
    "import seaborn as sns\n",
    "sns.set_style('darkgrid')\n",
    "\n",
    "\n",
    "from sklearn.metrics import confusion_matrix, classification_report, roc_curve, auc\n",
    "from sklearn.metrics import accuracy_score, recall_score, precision_score, f1_score\n",
    "\n",
    "\n",
    "from cf_matrix import make_confusion_matrix as cm\n",
    "\n",
    "pd.set_option('display.max_columns', None)"
   ]
  },
  {
   "cell_type": "code",
   "execution_count": 2,
   "id": "alternate-fifth",
   "metadata": {},
   "outputs": [],
   "source": [
    "df = pd.read_csv('./Data/df_cleaned.csv', index_col=0)\n",
    "df = df.reset_index(drop=True)"
   ]
  },
  {
   "cell_type": "markdown",
   "id": "promotional-journalism",
   "metadata": {},
   "source": [
    "# Removing Sources of Data Leakage"
   ]
  },
  {
   "cell_type": "code",
   "execution_count": 3,
   "id": "corporate-martial",
   "metadata": {},
   "outputs": [],
   "source": [
    "drop_col = ['yards', 'firstdown', 'batted_pass', 'interception',\n",
    "            'incompletion_type', 'touchdown']"
   ]
  },
  {
   "cell_type": "code",
   "execution_count": 4,
   "id": "unavailable-continuity",
   "metadata": {},
   "outputs": [],
   "source": [
    "df = df.drop(drop_col, axis=1)"
   ]
  },
  {
   "cell_type": "markdown",
   "id": "incomplete-backup",
   "metadata": {},
   "source": [
    "# Model Training"
   ]
  },
  {
   "cell_type": "code",
   "execution_count": 5,
   "id": "placed-gross",
   "metadata": {},
   "outputs": [],
   "source": [
    "df['play_action'] = df['play_action'].map(lambda x: 1 if x == True else 0)\n",
    "df['run_pass_option'] = df['run_pass_option'].map(lambda x: 1 if x == True else 0)\n",
    "df['blitz_y'] = df['blitz_y'].map(lambda x: 1 if x == True else 0)\n"
   ]
  },
  {
   "cell_type": "code",
   "execution_count": 6,
   "id": "alien-dayton",
   "metadata": {},
   "outputs": [
    {
     "data": {
      "text/html": [
       "<div>\n",
       "<style scoped>\n",
       "    .dataframe tbody tr th:only-of-type {\n",
       "        vertical-align: middle;\n",
       "    }\n",
       "\n",
       "    .dataframe tbody tr th {\n",
       "        vertical-align: top;\n",
       "    }\n",
       "\n",
       "    .dataframe thead th {\n",
       "        text-align: right;\n",
       "    }\n",
       "</style>\n",
       "<table border=\"1\" class=\"dataframe\">\n",
       "  <thead>\n",
       "    <tr style=\"text-align: right;\">\n",
       "      <th></th>\n",
       "      <th>name</th>\n",
       "      <th>complete</th>\n",
       "      <th>att_yards</th>\n",
       "      <th>inside_20</th>\n",
       "      <th>goaltogo</th>\n",
       "      <th>blitz_x</th>\n",
       "      <th>hurry</th>\n",
       "      <th>knockdown</th>\n",
       "      <th>pocket_time</th>\n",
       "      <th>direction</th>\n",
       "      <th>quarter</th>\n",
       "      <th>yards_to_goal</th>\n",
       "      <th>down</th>\n",
       "      <th>yards_to_first</th>\n",
       "      <th>hash_mark</th>\n",
       "      <th>play_action</th>\n",
       "      <th>run_pass_option</th>\n",
       "      <th>blitz_y</th>\n",
       "      <th>qb_at_snap</th>\n",
       "      <th>players_rushed</th>\n",
       "      <th>pocket_location</th>\n",
       "      <th>pass_route</th>\n",
       "      <th>seconds_left_in_half</th>\n",
       "      <th>att_dist</th>\n",
       "    </tr>\n",
       "  </thead>\n",
       "  <tbody>\n",
       "    <tr>\n",
       "      <th>0</th>\n",
       "      <td>Aaron Rodgers</td>\n",
       "      <td>1.0</td>\n",
       "      <td>0.0</td>\n",
       "      <td>0.0</td>\n",
       "      <td>0.0</td>\n",
       "      <td>0.0</td>\n",
       "      <td>0.0</td>\n",
       "      <td>0.0</td>\n",
       "      <td>3.134</td>\n",
       "      <td>short right</td>\n",
       "      <td>2.0</td>\n",
       "      <td>31</td>\n",
       "      <td>1</td>\n",
       "      <td>10</td>\n",
       "      <td>Right Hash</td>\n",
       "      <td>0</td>\n",
       "      <td>0</td>\n",
       "      <td>0</td>\n",
       "      <td>Shotgun</td>\n",
       "      <td>4.0</td>\n",
       "      <td>Middle</td>\n",
       "      <td>Flat</td>\n",
       "      <td>120</td>\n",
       "      <td>short</td>\n",
       "    </tr>\n",
       "    <tr>\n",
       "      <th>1</th>\n",
       "      <td>Aaron Rodgers</td>\n",
       "      <td>1.0</td>\n",
       "      <td>13.0</td>\n",
       "      <td>1.0</td>\n",
       "      <td>0.0</td>\n",
       "      <td>0.0</td>\n",
       "      <td>0.0</td>\n",
       "      <td>0.0</td>\n",
       "      <td>1.820</td>\n",
       "      <td>short right</td>\n",
       "      <td>2.0</td>\n",
       "      <td>14</td>\n",
       "      <td>2</td>\n",
       "      <td>9</td>\n",
       "      <td>Left Hash</td>\n",
       "      <td>0</td>\n",
       "      <td>0</td>\n",
       "      <td>0</td>\n",
       "      <td>Shotgun</td>\n",
       "      <td>4.0</td>\n",
       "      <td>Middle</td>\n",
       "      <td>Go</td>\n",
       "      <td>858</td>\n",
       "      <td>medium</td>\n",
       "    </tr>\n",
       "    <tr>\n",
       "      <th>2</th>\n",
       "      <td>Aaron Rodgers</td>\n",
       "      <td>1.0</td>\n",
       "      <td>5.0</td>\n",
       "      <td>0.0</td>\n",
       "      <td>0.0</td>\n",
       "      <td>1.0</td>\n",
       "      <td>0.0</td>\n",
       "      <td>0.0</td>\n",
       "      <td>1.855</td>\n",
       "      <td>short middle</td>\n",
       "      <td>1.0</td>\n",
       "      <td>27</td>\n",
       "      <td>1</td>\n",
       "      <td>10</td>\n",
       "      <td>Left Hash</td>\n",
       "      <td>0</td>\n",
       "      <td>0</td>\n",
       "      <td>1</td>\n",
       "      <td>Shotgun</td>\n",
       "      <td>6.0</td>\n",
       "      <td>Middle</td>\n",
       "      <td>Slant</td>\n",
       "      <td>913</td>\n",
       "      <td>short</td>\n",
       "    </tr>\n",
       "    <tr>\n",
       "      <th>3</th>\n",
       "      <td>Aaron Rodgers</td>\n",
       "      <td>1.0</td>\n",
       "      <td>-4.0</td>\n",
       "      <td>0.0</td>\n",
       "      <td>0.0</td>\n",
       "      <td>0.0</td>\n",
       "      <td>0.0</td>\n",
       "      <td>0.0</td>\n",
       "      <td>1.191</td>\n",
       "      <td>short left</td>\n",
       "      <td>1.0</td>\n",
       "      <td>32</td>\n",
       "      <td>2</td>\n",
       "      <td>5</td>\n",
       "      <td>Right Hash</td>\n",
       "      <td>1</td>\n",
       "      <td>1</td>\n",
       "      <td>0</td>\n",
       "      <td>Shotgun</td>\n",
       "      <td>4.0</td>\n",
       "      <td>Middle</td>\n",
       "      <td>WR Screen</td>\n",
       "      <td>953</td>\n",
       "      <td>behind</td>\n",
       "    </tr>\n",
       "    <tr>\n",
       "      <th>4</th>\n",
       "      <td>Aaron Rodgers</td>\n",
       "      <td>1.0</td>\n",
       "      <td>-5.0</td>\n",
       "      <td>0.0</td>\n",
       "      <td>0.0</td>\n",
       "      <td>0.0</td>\n",
       "      <td>0.0</td>\n",
       "      <td>0.0</td>\n",
       "      <td>2.697</td>\n",
       "      <td>short right</td>\n",
       "      <td>1.0</td>\n",
       "      <td>56</td>\n",
       "      <td>2</td>\n",
       "      <td>7</td>\n",
       "      <td>Left Hash</td>\n",
       "      <td>0</td>\n",
       "      <td>0</td>\n",
       "      <td>0</td>\n",
       "      <td>Shotgun</td>\n",
       "      <td>4.0</td>\n",
       "      <td>Middle</td>\n",
       "      <td>Flat</td>\n",
       "      <td>1203</td>\n",
       "      <td>behind</td>\n",
       "    </tr>\n",
       "  </tbody>\n",
       "</table>\n",
       "</div>"
      ],
      "text/plain": [
       "            name  complete  att_yards  inside_20  goaltogo  blitz_x  hurry  \\\n",
       "0  Aaron Rodgers       1.0        0.0        0.0       0.0      0.0    0.0   \n",
       "1  Aaron Rodgers       1.0       13.0        1.0       0.0      0.0    0.0   \n",
       "2  Aaron Rodgers       1.0        5.0        0.0       0.0      1.0    0.0   \n",
       "3  Aaron Rodgers       1.0       -4.0        0.0       0.0      0.0    0.0   \n",
       "4  Aaron Rodgers       1.0       -5.0        0.0       0.0      0.0    0.0   \n",
       "\n",
       "   knockdown  pocket_time     direction  quarter  yards_to_goal  down  \\\n",
       "0        0.0        3.134   short right      2.0             31     1   \n",
       "1        0.0        1.820   short right      2.0             14     2   \n",
       "2        0.0        1.855  short middle      1.0             27     1   \n",
       "3        0.0        1.191    short left      1.0             32     2   \n",
       "4        0.0        2.697   short right      1.0             56     2   \n",
       "\n",
       "   yards_to_first   hash_mark  play_action  run_pass_option  blitz_y  \\\n",
       "0              10  Right Hash            0                0        0   \n",
       "1               9   Left Hash            0                0        0   \n",
       "2              10   Left Hash            0                0        1   \n",
       "3               5  Right Hash            1                1        0   \n",
       "4               7   Left Hash            0                0        0   \n",
       "\n",
       "  qb_at_snap  players_rushed pocket_location pass_route  seconds_left_in_half  \\\n",
       "0    Shotgun             4.0          Middle       Flat                   120   \n",
       "1    Shotgun             4.0          Middle         Go                   858   \n",
       "2    Shotgun             6.0          Middle      Slant                   913   \n",
       "3    Shotgun             4.0          Middle  WR Screen                   953   \n",
       "4    Shotgun             4.0          Middle       Flat                  1203   \n",
       "\n",
       "  att_dist  \n",
       "0    short  \n",
       "1   medium  \n",
       "2    short  \n",
       "3   behind  \n",
       "4   behind  "
      ]
     },
     "execution_count": 6,
     "metadata": {},
     "output_type": "execute_result"
    }
   ],
   "source": [
    "df.head()"
   ]
  },
  {
   "cell_type": "code",
   "execution_count": 7,
   "id": "premium-albert",
   "metadata": {},
   "outputs": [
    {
     "data": {
      "image/png": "[encoded data removed]",
      "text/plain": [
       "<Figure size 1152x720 with 6 Axes>"
      ]
     },
     "metadata": {},
     "output_type": "display_data"
    }
   ],
   "source": [
    "cat = ['direction', 'hash_mark', 'qb_at_snap', 'pocket_location', 'pass_route', 'att_dist']\n",
    "fig, axes = plt.subplots(nrows=2,ncols=3,figsize=(16,10),sharey=True)\n",
    "for col, ax in zip(cat, axes.flatten()):\n",
    "    (df.groupby(col)\n",
    "        .mean()['complete']\n",
    "        .sort_values()\n",
    "        .plot\n",
    "        .bar(ax=ax))\n",
    "    \n",
    "    ax.set_title(col)\n",
    "    \n",
    "fig.tight_layout()\n",
    "    \n"
   ]
  },
  {
   "cell_type": "code",
   "execution_count": 8,
   "id": "exact-potential",
   "metadata": {},
   "outputs": [],
   "source": [
    "dummies = pd.get_dummies(df[cat], drop_first=True)\n",
    "dfpre = df.drop(cat, axis=1)\n",
    "dfpre = pd.concat([dfpre, dummies], axis=1)"
   ]
  },
  {
   "cell_type": "code",
   "execution_count": 9,
   "id": "applied-punch",
   "metadata": {},
   "outputs": [],
   "source": [
    "scale_cols = ['att_yards', 'pocket_time', 'yards_to_goal', 'yards_to_first', 'players_rushed',\n",
    "              'seconds_left_in_half', 'quarter', 'down']"
   ]
  },
  {
   "cell_type": "code",
   "execution_count": 10,
   "id": "decent-month",
   "metadata": {},
   "outputs": [
    {
     "data": {
      "text/plain": [
       "array([[<AxesSubplot:title={'center':'att_yards'}>,\n",
       "        <AxesSubplot:title={'center':'pocket_time'}>,\n",
       "        <AxesSubplot:title={'center':'yards_to_goal'}>],\n",
       "       [<AxesSubplot:title={'center':'yards_to_first'}>,\n",
       "        <AxesSubplot:title={'center':'players_rushed'}>,\n",
       "        <AxesSubplot:title={'center':'seconds_left_in_half'}>],\n",
       "       [<AxesSubplot:title={'center':'quarter'}>,\n",
       "        <AxesSubplot:title={'center':'down'}>, <AxesSubplot:>]],\n",
       "      dtype=object)"
      ]
     },
     "execution_count": 10,
     "metadata": {},
     "output_type": "execute_result"
    },
    {
     "data": {
      "image/png": "[encoded data removed]",
      "text/plain": [
       "<Figure size 1152x648 with 9 Axes>"
      ]
     },
     "metadata": {},
     "output_type": "display_data"
    }
   ],
   "source": [
    "dfpre[scale_cols].hist(figsize=(16,9), bins='auto')"
   ]
  },
  {
   "cell_type": "code",
   "execution_count": 11,
   "id": "connected-domain",
   "metadata": {},
   "outputs": [],
   "source": [
    "from sklearn.preprocessing import MinMaxScaler, StandardScaler\n",
    "mms = MinMaxScaler()\n",
    "scaled = mms.fit(dfpre[scale_cols])\n",
    "scaled_cols = mms.transform(dfpre[scale_cols])\n",
    "scaled_df = pd.DataFrame(scaled_cols, columns=scale_cols)"
   ]
  },
  {
   "cell_type": "code",
   "execution_count": 12,
   "id": "fatal-consultation",
   "metadata": {},
   "outputs": [
    {
     "data": {
      "text/html": [
       "<div>\n",
       "<style scoped>\n",
       "    .dataframe tbody tr th:only-of-type {\n",
       "        vertical-align: middle;\n",
       "    }\n",
       "\n",
       "    .dataframe tbody tr th {\n",
       "        vertical-align: top;\n",
       "    }\n",
       "\n",
       "    .dataframe thead th {\n",
       "        text-align: right;\n",
       "    }\n",
       "</style>\n",
       "<table border=\"1\" class=\"dataframe\">\n",
       "  <thead>\n",
       "    <tr style=\"text-align: right;\">\n",
       "      <th></th>\n",
       "      <th>name</th>\n",
       "      <th>complete</th>\n",
       "      <th>inside_20</th>\n",
       "      <th>goaltogo</th>\n",
       "      <th>blitz_x</th>\n",
       "      <th>hurry</th>\n",
       "      <th>knockdown</th>\n",
       "      <th>play_action</th>\n",
       "      <th>run_pass_option</th>\n",
       "      <th>blitz_y</th>\n",
       "      <th>direction_deep middle</th>\n",
       "      <th>direction_deep right</th>\n",
       "      <th>direction_short left</th>\n",
       "      <th>direction_short middle</th>\n",
       "      <th>direction_short right</th>\n",
       "      <th>hash_mark_Middle</th>\n",
       "      <th>hash_mark_Right Hash</th>\n",
       "      <th>qb_at_snap_Shotgun</th>\n",
       "      <th>qb_at_snap_Under Center</th>\n",
       "      <th>pocket_location_Boot Right</th>\n",
       "      <th>pocket_location_Middle</th>\n",
       "      <th>pocket_location_Rollout Left</th>\n",
       "      <th>pocket_location_Rollout Right</th>\n",
       "      <th>pocket_location_Scramble Left</th>\n",
       "      <th>pocket_location_Scramble Right</th>\n",
       "      <th>pass_route_Cross</th>\n",
       "      <th>pass_route_Curl</th>\n",
       "      <th>pass_route_Flat</th>\n",
       "      <th>pass_route_Go</th>\n",
       "      <th>pass_route_Out</th>\n",
       "      <th>pass_route_Slant</th>\n",
       "      <th>pass_route_Underneath Screen</th>\n",
       "      <th>pass_route_WR Screen</th>\n",
       "      <th>att_dist_deep</th>\n",
       "      <th>att_dist_medium</th>\n",
       "      <th>att_dist_short</th>\n",
       "      <th>att_yards</th>\n",
       "      <th>pocket_time</th>\n",
       "      <th>yards_to_goal</th>\n",
       "      <th>yards_to_first</th>\n",
       "      <th>players_rushed</th>\n",
       "      <th>seconds_left_in_half</th>\n",
       "      <th>quarter</th>\n",
       "      <th>down</th>\n",
       "    </tr>\n",
       "  </thead>\n",
       "  <tbody>\n",
       "    <tr>\n",
       "      <th>0</th>\n",
       "      <td>Aaron Rodgers</td>\n",
       "      <td>1.0</td>\n",
       "      <td>0.0</td>\n",
       "      <td>0.0</td>\n",
       "      <td>0.0</td>\n",
       "      <td>0.0</td>\n",
       "      <td>0.0</td>\n",
       "      <td>0</td>\n",
       "      <td>0</td>\n",
       "      <td>0</td>\n",
       "      <td>0</td>\n",
       "      <td>0</td>\n",
       "      <td>0</td>\n",
       "      <td>0</td>\n",
       "      <td>1</td>\n",
       "      <td>0</td>\n",
       "      <td>1</td>\n",
       "      <td>1</td>\n",
       "      <td>0</td>\n",
       "      <td>0</td>\n",
       "      <td>1</td>\n",
       "      <td>0</td>\n",
       "      <td>0</td>\n",
       "      <td>0</td>\n",
       "      <td>0</td>\n",
       "      <td>0</td>\n",
       "      <td>0</td>\n",
       "      <td>1</td>\n",
       "      <td>0</td>\n",
       "      <td>0</td>\n",
       "      <td>0</td>\n",
       "      <td>0</td>\n",
       "      <td>0</td>\n",
       "      <td>0</td>\n",
       "      <td>0</td>\n",
       "      <td>1</td>\n",
       "      <td>0.34375</td>\n",
       "      <td>0.738279</td>\n",
       "      <td>0.306122</td>\n",
       "      <td>0.243243</td>\n",
       "      <td>0.375</td>\n",
       "      <td>0.066667</td>\n",
       "      <td>0.333333</td>\n",
       "      <td>0.000000</td>\n",
       "    </tr>\n",
       "    <tr>\n",
       "      <th>1</th>\n",
       "      <td>Aaron Rodgers</td>\n",
       "      <td>1.0</td>\n",
       "      <td>1.0</td>\n",
       "      <td>0.0</td>\n",
       "      <td>0.0</td>\n",
       "      <td>0.0</td>\n",
       "      <td>0.0</td>\n",
       "      <td>0</td>\n",
       "      <td>0</td>\n",
       "      <td>0</td>\n",
       "      <td>0</td>\n",
       "      <td>0</td>\n",
       "      <td>0</td>\n",
       "      <td>0</td>\n",
       "      <td>1</td>\n",
       "      <td>0</td>\n",
       "      <td>0</td>\n",
       "      <td>1</td>\n",
       "      <td>0</td>\n",
       "      <td>0</td>\n",
       "      <td>1</td>\n",
       "      <td>0</td>\n",
       "      <td>0</td>\n",
       "      <td>0</td>\n",
       "      <td>0</td>\n",
       "      <td>0</td>\n",
       "      <td>0</td>\n",
       "      <td>0</td>\n",
       "      <td>1</td>\n",
       "      <td>0</td>\n",
       "      <td>0</td>\n",
       "      <td>0</td>\n",
       "      <td>0</td>\n",
       "      <td>0</td>\n",
       "      <td>1</td>\n",
       "      <td>0</td>\n",
       "      <td>0.75000</td>\n",
       "      <td>0.399794</td>\n",
       "      <td>0.132653</td>\n",
       "      <td>0.216216</td>\n",
       "      <td>0.375</td>\n",
       "      <td>0.476667</td>\n",
       "      <td>0.333333</td>\n",
       "      <td>0.333333</td>\n",
       "    </tr>\n",
       "    <tr>\n",
       "      <th>2</th>\n",
       "      <td>Aaron Rodgers</td>\n",
       "      <td>1.0</td>\n",
       "      <td>0.0</td>\n",
       "      <td>0.0</td>\n",
       "      <td>1.0</td>\n",
       "      <td>0.0</td>\n",
       "      <td>0.0</td>\n",
       "      <td>0</td>\n",
       "      <td>0</td>\n",
       "      <td>1</td>\n",
       "      <td>0</td>\n",
       "      <td>0</td>\n",
       "      <td>0</td>\n",
       "      <td>1</td>\n",
       "      <td>0</td>\n",
       "      <td>0</td>\n",
       "      <td>0</td>\n",
       "      <td>1</td>\n",
       "      <td>0</td>\n",
       "      <td>0</td>\n",
       "      <td>1</td>\n",
       "      <td>0</td>\n",
       "      <td>0</td>\n",
       "      <td>0</td>\n",
       "      <td>0</td>\n",
       "      <td>0</td>\n",
       "      <td>0</td>\n",
       "      <td>0</td>\n",
       "      <td>0</td>\n",
       "      <td>0</td>\n",
       "      <td>1</td>\n",
       "      <td>0</td>\n",
       "      <td>0</td>\n",
       "      <td>0</td>\n",
       "      <td>0</td>\n",
       "      <td>1</td>\n",
       "      <td>0.50000</td>\n",
       "      <td>0.408810</td>\n",
       "      <td>0.265306</td>\n",
       "      <td>0.243243</td>\n",
       "      <td>0.625</td>\n",
       "      <td>0.507222</td>\n",
       "      <td>0.000000</td>\n",
       "      <td>0.000000</td>\n",
       "    </tr>\n",
       "    <tr>\n",
       "      <th>3</th>\n",
       "      <td>Aaron Rodgers</td>\n",
       "      <td>1.0</td>\n",
       "      <td>0.0</td>\n",
       "      <td>0.0</td>\n",
       "      <td>0.0</td>\n",
       "      <td>0.0</td>\n",
       "      <td>0.0</td>\n",
       "      <td>1</td>\n",
       "      <td>1</td>\n",
       "      <td>0</td>\n",
       "      <td>0</td>\n",
       "      <td>0</td>\n",
       "      <td>1</td>\n",
       "      <td>0</td>\n",
       "      <td>0</td>\n",
       "      <td>0</td>\n",
       "      <td>1</td>\n",
       "      <td>1</td>\n",
       "      <td>0</td>\n",
       "      <td>0</td>\n",
       "      <td>1</td>\n",
       "      <td>0</td>\n",
       "      <td>0</td>\n",
       "      <td>0</td>\n",
       "      <td>0</td>\n",
       "      <td>0</td>\n",
       "      <td>0</td>\n",
       "      <td>0</td>\n",
       "      <td>0</td>\n",
       "      <td>0</td>\n",
       "      <td>0</td>\n",
       "      <td>0</td>\n",
       "      <td>1</td>\n",
       "      <td>0</td>\n",
       "      <td>0</td>\n",
       "      <td>0</td>\n",
       "      <td>0.21875</td>\n",
       "      <td>0.237764</td>\n",
       "      <td>0.316327</td>\n",
       "      <td>0.108108</td>\n",
       "      <td>0.375</td>\n",
       "      <td>0.529444</td>\n",
       "      <td>0.000000</td>\n",
       "      <td>0.333333</td>\n",
       "    </tr>\n",
       "    <tr>\n",
       "      <th>4</th>\n",
       "      <td>Aaron Rodgers</td>\n",
       "      <td>1.0</td>\n",
       "      <td>0.0</td>\n",
       "      <td>0.0</td>\n",
       "      <td>0.0</td>\n",
       "      <td>0.0</td>\n",
       "      <td>0.0</td>\n",
       "      <td>0</td>\n",
       "      <td>0</td>\n",
       "      <td>0</td>\n",
       "      <td>0</td>\n",
       "      <td>0</td>\n",
       "      <td>0</td>\n",
       "      <td>0</td>\n",
       "      <td>1</td>\n",
       "      <td>0</td>\n",
       "      <td>0</td>\n",
       "      <td>1</td>\n",
       "      <td>0</td>\n",
       "      <td>0</td>\n",
       "      <td>1</td>\n",
       "      <td>0</td>\n",
       "      <td>0</td>\n",
       "      <td>0</td>\n",
       "      <td>0</td>\n",
       "      <td>0</td>\n",
       "      <td>0</td>\n",
       "      <td>1</td>\n",
       "      <td>0</td>\n",
       "      <td>0</td>\n",
       "      <td>0</td>\n",
       "      <td>0</td>\n",
       "      <td>0</td>\n",
       "      <td>0</td>\n",
       "      <td>0</td>\n",
       "      <td>0</td>\n",
       "      <td>0.18750</td>\n",
       "      <td>0.625708</td>\n",
       "      <td>0.561224</td>\n",
       "      <td>0.162162</td>\n",
       "      <td>0.375</td>\n",
       "      <td>0.668333</td>\n",
       "      <td>0.000000</td>\n",
       "      <td>0.333333</td>\n",
       "    </tr>\n",
       "    <tr>\n",
       "      <th>...</th>\n",
       "      <td>...</td>\n",
       "      <td>...</td>\n",
       "      <td>...</td>\n",
       "      <td>...</td>\n",
       "      <td>...</td>\n",
       "      <td>...</td>\n",
       "      <td>...</td>\n",
       "      <td>...</td>\n",
       "      <td>...</td>\n",
       "      <td>...</td>\n",
       "      <td>...</td>\n",
       "      <td>...</td>\n",
       "      <td>...</td>\n",
       "      <td>...</td>\n",
       "      <td>...</td>\n",
       "      <td>...</td>\n",
       "      <td>...</td>\n",
       "      <td>...</td>\n",
       "      <td>...</td>\n",
       "      <td>...</td>\n",
       "      <td>...</td>\n",
       "      <td>...</td>\n",
       "      <td>...</td>\n",
       "      <td>...</td>\n",
       "      <td>...</td>\n",
       "      <td>...</td>\n",
       "      <td>...</td>\n",
       "      <td>...</td>\n",
       "      <td>...</td>\n",
       "      <td>...</td>\n",
       "      <td>...</td>\n",
       "      <td>...</td>\n",
       "      <td>...</td>\n",
       "      <td>...</td>\n",
       "      <td>...</td>\n",
       "      <td>...</td>\n",
       "      <td>...</td>\n",
       "      <td>...</td>\n",
       "      <td>...</td>\n",
       "      <td>...</td>\n",
       "      <td>...</td>\n",
       "      <td>...</td>\n",
       "      <td>...</td>\n",
       "      <td>...</td>\n",
       "    </tr>\n",
       "    <tr>\n",
       "      <th>12240</th>\n",
       "      <td>Tyrod Taylor</td>\n",
       "      <td>1.0</td>\n",
       "      <td>0.0</td>\n",
       "      <td>0.0</td>\n",
       "      <td>0.0</td>\n",
       "      <td>0.0</td>\n",
       "      <td>0.0</td>\n",
       "      <td>0</td>\n",
       "      <td>0</td>\n",
       "      <td>0</td>\n",
       "      <td>0</td>\n",
       "      <td>0</td>\n",
       "      <td>0</td>\n",
       "      <td>1</td>\n",
       "      <td>0</td>\n",
       "      <td>0</td>\n",
       "      <td>1</td>\n",
       "      <td>1</td>\n",
       "      <td>0</td>\n",
       "      <td>0</td>\n",
       "      <td>1</td>\n",
       "      <td>0</td>\n",
       "      <td>0</td>\n",
       "      <td>0</td>\n",
       "      <td>0</td>\n",
       "      <td>0</td>\n",
       "      <td>1</td>\n",
       "      <td>0</td>\n",
       "      <td>0</td>\n",
       "      <td>0</td>\n",
       "      <td>0</td>\n",
       "      <td>0</td>\n",
       "      <td>0</td>\n",
       "      <td>0</td>\n",
       "      <td>0</td>\n",
       "      <td>1</td>\n",
       "      <td>0.53125</td>\n",
       "      <td>0.410613</td>\n",
       "      <td>0.775510</td>\n",
       "      <td>0.270270</td>\n",
       "      <td>0.375</td>\n",
       "      <td>0.152222</td>\n",
       "      <td>1.000000</td>\n",
       "      <td>0.333333</td>\n",
       "    </tr>\n",
       "    <tr>\n",
       "      <th>12241</th>\n",
       "      <td>Tyrod Taylor</td>\n",
       "      <td>1.0</td>\n",
       "      <td>0.0</td>\n",
       "      <td>0.0</td>\n",
       "      <td>0.0</td>\n",
       "      <td>0.0</td>\n",
       "      <td>0.0</td>\n",
       "      <td>0</td>\n",
       "      <td>0</td>\n",
       "      <td>0</td>\n",
       "      <td>0</td>\n",
       "      <td>0</td>\n",
       "      <td>0</td>\n",
       "      <td>0</td>\n",
       "      <td>1</td>\n",
       "      <td>1</td>\n",
       "      <td>0</td>\n",
       "      <td>1</td>\n",
       "      <td>0</td>\n",
       "      <td>0</td>\n",
       "      <td>1</td>\n",
       "      <td>0</td>\n",
       "      <td>0</td>\n",
       "      <td>0</td>\n",
       "      <td>0</td>\n",
       "      <td>0</td>\n",
       "      <td>0</td>\n",
       "      <td>0</td>\n",
       "      <td>0</td>\n",
       "      <td>0</td>\n",
       "      <td>1</td>\n",
       "      <td>0</td>\n",
       "      <td>0</td>\n",
       "      <td>0</td>\n",
       "      <td>0</td>\n",
       "      <td>1</td>\n",
       "      <td>0.53125</td>\n",
       "      <td>0.621844</td>\n",
       "      <td>0.459184</td>\n",
       "      <td>0.216216</td>\n",
       "      <td>0.250</td>\n",
       "      <td>0.505000</td>\n",
       "      <td>0.000000</td>\n",
       "      <td>0.666667</td>\n",
       "    </tr>\n",
       "    <tr>\n",
       "      <th>12242</th>\n",
       "      <td>Tyrod Taylor</td>\n",
       "      <td>1.0</td>\n",
       "      <td>0.0</td>\n",
       "      <td>0.0</td>\n",
       "      <td>0.0</td>\n",
       "      <td>0.0</td>\n",
       "      <td>0.0</td>\n",
       "      <td>1</td>\n",
       "      <td>1</td>\n",
       "      <td>0</td>\n",
       "      <td>0</td>\n",
       "      <td>0</td>\n",
       "      <td>0</td>\n",
       "      <td>0</td>\n",
       "      <td>1</td>\n",
       "      <td>0</td>\n",
       "      <td>1</td>\n",
       "      <td>1</td>\n",
       "      <td>0</td>\n",
       "      <td>0</td>\n",
       "      <td>0</td>\n",
       "      <td>0</td>\n",
       "      <td>1</td>\n",
       "      <td>0</td>\n",
       "      <td>0</td>\n",
       "      <td>0</td>\n",
       "      <td>0</td>\n",
       "      <td>0</td>\n",
       "      <td>0</td>\n",
       "      <td>1</td>\n",
       "      <td>0</td>\n",
       "      <td>0</td>\n",
       "      <td>0</td>\n",
       "      <td>0</td>\n",
       "      <td>1</td>\n",
       "      <td>0</td>\n",
       "      <td>0.81250</td>\n",
       "      <td>0.650953</td>\n",
       "      <td>0.622449</td>\n",
       "      <td>0.243243</td>\n",
       "      <td>0.375</td>\n",
       "      <td>0.555556</td>\n",
       "      <td>0.000000</td>\n",
       "      <td>0.333333</td>\n",
       "    </tr>\n",
       "    <tr>\n",
       "      <th>12243</th>\n",
       "      <td>Tyrod Taylor</td>\n",
       "      <td>1.0</td>\n",
       "      <td>0.0</td>\n",
       "      <td>0.0</td>\n",
       "      <td>1.0</td>\n",
       "      <td>0.0</td>\n",
       "      <td>0.0</td>\n",
       "      <td>1</td>\n",
       "      <td>0</td>\n",
       "      <td>1</td>\n",
       "      <td>0</td>\n",
       "      <td>0</td>\n",
       "      <td>0</td>\n",
       "      <td>0</td>\n",
       "      <td>1</td>\n",
       "      <td>0</td>\n",
       "      <td>0</td>\n",
       "      <td>0</td>\n",
       "      <td>1</td>\n",
       "      <td>0</td>\n",
       "      <td>0</td>\n",
       "      <td>0</td>\n",
       "      <td>1</td>\n",
       "      <td>0</td>\n",
       "      <td>0</td>\n",
       "      <td>0</td>\n",
       "      <td>0</td>\n",
       "      <td>1</td>\n",
       "      <td>0</td>\n",
       "      <td>0</td>\n",
       "      <td>0</td>\n",
       "      <td>0</td>\n",
       "      <td>0</td>\n",
       "      <td>0</td>\n",
       "      <td>0</td>\n",
       "      <td>1</td>\n",
       "      <td>0.37500</td>\n",
       "      <td>0.696033</td>\n",
       "      <td>0.755102</td>\n",
       "      <td>0.243243</td>\n",
       "      <td>0.500</td>\n",
       "      <td>0.580000</td>\n",
       "      <td>0.000000</td>\n",
       "      <td>0.000000</td>\n",
       "    </tr>\n",
       "    <tr>\n",
       "      <th>12244</th>\n",
       "      <td>Tyrod Taylor</td>\n",
       "      <td>0.0</td>\n",
       "      <td>0.0</td>\n",
       "      <td>0.0</td>\n",
       "      <td>0.0</td>\n",
       "      <td>0.0</td>\n",
       "      <td>0.0</td>\n",
       "      <td>0</td>\n",
       "      <td>0</td>\n",
       "      <td>0</td>\n",
       "      <td>0</td>\n",
       "      <td>0</td>\n",
       "      <td>0</td>\n",
       "      <td>0</td>\n",
       "      <td>1</td>\n",
       "      <td>0</td>\n",
       "      <td>1</td>\n",
       "      <td>1</td>\n",
       "      <td>0</td>\n",
       "      <td>0</td>\n",
       "      <td>1</td>\n",
       "      <td>0</td>\n",
       "      <td>0</td>\n",
       "      <td>0</td>\n",
       "      <td>0</td>\n",
       "      <td>0</td>\n",
       "      <td>0</td>\n",
       "      <td>0</td>\n",
       "      <td>0</td>\n",
       "      <td>0</td>\n",
       "      <td>0</td>\n",
       "      <td>0</td>\n",
       "      <td>0</td>\n",
       "      <td>0</td>\n",
       "      <td>1</td>\n",
       "      <td>0</td>\n",
       "      <td>0.65625</td>\n",
       "      <td>0.869912</td>\n",
       "      <td>0.959184</td>\n",
       "      <td>0.243243</td>\n",
       "      <td>0.375</td>\n",
       "      <td>0.640556</td>\n",
       "      <td>0.000000</td>\n",
       "      <td>0.666667</td>\n",
       "    </tr>\n",
       "  </tbody>\n",
       "</table>\n",
       "<p>12245 rows × 44 columns</p>\n",
       "</div>"
      ],
      "text/plain": [
       "                name  complete  inside_20  goaltogo  blitz_x  hurry  \\\n",
       "0      Aaron Rodgers       1.0        0.0       0.0      0.0    0.0   \n",
       "1      Aaron Rodgers       1.0        1.0       0.0      0.0    0.0   \n",
       "2      Aaron Rodgers       1.0        0.0       0.0      1.0    0.0   \n",
       "3      Aaron Rodgers       1.0        0.0       0.0      0.0    0.0   \n",
       "4      Aaron Rodgers       1.0        0.0       0.0      0.0    0.0   \n",
       "...              ...       ...        ...       ...      ...    ...   \n",
       "12240   Tyrod Taylor       1.0        0.0       0.0      0.0    0.0   \n",
       "12241   Tyrod Taylor       1.0        0.0       0.0      0.0    0.0   \n",
       "12242   Tyrod Taylor       1.0        0.0       0.0      0.0    0.0   \n",
       "12243   Tyrod Taylor       1.0        0.0       0.0      1.0    0.0   \n",
       "12244   Tyrod Taylor       0.0        0.0       0.0      0.0    0.0   \n",
       "\n",
       "       knockdown  play_action  run_pass_option  blitz_y  \\\n",
       "0            0.0            0                0        0   \n",
       "1            0.0            0                0        0   \n",
       "2            0.0            0                0        1   \n",
       "3            0.0            1                1        0   \n",
       "4            0.0            0                0        0   \n",
       "...          ...          ...              ...      ...   \n",
       "12240        0.0            0                0        0   \n",
       "12241        0.0            0                0        0   \n",
       "12242        0.0            1                1        0   \n",
       "12243        0.0            1                0        1   \n",
       "12244        0.0            0                0        0   \n",
       "\n",
       "       direction_deep middle  direction_deep right  direction_short left  \\\n",
       "0                          0                     0                     0   \n",
       "1                          0                     0                     0   \n",
       "2                          0                     0                     0   \n",
       "3                          0                     0                     1   \n",
       "4                          0                     0                     0   \n",
       "...                      ...                   ...                   ...   \n",
       "12240                      0                     0                     0   \n",
       "12241                      0                     0                     0   \n",
       "12242                      0                     0                     0   \n",
       "12243                      0                     0                     0   \n",
       "12244                      0                     0                     0   \n",
       "\n",
       "       direction_short middle  direction_short right  hash_mark_Middle  \\\n",
       "0                           0                      1                 0   \n",
       "1                           0                      1                 0   \n",
       "2                           1                      0                 0   \n",
       "3                           0                      0                 0   \n",
       "4                           0                      1                 0   \n",
       "...                       ...                    ...               ...   \n",
       "12240                       1                      0                 0   \n",
       "12241                       0                      1                 1   \n",
       "12242                       0                      1                 0   \n",
       "12243                       0                      1                 0   \n",
       "12244                       0                      1                 0   \n",
       "\n",
       "       hash_mark_Right Hash  qb_at_snap_Shotgun  qb_at_snap_Under Center  \\\n",
       "0                         1                   1                        0   \n",
       "1                         0                   1                        0   \n",
       "2                         0                   1                        0   \n",
       "3                         1                   1                        0   \n",
       "4                         0                   1                        0   \n",
       "...                     ...                 ...                      ...   \n",
       "12240                     1                   1                        0   \n",
       "12241                     0                   1                        0   \n",
       "12242                     1                   1                        0   \n",
       "12243                     0                   0                        1   \n",
       "12244                     1                   1                        0   \n",
       "\n",
       "       pocket_location_Boot Right  pocket_location_Middle  \\\n",
       "0                               0                       1   \n",
       "1                               0                       1   \n",
       "2                               0                       1   \n",
       "3                               0                       1   \n",
       "4                               0                       1   \n",
       "...                           ...                     ...   \n",
       "12240                           0                       1   \n",
       "12241                           0                       1   \n",
       "12242                           0                       0   \n",
       "12243                           0                       0   \n",
       "12244                           0                       1   \n",
       "\n",
       "       pocket_location_Rollout Left  pocket_location_Rollout Right  \\\n",
       "0                                 0                              0   \n",
       "1                                 0                              0   \n",
       "2                                 0                              0   \n",
       "3                                 0                              0   \n",
       "4                                 0                              0   \n",
       "...                             ...                            ...   \n",
       "12240                             0                              0   \n",
       "12241                             0                              0   \n",
       "12242                             0                              1   \n",
       "12243                             0                              1   \n",
       "12244                             0                              0   \n",
       "\n",
       "       pocket_location_Scramble Left  pocket_location_Scramble Right  \\\n",
       "0                                  0                               0   \n",
       "1                                  0                               0   \n",
       "2                                  0                               0   \n",
       "3                                  0                               0   \n",
       "4                                  0                               0   \n",
       "...                              ...                             ...   \n",
       "12240                              0                               0   \n",
       "12241                              0                               0   \n",
       "12242                              0                               0   \n",
       "12243                              0                               0   \n",
       "12244                              0                               0   \n",
       "\n",
       "       pass_route_Cross  pass_route_Curl  pass_route_Flat  pass_route_Go  \\\n",
       "0                     0                0                1              0   \n",
       "1                     0                0                0              1   \n",
       "2                     0                0                0              0   \n",
       "3                     0                0                0              0   \n",
       "4                     0                0                1              0   \n",
       "...                 ...              ...              ...            ...   \n",
       "12240                 0                1                0              0   \n",
       "12241                 0                0                0              0   \n",
       "12242                 0                0                0              0   \n",
       "12243                 0                0                1              0   \n",
       "12244                 0                0                0              0   \n",
       "\n",
       "       pass_route_Out  pass_route_Slant  pass_route_Underneath Screen  \\\n",
       "0                   0                 0                             0   \n",
       "1                   0                 0                             0   \n",
       "2                   0                 1                             0   \n",
       "3                   0                 0                             0   \n",
       "4                   0                 0                             0   \n",
       "...               ...               ...                           ...   \n",
       "12240               0                 0                             0   \n",
       "12241               0                 1                             0   \n",
       "12242               1                 0                             0   \n",
       "12243               0                 0                             0   \n",
       "12244               0                 0                             0   \n",
       "\n",
       "       pass_route_WR Screen  att_dist_deep  att_dist_medium  att_dist_short  \\\n",
       "0                         0              0                0               1   \n",
       "1                         0              0                1               0   \n",
       "2                         0              0                0               1   \n",
       "3                         1              0                0               0   \n",
       "4                         0              0                0               0   \n",
       "...                     ...            ...              ...             ...   \n",
       "12240                     0              0                0               1   \n",
       "12241                     0              0                0               1   \n",
       "12242                     0              0                1               0   \n",
       "12243                     0              0                0               1   \n",
       "12244                     0              0                1               0   \n",
       "\n",
       "       att_yards  pocket_time  yards_to_goal  yards_to_first  players_rushed  \\\n",
       "0        0.34375     0.738279       0.306122        0.243243           0.375   \n",
       "1        0.75000     0.399794       0.132653        0.216216           0.375   \n",
       "2        0.50000     0.408810       0.265306        0.243243           0.625   \n",
       "3        0.21875     0.237764       0.316327        0.108108           0.375   \n",
       "4        0.18750     0.625708       0.561224        0.162162           0.375   \n",
       "...          ...          ...            ...             ...             ...   \n",
       "12240    0.53125     0.410613       0.775510        0.270270           0.375   \n",
       "12241    0.53125     0.621844       0.459184        0.216216           0.250   \n",
       "12242    0.81250     0.650953       0.622449        0.243243           0.375   \n",
       "12243    0.37500     0.696033       0.755102        0.243243           0.500   \n",
       "12244    0.65625     0.869912       0.959184        0.243243           0.375   \n",
       "\n",
       "       seconds_left_in_half   quarter      down  \n",
       "0                  0.066667  0.333333  0.000000  \n",
       "1                  0.476667  0.333333  0.333333  \n",
       "2                  0.507222  0.000000  0.000000  \n",
       "3                  0.529444  0.000000  0.333333  \n",
       "4                  0.668333  0.000000  0.333333  \n",
       "...                     ...       ...       ...  \n",
       "12240              0.152222  1.000000  0.333333  \n",
       "12241              0.505000  0.000000  0.666667  \n",
       "12242              0.555556  0.000000  0.333333  \n",
       "12243              0.580000  0.000000  0.000000  \n",
       "12244              0.640556  0.000000  0.666667  \n",
       "\n",
       "[12245 rows x 44 columns]"
      ]
     },
     "execution_count": 12,
     "metadata": {},
     "output_type": "execute_result"
    }
   ],
   "source": [
    "dfpre = dfpre.drop(scale_cols, axis=1)\n",
    "df = pd.concat([dfpre, scaled_df], axis=1)\n",
    "df"
   ]
  },
  {
   "cell_type": "code",
   "execution_count": 13,
   "id": "hourly-pension",
   "metadata": {},
   "outputs": [
    {
     "data": {
      "text/html": [
       "<div>\n",
       "<style scoped>\n",
       "    .dataframe tbody tr th:only-of-type {\n",
       "        vertical-align: middle;\n",
       "    }\n",
       "\n",
       "    .dataframe tbody tr th {\n",
       "        vertical-align: top;\n",
       "    }\n",
       "\n",
       "    .dataframe thead th {\n",
       "        text-align: right;\n",
       "    }\n",
       "</style>\n",
       "<table border=\"1\" class=\"dataframe\">\n",
       "  <thead>\n",
       "    <tr style=\"text-align: right;\">\n",
       "      <th></th>\n",
       "      <th>complete</th>\n",
       "      <th>inside_20</th>\n",
       "      <th>goaltogo</th>\n",
       "      <th>blitz_x</th>\n",
       "      <th>hurry</th>\n",
       "      <th>knockdown</th>\n",
       "      <th>play_action</th>\n",
       "      <th>run_pass_option</th>\n",
       "      <th>blitz_y</th>\n",
       "      <th>direction_deep middle</th>\n",
       "      <th>direction_deep right</th>\n",
       "      <th>direction_short left</th>\n",
       "      <th>direction_short middle</th>\n",
       "      <th>direction_short right</th>\n",
       "      <th>hash_mark_Middle</th>\n",
       "      <th>hash_mark_Right Hash</th>\n",
       "      <th>qb_at_snap_Shotgun</th>\n",
       "      <th>qb_at_snap_Under Center</th>\n",
       "      <th>pocket_location_Boot Right</th>\n",
       "      <th>pocket_location_Middle</th>\n",
       "      <th>pocket_location_Rollout Left</th>\n",
       "      <th>pocket_location_Rollout Right</th>\n",
       "      <th>pocket_location_Scramble Left</th>\n",
       "      <th>pocket_location_Scramble Right</th>\n",
       "      <th>pass_route_Cross</th>\n",
       "      <th>pass_route_Curl</th>\n",
       "      <th>pass_route_Flat</th>\n",
       "      <th>pass_route_Go</th>\n",
       "      <th>pass_route_Out</th>\n",
       "      <th>pass_route_Slant</th>\n",
       "      <th>pass_route_Underneath Screen</th>\n",
       "      <th>pass_route_WR Screen</th>\n",
       "      <th>att_dist_deep</th>\n",
       "      <th>att_dist_medium</th>\n",
       "      <th>att_dist_short</th>\n",
       "      <th>att_yards</th>\n",
       "      <th>pocket_time</th>\n",
       "      <th>yards_to_goal</th>\n",
       "      <th>yards_to_first</th>\n",
       "      <th>players_rushed</th>\n",
       "      <th>seconds_left_in_half</th>\n",
       "      <th>quarter</th>\n",
       "      <th>down</th>\n",
       "    </tr>\n",
       "  </thead>\n",
       "  <tbody>\n",
       "    <tr>\n",
       "      <th>count</th>\n",
       "      <td>12245.000000</td>\n",
       "      <td>12245.000000</td>\n",
       "      <td>12245.000000</td>\n",
       "      <td>12245.000000</td>\n",
       "      <td>12245.000000</td>\n",
       "      <td>12245.000000</td>\n",
       "      <td>12245.000000</td>\n",
       "      <td>12245.000000</td>\n",
       "      <td>12245.000000</td>\n",
       "      <td>12245.000000</td>\n",
       "      <td>12245.000000</td>\n",
       "      <td>12245.000000</td>\n",
       "      <td>12245.000000</td>\n",
       "      <td>12245.000000</td>\n",
       "      <td>12245.000000</td>\n",
       "      <td>12245.000000</td>\n",
       "      <td>12245.000000</td>\n",
       "      <td>12245.000000</td>\n",
       "      <td>12245.000000</td>\n",
       "      <td>12245.000000</td>\n",
       "      <td>12245.000000</td>\n",
       "      <td>12245.000000</td>\n",
       "      <td>12245.000000</td>\n",
       "      <td>12245.000000</td>\n",
       "      <td>12245.000000</td>\n",
       "      <td>12245.000000</td>\n",
       "      <td>12245.000000</td>\n",
       "      <td>12245.000000</td>\n",
       "      <td>12245.000000</td>\n",
       "      <td>12245.000000</td>\n",
       "      <td>12245.000000</td>\n",
       "      <td>12245.000000</td>\n",
       "      <td>12245.000000</td>\n",
       "      <td>12245.000000</td>\n",
       "      <td>12245.000000</td>\n",
       "      <td>12245.000000</td>\n",
       "      <td>12245.000000</td>\n",
       "      <td>12245.000000</td>\n",
       "      <td>12245.000000</td>\n",
       "      <td>12245.000000</td>\n",
       "      <td>12245.000000</td>\n",
       "      <td>12245.000000</td>\n",
       "      <td>12245.000000</td>\n",
       "    </tr>\n",
       "    <tr>\n",
       "      <th>mean</th>\n",
       "      <td>0.738097</td>\n",
       "      <td>0.122662</td>\n",
       "      <td>0.053001</td>\n",
       "      <td>0.301919</td>\n",
       "      <td>0.068109</td>\n",
       "      <td>0.075868</td>\n",
       "      <td>0.220580</td>\n",
       "      <td>0.067864</td>\n",
       "      <td>0.301919</td>\n",
       "      <td>0.009555</td>\n",
       "      <td>0.026215</td>\n",
       "      <td>0.363740</td>\n",
       "      <td>0.197387</td>\n",
       "      <td>0.383177</td>\n",
       "      <td>0.114659</td>\n",
       "      <td>0.432258</td>\n",
       "      <td>0.813230</td>\n",
       "      <td>0.172887</td>\n",
       "      <td>0.031196</td>\n",
       "      <td>0.884688</td>\n",
       "      <td>0.005962</td>\n",
       "      <td>0.029481</td>\n",
       "      <td>0.009718</td>\n",
       "      <td>0.026133</td>\n",
       "      <td>0.100286</td>\n",
       "      <td>0.159085</td>\n",
       "      <td>0.186117</td>\n",
       "      <td>0.047121</td>\n",
       "      <td>0.189873</td>\n",
       "      <td>0.131891</td>\n",
       "      <td>0.050796</td>\n",
       "      <td>0.069008</td>\n",
       "      <td>0.013965</td>\n",
       "      <td>0.161617</td>\n",
       "      <td>0.625235</td>\n",
       "      <td>0.477976</td>\n",
       "      <td>0.508344</td>\n",
       "      <td>0.519797</td>\n",
       "      <td>0.210259</td>\n",
       "      <td>0.410923</td>\n",
       "      <td>0.454252</td>\n",
       "      <td>0.509950</td>\n",
       "      <td>0.293317</td>\n",
       "    </tr>\n",
       "    <tr>\n",
       "      <th>std</th>\n",
       "      <td>0.439688</td>\n",
       "      <td>0.328063</td>\n",
       "      <td>0.224045</td>\n",
       "      <td>0.459109</td>\n",
       "      <td>0.251944</td>\n",
       "      <td>0.264797</td>\n",
       "      <td>0.414655</td>\n",
       "      <td>0.251523</td>\n",
       "      <td>0.459109</td>\n",
       "      <td>0.097285</td>\n",
       "      <td>0.159780</td>\n",
       "      <td>0.481095</td>\n",
       "      <td>0.398043</td>\n",
       "      <td>0.486181</td>\n",
       "      <td>0.318623</td>\n",
       "      <td>0.495410</td>\n",
       "      <td>0.389743</td>\n",
       "      <td>0.378165</td>\n",
       "      <td>0.173855</td>\n",
       "      <td>0.319412</td>\n",
       "      <td>0.076984</td>\n",
       "      <td>0.169159</td>\n",
       "      <td>0.098105</td>\n",
       "      <td>0.159538</td>\n",
       "      <td>0.300393</td>\n",
       "      <td>0.365771</td>\n",
       "      <td>0.389217</td>\n",
       "      <td>0.211907</td>\n",
       "      <td>0.392217</td>\n",
       "      <td>0.338386</td>\n",
       "      <td>0.219590</td>\n",
       "      <td>0.253478</td>\n",
       "      <td>0.117350</td>\n",
       "      <td>0.368114</td>\n",
       "      <td>0.484082</td>\n",
       "      <td>0.183620</td>\n",
       "      <td>0.174497</td>\n",
       "      <td>0.240305</td>\n",
       "      <td>0.106279</td>\n",
       "      <td>0.094364</td>\n",
       "      <td>0.307143</td>\n",
       "      <td>0.368359</td>\n",
       "      <td>0.275197</td>\n",
       "    </tr>\n",
       "    <tr>\n",
       "      <th>min</th>\n",
       "      <td>0.000000</td>\n",
       "      <td>0.000000</td>\n",
       "      <td>0.000000</td>\n",
       "      <td>0.000000</td>\n",
       "      <td>0.000000</td>\n",
       "      <td>0.000000</td>\n",
       "      <td>0.000000</td>\n",
       "      <td>0.000000</td>\n",
       "      <td>0.000000</td>\n",
       "      <td>0.000000</td>\n",
       "      <td>0.000000</td>\n",
       "      <td>0.000000</td>\n",
       "      <td>0.000000</td>\n",
       "      <td>0.000000</td>\n",
       "      <td>0.000000</td>\n",
       "      <td>0.000000</td>\n",
       "      <td>0.000000</td>\n",
       "      <td>0.000000</td>\n",
       "      <td>0.000000</td>\n",
       "      <td>0.000000</td>\n",
       "      <td>0.000000</td>\n",
       "      <td>0.000000</td>\n",
       "      <td>0.000000</td>\n",
       "      <td>0.000000</td>\n",
       "      <td>0.000000</td>\n",
       "      <td>0.000000</td>\n",
       "      <td>0.000000</td>\n",
       "      <td>0.000000</td>\n",
       "      <td>0.000000</td>\n",
       "      <td>0.000000</td>\n",
       "      <td>0.000000</td>\n",
       "      <td>0.000000</td>\n",
       "      <td>0.000000</td>\n",
       "      <td>0.000000</td>\n",
       "      <td>0.000000</td>\n",
       "      <td>0.000000</td>\n",
       "      <td>0.000000</td>\n",
       "      <td>0.000000</td>\n",
       "      <td>0.000000</td>\n",
       "      <td>0.000000</td>\n",
       "      <td>0.000000</td>\n",
       "      <td>0.000000</td>\n",
       "      <td>0.000000</td>\n",
       "    </tr>\n",
       "    <tr>\n",
       "      <th>25%</th>\n",
       "      <td>0.000000</td>\n",
       "      <td>0.000000</td>\n",
       "      <td>0.000000</td>\n",
       "      <td>0.000000</td>\n",
       "      <td>0.000000</td>\n",
       "      <td>0.000000</td>\n",
       "      <td>0.000000</td>\n",
       "      <td>0.000000</td>\n",
       "      <td>0.000000</td>\n",
       "      <td>0.000000</td>\n",
       "      <td>0.000000</td>\n",
       "      <td>0.000000</td>\n",
       "      <td>0.000000</td>\n",
       "      <td>0.000000</td>\n",
       "      <td>0.000000</td>\n",
       "      <td>0.000000</td>\n",
       "      <td>1.000000</td>\n",
       "      <td>0.000000</td>\n",
       "      <td>0.000000</td>\n",
       "      <td>1.000000</td>\n",
       "      <td>0.000000</td>\n",
       "      <td>0.000000</td>\n",
       "      <td>0.000000</td>\n",
       "      <td>0.000000</td>\n",
       "      <td>0.000000</td>\n",
       "      <td>0.000000</td>\n",
       "      <td>0.000000</td>\n",
       "      <td>0.000000</td>\n",
       "      <td>0.000000</td>\n",
       "      <td>0.000000</td>\n",
       "      <td>0.000000</td>\n",
       "      <td>0.000000</td>\n",
       "      <td>0.000000</td>\n",
       "      <td>0.000000</td>\n",
       "      <td>0.000000</td>\n",
       "      <td>0.343750</td>\n",
       "      <td>0.386141</td>\n",
       "      <td>0.336735</td>\n",
       "      <td>0.135135</td>\n",
       "      <td>0.375000</td>\n",
       "      <td>0.164444</td>\n",
       "      <td>0.333333</td>\n",
       "      <td>0.000000</td>\n",
       "    </tr>\n",
       "    <tr>\n",
       "      <th>50%</th>\n",
       "      <td>1.000000</td>\n",
       "      <td>0.000000</td>\n",
       "      <td>0.000000</td>\n",
       "      <td>0.000000</td>\n",
       "      <td>0.000000</td>\n",
       "      <td>0.000000</td>\n",
       "      <td>0.000000</td>\n",
       "      <td>0.000000</td>\n",
       "      <td>0.000000</td>\n",
       "      <td>0.000000</td>\n",
       "      <td>0.000000</td>\n",
       "      <td>0.000000</td>\n",
       "      <td>0.000000</td>\n",
       "      <td>0.000000</td>\n",
       "      <td>0.000000</td>\n",
       "      <td>0.000000</td>\n",
       "      <td>1.000000</td>\n",
       "      <td>0.000000</td>\n",
       "      <td>0.000000</td>\n",
       "      <td>1.000000</td>\n",
       "      <td>0.000000</td>\n",
       "      <td>0.000000</td>\n",
       "      <td>0.000000</td>\n",
       "      <td>0.000000</td>\n",
       "      <td>0.000000</td>\n",
       "      <td>0.000000</td>\n",
       "      <td>0.000000</td>\n",
       "      <td>0.000000</td>\n",
       "      <td>0.000000</td>\n",
       "      <td>0.000000</td>\n",
       "      <td>0.000000</td>\n",
       "      <td>0.000000</td>\n",
       "      <td>0.000000</td>\n",
       "      <td>0.000000</td>\n",
       "      <td>1.000000</td>\n",
       "      <td>0.468750</td>\n",
       "      <td>0.495363</td>\n",
       "      <td>0.561224</td>\n",
       "      <td>0.243243</td>\n",
       "      <td>0.375000</td>\n",
       "      <td>0.447222</td>\n",
       "      <td>0.333333</td>\n",
       "      <td>0.333333</td>\n",
       "    </tr>\n",
       "    <tr>\n",
       "      <th>75%</th>\n",
       "      <td>1.000000</td>\n",
       "      <td>0.000000</td>\n",
       "      <td>0.000000</td>\n",
       "      <td>1.000000</td>\n",
       "      <td>0.000000</td>\n",
       "      <td>0.000000</td>\n",
       "      <td>0.000000</td>\n",
       "      <td>0.000000</td>\n",
       "      <td>1.000000</td>\n",
       "      <td>0.000000</td>\n",
       "      <td>0.000000</td>\n",
       "      <td>1.000000</td>\n",
       "      <td>0.000000</td>\n",
       "      <td>1.000000</td>\n",
       "      <td>0.000000</td>\n",
       "      <td>1.000000</td>\n",
       "      <td>1.000000</td>\n",
       "      <td>0.000000</td>\n",
       "      <td>0.000000</td>\n",
       "      <td>1.000000</td>\n",
       "      <td>0.000000</td>\n",
       "      <td>0.000000</td>\n",
       "      <td>0.000000</td>\n",
       "      <td>0.000000</td>\n",
       "      <td>0.000000</td>\n",
       "      <td>0.000000</td>\n",
       "      <td>0.000000</td>\n",
       "      <td>0.000000</td>\n",
       "      <td>0.000000</td>\n",
       "      <td>0.000000</td>\n",
       "      <td>0.000000</td>\n",
       "      <td>0.000000</td>\n",
       "      <td>0.000000</td>\n",
       "      <td>0.000000</td>\n",
       "      <td>1.000000</td>\n",
       "      <td>0.562500</td>\n",
       "      <td>0.620814</td>\n",
       "      <td>0.724490</td>\n",
       "      <td>0.243243</td>\n",
       "      <td>0.500000</td>\n",
       "      <td>0.719444</td>\n",
       "      <td>1.000000</td>\n",
       "      <td>0.666667</td>\n",
       "    </tr>\n",
       "    <tr>\n",
       "      <th>max</th>\n",
       "      <td>1.000000</td>\n",
       "      <td>1.000000</td>\n",
       "      <td>1.000000</td>\n",
       "      <td>1.000000</td>\n",
       "      <td>1.000000</td>\n",
       "      <td>1.000000</td>\n",
       "      <td>1.000000</td>\n",
       "      <td>1.000000</td>\n",
       "      <td>1.000000</td>\n",
       "      <td>1.000000</td>\n",
       "      <td>1.000000</td>\n",
       "      <td>1.000000</td>\n",
       "      <td>1.000000</td>\n",
       "      <td>1.000000</td>\n",
       "      <td>1.000000</td>\n",
       "      <td>1.000000</td>\n",
       "      <td>1.000000</td>\n",
       "      <td>1.000000</td>\n",
       "      <td>1.000000</td>\n",
       "      <td>1.000000</td>\n",
       "      <td>1.000000</td>\n",
       "      <td>1.000000</td>\n",
       "      <td>1.000000</td>\n",
       "      <td>1.000000</td>\n",
       "      <td>1.000000</td>\n",
       "      <td>1.000000</td>\n",
       "      <td>1.000000</td>\n",
       "      <td>1.000000</td>\n",
       "      <td>1.000000</td>\n",
       "      <td>1.000000</td>\n",
       "      <td>1.000000</td>\n",
       "      <td>1.000000</td>\n",
       "      <td>1.000000</td>\n",
       "      <td>1.000000</td>\n",
       "      <td>1.000000</td>\n",
       "      <td>1.000000</td>\n",
       "      <td>1.000000</td>\n",
       "      <td>1.000000</td>\n",
       "      <td>1.000000</td>\n",
       "      <td>1.000000</td>\n",
       "      <td>1.000000</td>\n",
       "      <td>1.000000</td>\n",
       "      <td>1.000000</td>\n",
       "    </tr>\n",
       "  </tbody>\n",
       "</table>\n",
       "</div>"
      ],
      "text/plain": [
       "           complete     inside_20      goaltogo       blitz_x         hurry  \\\n",
       "count  12245.000000  12245.000000  12245.000000  12245.000000  12245.000000   \n",
       "mean       0.738097      0.122662      0.053001      0.301919      0.068109   \n",
       "std        0.439688      0.328063      0.224045      0.459109      0.251944   \n",
       "min        0.000000      0.000000      0.000000      0.000000      0.000000   \n",
       "25%        0.000000      0.000000      0.000000      0.000000      0.000000   \n",
       "50%        1.000000      0.000000      0.000000      0.000000      0.000000   \n",
       "75%        1.000000      0.000000      0.000000      1.000000      0.000000   \n",
       "max        1.000000      1.000000      1.000000      1.000000      1.000000   \n",
       "\n",
       "          knockdown   play_action  run_pass_option       blitz_y  \\\n",
       "count  12245.000000  12245.000000     12245.000000  12245.000000   \n",
       "mean       0.075868      0.220580         0.067864      0.301919   \n",
       "std        0.264797      0.414655         0.251523      0.459109   \n",
       "min        0.000000      0.000000         0.000000      0.000000   \n",
       "25%        0.000000      0.000000         0.000000      0.000000   \n",
       "50%        0.000000      0.000000         0.000000      0.000000   \n",
       "75%        0.000000      0.000000         0.000000      1.000000   \n",
       "max        1.000000      1.000000         1.000000      1.000000   \n",
       "\n",
       "       direction_deep middle  direction_deep right  direction_short left  \\\n",
       "count           12245.000000          12245.000000          12245.000000   \n",
       "mean                0.009555              0.026215              0.363740   \n",
       "std                 0.097285              0.159780              0.481095   \n",
       "min                 0.000000              0.000000              0.000000   \n",
       "25%                 0.000000              0.000000              0.000000   \n",
       "50%                 0.000000              0.000000              0.000000   \n",
       "75%                 0.000000              0.000000              1.000000   \n",
       "max                 1.000000              1.000000              1.000000   \n",
       "\n",
       "       direction_short middle  direction_short right  hash_mark_Middle  \\\n",
       "count            12245.000000           12245.000000      12245.000000   \n",
       "mean                 0.197387               0.383177          0.114659   \n",
       "std                  0.398043               0.486181          0.318623   \n",
       "min                  0.000000               0.000000          0.000000   \n",
       "25%                  0.000000               0.000000          0.000000   \n",
       "50%                  0.000000               0.000000          0.000000   \n",
       "75%                  0.000000               1.000000          0.000000   \n",
       "max                  1.000000               1.000000          1.000000   \n",
       "\n",
       "       hash_mark_Right Hash  qb_at_snap_Shotgun  qb_at_snap_Under Center  \\\n",
       "count          12245.000000        12245.000000             12245.000000   \n",
       "mean               0.432258            0.813230                 0.172887   \n",
       "std                0.495410            0.389743                 0.378165   \n",
       "min                0.000000            0.000000                 0.000000   \n",
       "25%                0.000000            1.000000                 0.000000   \n",
       "50%                0.000000            1.000000                 0.000000   \n",
       "75%                1.000000            1.000000                 0.000000   \n",
       "max                1.000000            1.000000                 1.000000   \n",
       "\n",
       "       pocket_location_Boot Right  pocket_location_Middle  \\\n",
       "count                12245.000000            12245.000000   \n",
       "mean                     0.031196                0.884688   \n",
       "std                      0.173855                0.319412   \n",
       "min                      0.000000                0.000000   \n",
       "25%                      0.000000                1.000000   \n",
       "50%                      0.000000                1.000000   \n",
       "75%                      0.000000                1.000000   \n",
       "max                      1.000000                1.000000   \n",
       "\n",
       "       pocket_location_Rollout Left  pocket_location_Rollout Right  \\\n",
       "count                  12245.000000                   12245.000000   \n",
       "mean                       0.005962                       0.029481   \n",
       "std                        0.076984                       0.169159   \n",
       "min                        0.000000                       0.000000   \n",
       "25%                        0.000000                       0.000000   \n",
       "50%                        0.000000                       0.000000   \n",
       "75%                        0.000000                       0.000000   \n",
       "max                        1.000000                       1.000000   \n",
       "\n",
       "       pocket_location_Scramble Left  pocket_location_Scramble Right  \\\n",
       "count                   12245.000000                    12245.000000   \n",
       "mean                        0.009718                        0.026133   \n",
       "std                         0.098105                        0.159538   \n",
       "min                         0.000000                        0.000000   \n",
       "25%                         0.000000                        0.000000   \n",
       "50%                         0.000000                        0.000000   \n",
       "75%                         0.000000                        0.000000   \n",
       "max                         1.000000                        1.000000   \n",
       "\n",
       "       pass_route_Cross  pass_route_Curl  pass_route_Flat  pass_route_Go  \\\n",
       "count      12245.000000     12245.000000     12245.000000   12245.000000   \n",
       "mean           0.100286         0.159085         0.186117       0.047121   \n",
       "std            0.300393         0.365771         0.389217       0.211907   \n",
       "min            0.000000         0.000000         0.000000       0.000000   \n",
       "25%            0.000000         0.000000         0.000000       0.000000   \n",
       "50%            0.000000         0.000000         0.000000       0.000000   \n",
       "75%            0.000000         0.000000         0.000000       0.000000   \n",
       "max            1.000000         1.000000         1.000000       1.000000   \n",
       "\n",
       "       pass_route_Out  pass_route_Slant  pass_route_Underneath Screen  \\\n",
       "count    12245.000000      12245.000000                  12245.000000   \n",
       "mean         0.189873          0.131891                      0.050796   \n",
       "std          0.392217          0.338386                      0.219590   \n",
       "min          0.000000          0.000000                      0.000000   \n",
       "25%          0.000000          0.000000                      0.000000   \n",
       "50%          0.000000          0.000000                      0.000000   \n",
       "75%          0.000000          0.000000                      0.000000   \n",
       "max          1.000000          1.000000                      1.000000   \n",
       "\n",
       "       pass_route_WR Screen  att_dist_deep  att_dist_medium  att_dist_short  \\\n",
       "count          12245.000000   12245.000000     12245.000000    12245.000000   \n",
       "mean               0.069008       0.013965         0.161617        0.625235   \n",
       "std                0.253478       0.117350         0.368114        0.484082   \n",
       "min                0.000000       0.000000         0.000000        0.000000   \n",
       "25%                0.000000       0.000000         0.000000        0.000000   \n",
       "50%                0.000000       0.000000         0.000000        1.000000   \n",
       "75%                0.000000       0.000000         0.000000        1.000000   \n",
       "max                1.000000       1.000000         1.000000        1.000000   \n",
       "\n",
       "          att_yards   pocket_time  yards_to_goal  yards_to_first  \\\n",
       "count  12245.000000  12245.000000   12245.000000    12245.000000   \n",
       "mean       0.477976      0.508344       0.519797        0.210259   \n",
       "std        0.183620      0.174497       0.240305        0.106279   \n",
       "min        0.000000      0.000000       0.000000        0.000000   \n",
       "25%        0.343750      0.386141       0.336735        0.135135   \n",
       "50%        0.468750      0.495363       0.561224        0.243243   \n",
       "75%        0.562500      0.620814       0.724490        0.243243   \n",
       "max        1.000000      1.000000       1.000000        1.000000   \n",
       "\n",
       "       players_rushed  seconds_left_in_half       quarter          down  \n",
       "count    12245.000000          12245.000000  12245.000000  12245.000000  \n",
       "mean         0.410923              0.454252      0.509950      0.293317  \n",
       "std          0.094364              0.307143      0.368359      0.275197  \n",
       "min          0.000000              0.000000      0.000000      0.000000  \n",
       "25%          0.375000              0.164444      0.333333      0.000000  \n",
       "50%          0.375000              0.447222      0.333333      0.333333  \n",
       "75%          0.500000              0.719444      1.000000      0.666667  \n",
       "max          1.000000              1.000000      1.000000      1.000000  "
      ]
     },
     "execution_count": 13,
     "metadata": {},
     "output_type": "execute_result"
    }
   ],
   "source": [
    "df.describe()"
   ]
  },
  {
   "cell_type": "markdown",
   "id": "informed-environment",
   "metadata": {},
   "source": [
    "# Train-Test Split"
   ]
  },
  {
   "cell_type": "code",
   "execution_count": 14,
   "id": "numerical-greene",
   "metadata": {},
   "outputs": [],
   "source": [
    "from sklearn.model_selection import train_test_split as tts\n",
    "\n",
    "X = df.drop(['name', 'complete'], axis=1)\n",
    "y = df['complete']\n",
    "X_train, X_test, y_train, y_test = tts(X, y, test_size=0.2,\n",
    "                                      random_state=123)"
   ]
  },
  {
   "cell_type": "code",
   "execution_count": 15,
   "id": "interim-flour",
   "metadata": {},
   "outputs": [
    {
     "name": "stdout",
     "output_type": "stream",
     "text": [
      "(9796, 42)\n",
      "(2449, 42)\n",
      "(9796,)\n",
      "(2449,)\n"
     ]
    }
   ],
   "source": [
    "print(X_train.shape)\n",
    "print(X_test.shape)\n",
    "print(y_train.shape)\n",
    "print(y_test.shape)"
   ]
  },
  {
   "cell_type": "markdown",
   "id": "unnecessary-attendance",
   "metadata": {},
   "source": [
    "## Defining Helper Functions"
   ]
  },
  {
   "cell_type": "code",
   "execution_count": 16,
   "id": "ahead-biology",
   "metadata": {},
   "outputs": [],
   "source": [
    "def build_model(model, X, y, random_state=123, decision_function=True):\n",
    "    \n",
    "    X_train, X_test, y_train, y_test = tts(X, y, random_state=random_state,\n",
    "                                           test_size=0.2)\n",
    "    model_dict = {}\n",
    "    model.fit(X_train, y_train)\n",
    "    y_pred = model.predict(X_test)\n",
    "    \n",
    "    if decision_function == True:\n",
    "        y_score = model.decision_function(X_test)\n",
    "    else:\n",
    "        y_score = model.predict_proba(X_test)[:, 1]\n",
    "        \n",
    "    fpr, tpr, thresh = roc_curve(y_test, y_score)\n",
    "    \n",
    "    acc = accuracy_score(y_test, y_pred)\n",
    "    pre = precision_score(y_test, y_pred)\n",
    "    rec = recall_score(y_test, y_pred)\n",
    "    f1 = f1_score(y_test, y_pred)\n",
    "    auc_ = auc(fpr,tpr)\n",
    "    params = model.get_params()\n",
    "    cfm = confusion_matrix(y_test, y_pred)\n",
    "    \n",
    "    model_dict['model'] = model\n",
    "    model_dict['y_pred'] = y_pred\n",
    "    model_dict['y_score'] = y_score\n",
    "    model_dict['fpr'] = fpr\n",
    "    model_dict['tpr'] = tpr\n",
    "    model_dict['thresh'] = thresh\n",
    "    model_dict['accuracy'] = acc\n",
    "    model_dict['precision'] = pre\n",
    "    model_dict['recall'] = rec\n",
    "    model_dict['f1'] = f1\n",
    "    model_dict['auc'] = auc_\n",
    "    model_dict['params'] = params\n",
    "    model_dict['cfm'] = cfm\n",
    "    \n",
    "    print(f'Accuracy: {round(acc, 3)}')\n",
    "    print(f'Precision: {round(pre, 3)}')\n",
    "    print(f'Recall: {round(rec, 3)}')\n",
    "    print(f'F1 Score: {round(f1, 3)}')\n",
    "    print(f'AUC: {round(auc_, 3)}')\n",
    "    \n",
    "    return model_dict"
   ]
  },
  {
   "cell_type": "code",
   "execution_count": 17,
   "id": "visible-excuse",
   "metadata": {},
   "outputs": [],
   "source": [
    "def plot_matrix(cfm):\n",
    "    \n",
    "    labels = ['True Neg', 'False Pos', 'False Neg', 'True Pos']\n",
    "    categories = ['Incomplete', 'Complete']\n",
    "    matrix = cm(cfm, group_names=labels, \n",
    "               categories=categories, cbar=False, cmap='Purples')\n",
    "    \n",
    "    return matrix"
   ]
  },
  {
   "cell_type": "markdown",
   "id": "premium-ireland",
   "metadata": {},
   "source": [
    "# Baseline Model"
   ]
  },
  {
   "cell_type": "code",
   "execution_count": 18,
   "id": "mathematical-belarus",
   "metadata": {},
   "outputs": [
    {
     "name": "stdout",
     "output_type": "stream",
     "text": [
      "Accuracy: 0.757\n",
      "Precision: 0.771\n",
      "Recall: 0.96\n",
      "F1 Score: 0.855\n",
      "AUC: 0.69\n"
     ]
    }
   ],
   "source": [
    "from sklearn.linear_model import LogisticRegression\n",
    "\n",
    "baseline_log = build_model(LogisticRegression(random_state=123),X,y)"
   ]
  },
  {
   "cell_type": "code",
   "execution_count": 19,
   "id": "mathematical-collins",
   "metadata": {},
   "outputs": [
    {
     "data": {
      "image/png": "[encoded data removed]",
      "text/plain": [
       "<Figure size 432x288 with 1 Axes>"
      ]
     },
     "metadata": {},
     "output_type": "display_data"
    }
   ],
   "source": [
    "plot_matrix(baseline_log['cfm'])"
   ]
  },
  {
   "cell_type": "markdown",
   "id": "straight-johns",
   "metadata": {},
   "source": [
    "## Determining Feature Importance"
   ]
  },
  {
   "cell_type": "code",
   "execution_count": 20,
   "id": "working-receiver",
   "metadata": {},
   "outputs": [
    {
     "data": {
      "text/plain": [
       "RandomForestClassifier(random_state=123)"
      ]
     },
     "execution_count": 20,
     "metadata": {},
     "output_type": "execute_result"
    }
   ],
   "source": [
    "from sklearn.ensemble import RandomForestClassifier\n",
    "\n",
    "\n",
    "feature_names = X.columns\n",
    "forest = RandomForestClassifier(random_state=123)\n",
    "forest.fit(X_train, y_train)"
   ]
  },
  {
   "cell_type": "code",
   "execution_count": 21,
   "id": "stock-hepatitis",
   "metadata": {
    "scrolled": false
   },
   "outputs": [
    {
     "data": {
      "image/png": "[encoded data removed]",
      "text/plain": [
       "<Figure size 864x576 with 1 Axes>"
      ]
     },
     "metadata": {},
     "output_type": "display_data"
    }
   ],
   "source": [
    "importances = forest.feature_importances_\n",
    "forest_importances = pd.Series(importances, index=feature_names).sort_values(ascending=False)\n",
    "\n",
    "fig, ax = plt.subplots(figsize=(12,8))\n",
    "forest_importances.plot.bar(ax=ax, )\n",
    "\n",
    "fig.tight_layout()"
   ]
  },
  {
   "cell_type": "code",
   "execution_count": 22,
   "id": "taken-lotus",
   "metadata": {},
   "outputs": [
    {
     "data": {
      "text/plain": [
       "Index(['pocket_time', 'seconds_left_in_half', 'yards_to_goal', 'att_yards',\n",
       "       'yards_to_first'],\n",
       "      dtype='object')"
      ]
     },
     "execution_count": 22,
     "metadata": {},
     "output_type": "execute_result"
    }
   ],
   "source": [
    "top5 = forest_importances[:5].keys()\n",
    "top5"
   ]
  },
  {
   "cell_type": "markdown",
   "id": "dominant-radiation",
   "metadata": {},
   "source": [
    "## Logistic Regression Top 5 Features"
   ]
  },
  {
   "cell_type": "code",
   "execution_count": 23,
   "id": "elegant-redhead",
   "metadata": {},
   "outputs": [
    {
     "name": "stdout",
     "output_type": "stream",
     "text": [
      "Accuracy: 0.748\n",
      "Precision: 0.754\n",
      "Recall: 0.983\n",
      "F1 Score: 0.853\n",
      "AUC: 0.64\n"
     ]
    }
   ],
   "source": [
    "top5_log = build_model(LogisticRegression(random_state=123),X[top5],y )"
   ]
  },
  {
   "cell_type": "code",
   "execution_count": 24,
   "id": "proprietary-hypothetical",
   "metadata": {},
   "outputs": [
    {
     "data": {
      "image/png": "[encoded data removed]",
      "text/plain": [
       "<Figure size 432x288 with 1 Axes>"
      ]
     },
     "metadata": {},
     "output_type": "display_data"
    }
   ],
   "source": [
    "plot_matrix(top5_log['cfm'])"
   ]
  },
  {
   "cell_type": "markdown",
   "id": "heated-habitat",
   "metadata": {},
   "source": [
    "## Random Forest Top 5 Features"
   ]
  },
  {
   "cell_type": "code",
   "execution_count": 25,
   "id": "tutorial-anger",
   "metadata": {},
   "outputs": [
    {
     "name": "stdout",
     "output_type": "stream",
     "text": [
      "Accuracy: 0.739\n",
      "Precision: 0.766\n",
      "Recall: 0.937\n",
      "F1 Score: 0.843\n",
      "AUC: 0.64\n"
     ]
    }
   ],
   "source": [
    "top5_rf = build_model(RandomForestClassifier(\n",
    "                                             n_estimators=500,\n",
    "                                             criterion='gini',\n",
    "                                             random_state=123),\n",
    "                      X[top5],y, decision_function=False)"
   ]
  },
  {
   "cell_type": "code",
   "execution_count": 26,
   "id": "preliminary-questionnaire",
   "metadata": {},
   "outputs": [
    {
     "data": {
      "image/png": "[encoded data removed]",
      "text/plain": [
       "<Figure size 432x288 with 1 Axes>"
      ]
     },
     "metadata": {},
     "output_type": "display_data"
    }
   ],
   "source": [
    "plot_matrix(top5_rf['cfm'])"
   ]
  },
  {
   "cell_type": "markdown",
   "id": "chronic-positive",
   "metadata": {},
   "source": [
    "## KNN Top 5 Features"
   ]
  },
  {
   "cell_type": "code",
   "execution_count": 127,
   "id": "accessory-symphony",
   "metadata": {},
   "outputs": [
    {
     "name": "stdout",
     "output_type": "stream",
     "text": [
      "Accuracy: 0.72\n",
      "Precision: 0.772\n",
      "Recall: 0.886\n",
      "F1 Score: 0.825\n",
      "AUC: 0.598\n"
     ]
    }
   ],
   "source": [
    "top5_knn = build_model(KNeighborsClassifier(), X[top5], y, decision_function=False)"
   ]
  },
  {
   "cell_type": "code",
   "execution_count": 128,
   "id": "accepting-myrtle",
   "metadata": {},
   "outputs": [
    {
     "data": {
      "image/png": "[encoded data removed]",
      "text/plain": [
       "<Figure size 432x288 with 1 Axes>"
      ]
     },
     "metadata": {},
     "output_type": "display_data"
    }
   ],
   "source": [
    "plot_matrix(top5_knn['cfm'])"
   ]
  },
  {
   "cell_type": "markdown",
   "id": "maritime-correspondence",
   "metadata": {},
   "source": [
    "## Decision Tree Classifier Top 5 Features"
   ]
  },
  {
   "cell_type": "code",
   "execution_count": 27,
   "id": "african-exhibition",
   "metadata": {
    "scrolled": true
   },
   "outputs": [
    {
     "name": "stdout",
     "output_type": "stream",
     "text": [
      "Accuracy: 0.639\n",
      "Precision: 0.769\n",
      "Recall: 0.739\n",
      "F1 Score: 0.754\n",
      "AUC: 0.541\n"
     ]
    }
   ],
   "source": [
    "from sklearn.tree import DecisionTreeClassifier\n",
    "\n",
    "top5_tree = build_model(DecisionTreeClassifier(\n",
    "                                               random_state=123),\n",
    "                        X[top5], y, decision_function=False)"
   ]
  },
  {
   "cell_type": "code",
   "execution_count": 28,
   "id": "logical-privilege",
   "metadata": {},
   "outputs": [
    {
     "data": {
      "image/png": "[encoded data removed]",
      "text/plain": [
       "<Figure size 432x288 with 1 Axes>"
      ]
     },
     "metadata": {},
     "output_type": "display_data"
    }
   ],
   "source": [
    "plot_matrix(top5_tree['cfm'])"
   ]
  },
  {
   "cell_type": "markdown",
   "id": "worst-arrest",
   "metadata": {},
   "source": [
    "## Gradient Boosting Classifier Top 5 Features"
   ]
  },
  {
   "cell_type": "code",
   "execution_count": 29,
   "id": "chubby-indian",
   "metadata": {},
   "outputs": [
    {
     "name": "stdout",
     "output_type": "stream",
     "text": [
      "Accuracy: 0.732\n",
      "Precision: 0.763\n",
      "Recall: 0.931\n",
      "F1 Score: 0.839\n",
      "AUC: 0.622\n"
     ]
    }
   ],
   "source": [
    "from sklearn.ensemble import GradientBoostingClassifier\n",
    "\n",
    "top5_gb = build_model(GradientBoostingClassifier(random_state=123,\n",
    "                                                 n_estimators=1000),\n",
    "                      X[top5], y)"
   ]
  },
  {
   "cell_type": "code",
   "execution_count": 30,
   "id": "tamil-explosion",
   "metadata": {},
   "outputs": [
    {
     "data": {
      "image/png": "[encoded data removed]",
      "text/plain": [
       "<Figure size 432x288 with 1 Axes>"
      ]
     },
     "metadata": {},
     "output_type": "display_data"
    }
   ],
   "source": [
    "plot_matrix(top5_gb['cfm'])"
   ]
  },
  {
   "cell_type": "markdown",
   "id": "built-money",
   "metadata": {},
   "source": [
    "## AdaBoost Classifier"
   ]
  },
  {
   "cell_type": "code",
   "execution_count": 31,
   "id": "foster-packet",
   "metadata": {
    "scrolled": true
   },
   "outputs": [
    {
     "name": "stdout",
     "output_type": "stream",
     "text": [
      "Accuracy: 0.749\n",
      "Precision: 0.755\n",
      "Recall: 0.984\n",
      "F1 Score: 0.854\n",
      "AUC: 0.655\n"
     ]
    }
   ],
   "source": [
    "from sklearn.ensemble import AdaBoostClassifier\n",
    "\n",
    "top5_ada = build_model(AdaBoostClassifier(random_state=123),\n",
    "                       X[top5], y)"
   ]
  },
  {
   "cell_type": "code",
   "execution_count": 32,
   "id": "heated-aurora",
   "metadata": {},
   "outputs": [
    {
     "data": {
      "image/png": "[encoded data removed]",
      "text/plain": [
       "<Figure size 432x288 with 1 Axes>"
      ]
     },
     "metadata": {},
     "output_type": "display_data"
    }
   ],
   "source": [
    "plot_matrix(top5_ada['cfm'])"
   ]
  },
  {
   "cell_type": "markdown",
   "id": "shared-brook",
   "metadata": {},
   "source": [
    "## XGBoost Classifier Top 5 Features"
   ]
  },
  {
   "cell_type": "code",
   "execution_count": 37,
   "id": "illegal-floating",
   "metadata": {},
   "outputs": [
    {
     "name": "stdout",
     "output_type": "stream",
     "text": [
      "[18:01:01] WARNING: /Users/travis/build/dmlc/xgboost/src/learner.cc:1095: Starting in XGBoost 1.3.0, the default evaluation metric used with the objective 'binary:logistic' was changed from 'error' to 'logloss'. Explicitly set eval_metric if you'd like to restore the old behavior.\n",
      "Accuracy: 0.703\n",
      "Precision: 0.767\n",
      "Recall: 0.864\n",
      "F1 Score: 0.813\n",
      "AUC: 0.597\n"
     ]
    }
   ],
   "source": [
    "import xgboost as xgb\n",
    "\n",
    "top5_xgb = build_model(xgb.XGBClassifier(random_state=123,\n",
    "                                         n_estimators=500),\n",
    "                       X[top5], y, decision_function=False)"
   ]
  },
  {
   "cell_type": "code",
   "execution_count": 38,
   "id": "seven-station",
   "metadata": {},
   "outputs": [
    {
     "data": {
      "image/png": "[encoded data removed]",
      "text/plain": [
       "<Figure size 432x288 with 1 Axes>"
      ]
     },
     "metadata": {},
     "output_type": "display_data"
    }
   ],
   "source": [
    "plot_matrix(top5_xgb['cfm'])"
   ]
  },
  {
   "cell_type": "markdown",
   "id": "happy-issue",
   "metadata": {},
   "source": [
    "# GridSearchCV on Log and Ada Classifiers"
   ]
  },
  {
   "cell_type": "code",
   "execution_count": 47,
   "id": "comparable-moral",
   "metadata": {},
   "outputs": [],
   "source": [
    "X_train, X_test, y_train, y_test = tts(X[top5], y, test_size=0.2, random_state=123)"
   ]
  },
  {
   "cell_type": "code",
   "execution_count": 84,
   "id": "according-teaching",
   "metadata": {
    "scrolled": true
   },
   "outputs": [
    {
     "name": "stderr",
     "output_type": "stream",
     "text": [
      "/Users/scott/opt/anaconda3/envs/py39/lib/python3.9/site-packages/sklearn/model_selection/_search.py:918: UserWarning: One or more of the test scores are non-finite: [0.73581054 0.73581054 0.73581054 0.73581054 0.73581054        nan\n",
      "        nan        nan        nan        nan 0.73581054 0.73581054\n",
      " 0.73581054 0.73581054 0.73581054 0.73581054 0.73581054 0.73581054\n",
      " 0.73581054 0.73581054 0.73581054 0.73581054 0.73581054 0.73581054\n",
      " 0.73581054        nan        nan        nan        nan        nan\n",
      " 0.73581054 0.73581054 0.73581054 0.73581054 0.73581054 0.73581054\n",
      " 0.73581054 0.73581054 0.73581054 0.73581054 0.73581054 0.73581054\n",
      " 0.73581054 0.73581054 0.73581054        nan        nan        nan\n",
      "        nan        nan 0.73581054 0.73581054 0.73581054 0.73581054\n",
      " 0.73581054 0.73581054 0.73581054 0.73581054 0.73581054 0.73581054\n",
      " 0.73581054 0.73581054 0.73581054 0.73581054 0.73581054        nan\n",
      "        nan        nan        nan        nan 0.73581054 0.73581054\n",
      " 0.73581054 0.73581054 0.73581054 0.73581054 0.73581054 0.73581054\n",
      " 0.73581054 0.73581054 0.73581054 0.73581054 0.73581054 0.73581054\n",
      " 0.73581054        nan        nan        nan        nan        nan\n",
      " 0.73581054 0.73581054 0.73581054 0.73581054 0.73581054 0.73581054\n",
      " 0.73581054 0.73581054 0.73581054 0.73581054 0.73581054 0.73581054\n",
      " 0.73581054 0.73581054 0.73581054        nan        nan        nan\n",
      "        nan        nan 0.73581054 0.73581054 0.73581054 0.73581054\n",
      " 0.73581054 0.73581054 0.73581054 0.73581054 0.73581054 0.73581054\n",
      " 0.73581054 0.73581054 0.73581054 0.73581054 0.73581054        nan\n",
      "        nan        nan        nan        nan 0.73581054 0.73581054\n",
      " 0.73581054 0.73581054 0.73581054 0.73581054 0.73581054 0.73581054\n",
      " 0.73581054 0.73581054 0.73581054 0.73581054 0.73581054 0.73581054\n",
      " 0.73581054        nan        nan        nan        nan        nan\n",
      " 0.73581054 0.73581054 0.73581054 0.73581054 0.73581054 0.73581054\n",
      " 0.73581054 0.73581054 0.73581054 0.73581054 0.73581054 0.73581054\n",
      " 0.73581054 0.73581054 0.73581054        nan        nan        nan\n",
      "        nan        nan 0.73581054 0.73581054 0.73581054 0.73581054\n",
      " 0.73581054 0.73581054 0.73581054 0.73581054 0.73581054 0.73581054\n",
      " 0.73581054 0.73581054 0.73581054 0.73581054 0.73581054        nan\n",
      "        nan        nan        nan        nan 0.73581054 0.73581054\n",
      " 0.73581054 0.73581054 0.73581054 0.73581054 0.73581054 0.73581054\n",
      " 0.73581054 0.73581054 0.73581054 0.73581054 0.73581054 0.73581054\n",
      " 0.73581054        nan        nan        nan        nan        nan\n",
      " 0.73581054 0.73581054 0.73581054 0.73581054 0.73581054 0.73581054\n",
      " 0.73581054 0.73581054 0.73581054 0.73581054 0.73581054 0.73581054\n",
      " 0.73581054 0.73581054 0.73581054        nan        nan        nan\n",
      "        nan        nan 0.73581054 0.73581054 0.73581054 0.73581054\n",
      " 0.73581054 0.73581054 0.73581054 0.73581054 0.73581054 0.73581054\n",
      " 0.73519814 0.73489186 0.73540223 0.73591269 0.73366685        nan\n",
      "        nan        nan        nan        nan 0.73550427 0.73560636\n",
      " 0.73550432 0.73591269 0.73581054 0.73478982 0.73478982 0.73478982\n",
      " 0.73489186 0.73489186 0.73519814 0.73489186 0.73540223 0.73591269\n",
      " 0.73366685        nan        nan        nan        nan        nan\n",
      " 0.73550427 0.73560636 0.73550432 0.73591269 0.73581054 0.73478982\n",
      " 0.73478982 0.73478982 0.73489186 0.73489186 0.73519814 0.73489186\n",
      " 0.73540223 0.73591269 0.73366685        nan        nan        nan\n",
      "        nan        nan 0.73550427 0.73560636 0.73550432 0.73591269\n",
      " 0.73581054 0.73478982 0.73478982 0.73478982 0.73489186 0.73489186\n",
      " 0.73519814 0.73489186 0.73540223 0.73591269 0.73366685        nan\n",
      "        nan        nan        nan        nan 0.73550427 0.73560636\n",
      " 0.73550432 0.73591269 0.73581054 0.73478982 0.73478982 0.73478982\n",
      " 0.73489186 0.73489186 0.73519814 0.73489186 0.73540223 0.73591269\n",
      " 0.73366685        nan        nan        nan        nan        nan\n",
      " 0.73550427 0.73560636 0.73550432 0.73591269 0.73581054 0.73478982\n",
      " 0.73478982 0.73478982 0.73489186 0.73489186 0.73519814 0.73489186\n",
      " 0.73540223 0.73591269 0.73366685        nan        nan        nan\n",
      "        nan        nan 0.73550427 0.73560636 0.73550432 0.73591269\n",
      " 0.73581054 0.73478982 0.73478982 0.73478982 0.73489186 0.73489186\n",
      " 0.73397324 0.73407533 0.73407528 0.73570856 0.73305419        nan\n",
      "        nan        nan        nan        nan 0.733769   0.733769\n",
      " 0.73366696 0.73417737 0.73581054 0.73376905 0.73376905 0.73376905\n",
      " 0.73376905 0.73336078 0.73397324 0.73407533 0.73407528 0.73570856\n",
      " 0.73305419        nan        nan        nan        nan        nan\n",
      " 0.733769   0.733769   0.73366696 0.73417737 0.73581054 0.73376905\n",
      " 0.73376905 0.73376905 0.73376905 0.73336078 0.73397324 0.73407533\n",
      " 0.73407528 0.73570856 0.73305419        nan        nan        nan\n",
      "        nan        nan 0.733769   0.733769   0.73366696 0.73417737\n",
      " 0.73581054 0.73376905 0.73376905 0.73376905 0.73376905 0.73336078\n",
      " 0.73397324 0.73407533 0.73407528 0.73570856 0.73305419        nan\n",
      "        nan        nan        nan        nan 0.733769   0.733769\n",
      " 0.73366696 0.73417737 0.73581054 0.73376905 0.73376905 0.73376905\n",
      " 0.73376905 0.73336078 0.73397324 0.73407533 0.73407528 0.73570856\n",
      " 0.73305419        nan        nan        nan        nan        nan\n",
      " 0.733769   0.733769   0.73366696 0.73417737 0.73581054 0.73376905\n",
      " 0.73376905 0.73376905 0.73376905 0.73336078 0.73397324 0.73407533\n",
      " 0.73407528 0.73570856 0.73305419        nan        nan        nan\n",
      "        nan        nan 0.733769   0.733769   0.73366696 0.73417737\n",
      " 0.73581054 0.73376905 0.73376905 0.73376905 0.73376905 0.73336078]\n",
      "  warnings.warn(\n"
     ]
    },
    {
     "data": {
      "text/plain": [
       "{'log__C': 0.1,\n",
       " 'log__max_iter': 50,\n",
       " 'log__penalty': 'l1',\n",
       " 'log__solver': 'liblinear',\n",
       " 'log__tol': 0.1}"
      ]
     },
     "execution_count": 84,
     "metadata": {},
     "output_type": "execute_result"
    }
   ],
   "source": [
    "from sklearn.model_selection import GridSearchCV\n",
    "from sklearn.pipeline import Pipeline\n",
    "\n",
    "log_pipe = Pipeline([('log', LogisticRegression(random_state=123))])\n",
    "\n",
    "param_grid = [\n",
    "    {'log__penalty' : ['l1', 'l2'],\n",
    "     'log__solver' : ['liblinear', 'lbfgs'],\n",
    "     'log__C' : [0.001, 0.01, 0.1, 1],\n",
    "     'log__tol' : [0.0001, 0.001, 0.01, 0.1, 1],\n",
    "     'log__max_iter' : list(range(50, 101, 10))}\n",
    "]\n",
    "\n",
    "\n",
    "gs_log = GridSearchCV(log_pipe, \n",
    "                      param_grid=param_grid,\n",
    "                      scoring='accuracy',\n",
    "                      cv=5, verbose=False, n_jobs=-1)\n",
    "\n",
    "gs_log.fit(X_train, y_train)\n",
    "gs_log.best_params_\n",
    "# best_model = buid_model(clf, X[top5])"
   ]
  },
  {
   "cell_type": "code",
   "execution_count": 81,
   "id": "transsexual-robert",
   "metadata": {},
   "outputs": [
    {
     "data": {
      "text/plain": [
       "0.736014699877501"
      ]
     },
     "execution_count": 81,
     "metadata": {},
     "output_type": "execute_result"
    }
   ],
   "source": [
    "gs_log.score(X_train, y_train)"
   ]
  },
  {
   "cell_type": "code",
   "execution_count": 82,
   "id": "french-worker",
   "metadata": {},
   "outputs": [
    {
     "name": "stdout",
     "output_type": "stream",
     "text": [
      "Accuracy: 0.748\n",
      "Precision: 0.748\n",
      "Recall: 0.999\n",
      "F1 Score: 0.856\n",
      "AUC: 0.623\n"
     ]
    },
    {
     "data": {
      "text/plain": [
       "0.7480604328297265"
      ]
     },
     "execution_count": 82,
     "metadata": {},
     "output_type": "execute_result"
    }
   ],
   "source": [
    "test = build_model(gs_log.best_estimator_, X[top5], y, decision_function=False)\n",
    "test['accuracy']"
   ]
  },
  {
   "cell_type": "code",
   "execution_count": 83,
   "id": "digital-company",
   "metadata": {},
   "outputs": [
    {
     "data": {
      "image/png": "[encoded data removed]",
      "text/plain": [
       "<Figure size 432x288 with 1 Axes>"
      ]
     },
     "metadata": {},
     "output_type": "display_data"
    }
   ],
   "source": [
    "plot_matrix(test['cfm'])"
   ]
  },
  {
   "cell_type": "markdown",
   "id": "backed-crazy",
   "metadata": {},
   "source": [
    "Gridsearch models are returning near perfect recall scores. The models are heavily favoring the positive cases."
   ]
  },
  {
   "cell_type": "markdown",
   "id": "danish-context",
   "metadata": {},
   "source": [
    "# Dealing With Class Imbalance Using SMOTE"
   ]
  },
  {
   "cell_type": "code",
   "execution_count": 98,
   "id": "addressed-porter",
   "metadata": {},
   "outputs": [],
   "source": [
    "from imblearn.over_sampling import SMOTE"
   ]
  },
  {
   "cell_type": "code",
   "execution_count": 129,
   "id": "intended-disclaimer",
   "metadata": {},
   "outputs": [],
   "source": [
    "smote = SMOTE()\n",
    "X_smote, y_smote = smote.fit_resample(X[top5],y)"
   ]
  },
  {
   "cell_type": "code",
   "execution_count": 133,
   "id": "regular-ending",
   "metadata": {},
   "outputs": [
    {
     "data": {
      "text/plain": [
       "1.0    0.738097\n",
       "0.0    0.261903\n",
       "Name: complete, dtype: float64"
      ]
     },
     "execution_count": 133,
     "metadata": {},
     "output_type": "execute_result"
    }
   ],
   "source": [
    "y.value_counts(normalize=True)"
   ]
  },
  {
   "cell_type": "code",
   "execution_count": 134,
   "id": "grand-spending",
   "metadata": {},
   "outputs": [
    {
     "data": {
      "text/plain": [
       "0.0    0.5\n",
       "1.0    0.5\n",
       "Name: complete, dtype: float64"
      ]
     },
     "execution_count": 134,
     "metadata": {},
     "output_type": "execute_result"
    }
   ],
   "source": [
    "y_smote.value_counts(normalize=True)"
   ]
  },
  {
   "cell_type": "code",
   "execution_count": 132,
   "id": "mounted-finnish",
   "metadata": {},
   "outputs": [
    {
     "name": "stdout",
     "output_type": "stream",
     "text": [
      "Accuracy: 0.809\n",
      "Precision: 0.796\n",
      "Recall: 0.83\n",
      "F1 Score: 0.813\n",
      "AUC: 0.886\n"
     ]
    },
    {
     "data": {
      "image/png": "[encoded data removed]",
      "text/plain": [
       "<Figure size 432x288 with 1 Axes>"
      ]
     },
     "metadata": {},
     "output_type": "display_data"
    }
   ],
   "source": [
    "rf_smote = build_model(RandomForestClassifier(),\n",
    "                X_smote, y_smote, decision_function=False)\n",
    "plot_matrix(rf_smote['cfm'])"
   ]
  },
  {
   "cell_type": "code",
   "execution_count": 136,
   "id": "pharmaceutical-inquiry",
   "metadata": {},
   "outputs": [
    {
     "name": "stdout",
     "output_type": "stream",
     "text": [
      "Accuracy: 0.595\n",
      "Precision: 0.591\n",
      "Recall: 0.611\n",
      "F1 Score: 0.601\n",
      "AUC: 0.636\n"
     ]
    },
    {
     "data": {
      "image/png": "[encoded data removed]",
      "text/plain": [
       "<Figure size 432x288 with 1 Axes>"
      ]
     },
     "metadata": {},
     "output_type": "display_data"
    }
   ],
   "source": [
    "log_smote = build_model(LogisticRegression(random_state=123),\n",
    "                        X_smote, y_smote)\n",
    "plot_matrix(log_smote['cfm'])"
   ]
  },
  {
   "cell_type": "code",
   "execution_count": 146,
   "id": "streaming-character",
   "metadata": {},
   "outputs": [
    {
     "data": {
      "text/plain": [
       "{'bootstrap': True,\n",
       " 'ccp_alpha': 0.0,\n",
       " 'class_weight': None,\n",
       " 'criterion': 'gini',\n",
       " 'max_depth': None,\n",
       " 'max_features': 'auto',\n",
       " 'max_leaf_nodes': None,\n",
       " 'max_samples': None,\n",
       " 'min_impurity_decrease': 0.0,\n",
       " 'min_impurity_split': None,\n",
       " 'min_samples_leaf': 1,\n",
       " 'min_samples_split': 2,\n",
       " 'min_weight_fraction_leaf': 0.0,\n",
       " 'n_estimators': 100,\n",
       " 'n_jobs': None,\n",
       " 'oob_score': False,\n",
       " 'random_state': None,\n",
       " 'verbose': 0,\n",
       " 'warm_start': False}"
      ]
     },
     "execution_count": 146,
     "metadata": {},
     "output_type": "execute_result"
    }
   ],
   "source": [
    "rf_smote['params']"
   ]
  },
  {
   "cell_type": "code",
   "execution_count": 152,
   "id": "listed-sharing",
   "metadata": {},
   "outputs": [
    {
     "name": "stdout",
     "output_type": "stream",
     "text": [
      "Fitting 3 folds for each of 100 candidates, totalling 300 fits\n"
     ]
    },
    {
     "ename": "ValueError",
     "evalue": "Expected 2D array, got 1D array instead:\narray=[0. 0. 1. ... 1. 1. 0.].\nReshape your data either using array.reshape(-1, 1) if your data has a single feature or array.reshape(1, -1) if it contains a single sample.",
     "output_type": "error",
     "traceback": [
      "\u001b[0;31m---------------------------------------------------------------------------\u001b[0m",
      "\u001b[0;31mValueError\u001b[0m                                Traceback (most recent call last)",
      "\u001b[0;32m<ipython-input-152-fb3dc3aefcc3>\u001b[0m in \u001b[0;36m<module>\u001b[0;34m\u001b[0m\n\u001b[1;32m     26\u001b[0m \u001b[0mrf_random\u001b[0m\u001b[0;34m.\u001b[0m\u001b[0mfit\u001b[0m\u001b[0;34m(\u001b[0m\u001b[0mX_trainSM\u001b[0m\u001b[0;34m,\u001b[0m \u001b[0my_trainSM\u001b[0m\u001b[0;34m)\u001b[0m\u001b[0;34m\u001b[0m\u001b[0;34m\u001b[0m\u001b[0m\n\u001b[1;32m     27\u001b[0m \u001b[0mpred\u001b[0m \u001b[0;34m=\u001b[0m \u001b[0mrf_random\u001b[0m\u001b[0;34m.\u001b[0m\u001b[0mpredict\u001b[0m\u001b[0;34m(\u001b[0m\u001b[0mX_testSM\u001b[0m\u001b[0;34m)\u001b[0m\u001b[0;34m\u001b[0m\u001b[0;34m\u001b[0m\u001b[0m\n\u001b[0;32m---> 28\u001b[0;31m \u001b[0mrf_random\u001b[0m\u001b[0;34m.\u001b[0m\u001b[0mscore\u001b[0m\u001b[0;34m(\u001b[0m\u001b[0my_testSM\u001b[0m\u001b[0;34m,\u001b[0m \u001b[0mpred\u001b[0m\u001b[0;34m)\u001b[0m\u001b[0;34m\u001b[0m\u001b[0;34m\u001b[0m\u001b[0m\n\u001b[0m",
      "\u001b[0;32m~/opt/anaconda3/envs/py39/lib/python3.9/site-packages/sklearn/model_selection/_search.py\u001b[0m in \u001b[0;36mscore\u001b[0;34m(self, X, y)\u001b[0m\n\u001b[1;32m    484\u001b[0m \u001b[0;34m\u001b[0m\u001b[0m\n\u001b[1;32m    485\u001b[0m         \u001b[0;31m# callable\u001b[0m\u001b[0;34m\u001b[0m\u001b[0;34m\u001b[0m\u001b[0;34m\u001b[0m\u001b[0m\n\u001b[0;32m--> 486\u001b[0;31m         \u001b[0mscore\u001b[0m \u001b[0;34m=\u001b[0m \u001b[0mself\u001b[0m\u001b[0;34m.\u001b[0m\u001b[0mscorer_\u001b[0m\u001b[0;34m(\u001b[0m\u001b[0mself\u001b[0m\u001b[0;34m.\u001b[0m\u001b[0mbest_estimator_\u001b[0m\u001b[0;34m,\u001b[0m \u001b[0mX\u001b[0m\u001b[0;34m,\u001b[0m \u001b[0my\u001b[0m\u001b[0;34m)\u001b[0m\u001b[0;34m\u001b[0m\u001b[0;34m\u001b[0m\u001b[0m\n\u001b[0m\u001b[1;32m    487\u001b[0m         \u001b[0;32mif\u001b[0m \u001b[0mself\u001b[0m\u001b[0;34m.\u001b[0m\u001b[0mmultimetric_\u001b[0m\u001b[0;34m:\u001b[0m\u001b[0;34m\u001b[0m\u001b[0;34m\u001b[0m\u001b[0m\n\u001b[1;32m    488\u001b[0m             \u001b[0mscore\u001b[0m \u001b[0;34m=\u001b[0m \u001b[0mscore\u001b[0m\u001b[0;34m[\u001b[0m\u001b[0mself\u001b[0m\u001b[0;34m.\u001b[0m\u001b[0mrefit\u001b[0m\u001b[0;34m]\u001b[0m\u001b[0;34m\u001b[0m\u001b[0;34m\u001b[0m\u001b[0m\n",
      "\u001b[0;32m~/opt/anaconda3/envs/py39/lib/python3.9/site-packages/sklearn/metrics/_scorer.py\u001b[0m in \u001b[0;36m__call__\u001b[0;34m(self, estimator, X, y_true, sample_weight)\u001b[0m\n\u001b[1;32m    197\u001b[0m             \u001b[0mScore\u001b[0m \u001b[0mfunction\u001b[0m \u001b[0mapplied\u001b[0m \u001b[0mto\u001b[0m \u001b[0mprediction\u001b[0m \u001b[0mof\u001b[0m \u001b[0mestimator\u001b[0m \u001b[0mon\u001b[0m \u001b[0mX\u001b[0m\u001b[0;34m.\u001b[0m\u001b[0;34m\u001b[0m\u001b[0;34m\u001b[0m\u001b[0m\n\u001b[1;32m    198\u001b[0m         \"\"\"\n\u001b[0;32m--> 199\u001b[0;31m         return self._score(partial(_cached_call, None), estimator, X, y_true,\n\u001b[0m\u001b[1;32m    200\u001b[0m                            sample_weight=sample_weight)\n\u001b[1;32m    201\u001b[0m \u001b[0;34m\u001b[0m\u001b[0m\n",
      "\u001b[0;32m~/opt/anaconda3/envs/py39/lib/python3.9/site-packages/sklearn/metrics/_scorer.py\u001b[0m in \u001b[0;36m_score\u001b[0;34m(self, method_caller, estimator, X, y_true, sample_weight)\u001b[0m\n\u001b[1;32m    234\u001b[0m         \"\"\"\n\u001b[1;32m    235\u001b[0m \u001b[0;34m\u001b[0m\u001b[0m\n\u001b[0;32m--> 236\u001b[0;31m         \u001b[0my_pred\u001b[0m \u001b[0;34m=\u001b[0m \u001b[0mmethod_caller\u001b[0m\u001b[0;34m(\u001b[0m\u001b[0mestimator\u001b[0m\u001b[0;34m,\u001b[0m \u001b[0;34m\"predict\"\u001b[0m\u001b[0;34m,\u001b[0m \u001b[0mX\u001b[0m\u001b[0;34m)\u001b[0m\u001b[0;34m\u001b[0m\u001b[0;34m\u001b[0m\u001b[0m\n\u001b[0m\u001b[1;32m    237\u001b[0m         \u001b[0;32mif\u001b[0m \u001b[0msample_weight\u001b[0m \u001b[0;32mis\u001b[0m \u001b[0;32mnot\u001b[0m \u001b[0;32mNone\u001b[0m\u001b[0;34m:\u001b[0m\u001b[0;34m\u001b[0m\u001b[0;34m\u001b[0m\u001b[0m\n\u001b[1;32m    238\u001b[0m             return self._sign * self._score_func(y_true, y_pred,\n",
      "\u001b[0;32m~/opt/anaconda3/envs/py39/lib/python3.9/site-packages/sklearn/metrics/_scorer.py\u001b[0m in \u001b[0;36m_cached_call\u001b[0;34m(cache, estimator, method, *args, **kwargs)\u001b[0m\n\u001b[1;32m     51\u001b[0m     \u001b[0;34m\"\"\"Call estimator with method and args and kwargs.\"\"\"\u001b[0m\u001b[0;34m\u001b[0m\u001b[0;34m\u001b[0m\u001b[0m\n\u001b[1;32m     52\u001b[0m     \u001b[0;32mif\u001b[0m \u001b[0mcache\u001b[0m \u001b[0;32mis\u001b[0m \u001b[0;32mNone\u001b[0m\u001b[0;34m:\u001b[0m\u001b[0;34m\u001b[0m\u001b[0;34m\u001b[0m\u001b[0m\n\u001b[0;32m---> 53\u001b[0;31m         \u001b[0;32mreturn\u001b[0m \u001b[0mgetattr\u001b[0m\u001b[0;34m(\u001b[0m\u001b[0mestimator\u001b[0m\u001b[0;34m,\u001b[0m \u001b[0mmethod\u001b[0m\u001b[0;34m)\u001b[0m\u001b[0;34m(\u001b[0m\u001b[0;34m*\u001b[0m\u001b[0margs\u001b[0m\u001b[0;34m,\u001b[0m \u001b[0;34m**\u001b[0m\u001b[0mkwargs\u001b[0m\u001b[0;34m)\u001b[0m\u001b[0;34m\u001b[0m\u001b[0;34m\u001b[0m\u001b[0m\n\u001b[0m\u001b[1;32m     54\u001b[0m \u001b[0;34m\u001b[0m\u001b[0m\n\u001b[1;32m     55\u001b[0m     \u001b[0;32mtry\u001b[0m\u001b[0;34m:\u001b[0m\u001b[0;34m\u001b[0m\u001b[0;34m\u001b[0m\u001b[0m\n",
      "\u001b[0;32m~/opt/anaconda3/envs/py39/lib/python3.9/site-packages/sklearn/ensemble/_forest.py\u001b[0m in \u001b[0;36mpredict\u001b[0;34m(self, X)\u001b[0m\n\u001b[1;32m    628\u001b[0m             \u001b[0mThe\u001b[0m \u001b[0mpredicted\u001b[0m \u001b[0mclasses\u001b[0m\u001b[0;34m.\u001b[0m\u001b[0;34m\u001b[0m\u001b[0;34m\u001b[0m\u001b[0m\n\u001b[1;32m    629\u001b[0m         \"\"\"\n\u001b[0;32m--> 630\u001b[0;31m         \u001b[0mproba\u001b[0m \u001b[0;34m=\u001b[0m \u001b[0mself\u001b[0m\u001b[0;34m.\u001b[0m\u001b[0mpredict_proba\u001b[0m\u001b[0;34m(\u001b[0m\u001b[0mX\u001b[0m\u001b[0;34m)\u001b[0m\u001b[0;34m\u001b[0m\u001b[0;34m\u001b[0m\u001b[0m\n\u001b[0m\u001b[1;32m    631\u001b[0m \u001b[0;34m\u001b[0m\u001b[0m\n\u001b[1;32m    632\u001b[0m         \u001b[0;32mif\u001b[0m \u001b[0mself\u001b[0m\u001b[0;34m.\u001b[0m\u001b[0mn_outputs_\u001b[0m \u001b[0;34m==\u001b[0m \u001b[0;36m1\u001b[0m\u001b[0;34m:\u001b[0m\u001b[0;34m\u001b[0m\u001b[0;34m\u001b[0m\u001b[0m\n",
      "\u001b[0;32m~/opt/anaconda3/envs/py39/lib/python3.9/site-packages/sklearn/ensemble/_forest.py\u001b[0m in \u001b[0;36mpredict_proba\u001b[0;34m(self, X)\u001b[0m\n\u001b[1;32m    672\u001b[0m         \u001b[0mcheck_is_fitted\u001b[0m\u001b[0;34m(\u001b[0m\u001b[0mself\u001b[0m\u001b[0;34m)\u001b[0m\u001b[0;34m\u001b[0m\u001b[0;34m\u001b[0m\u001b[0m\n\u001b[1;32m    673\u001b[0m         \u001b[0;31m# Check data\u001b[0m\u001b[0;34m\u001b[0m\u001b[0;34m\u001b[0m\u001b[0;34m\u001b[0m\u001b[0m\n\u001b[0;32m--> 674\u001b[0;31m         \u001b[0mX\u001b[0m \u001b[0;34m=\u001b[0m \u001b[0mself\u001b[0m\u001b[0;34m.\u001b[0m\u001b[0m_validate_X_predict\u001b[0m\u001b[0;34m(\u001b[0m\u001b[0mX\u001b[0m\u001b[0;34m)\u001b[0m\u001b[0;34m\u001b[0m\u001b[0;34m\u001b[0m\u001b[0m\n\u001b[0m\u001b[1;32m    675\u001b[0m \u001b[0;34m\u001b[0m\u001b[0m\n\u001b[1;32m    676\u001b[0m         \u001b[0;31m# Assign chunk of trees to jobs\u001b[0m\u001b[0;34m\u001b[0m\u001b[0;34m\u001b[0m\u001b[0;34m\u001b[0m\u001b[0m\n",
      "\u001b[0;32m~/opt/anaconda3/envs/py39/lib/python3.9/site-packages/sklearn/ensemble/_forest.py\u001b[0m in \u001b[0;36m_validate_X_predict\u001b[0;34m(self, X)\u001b[0m\n\u001b[1;32m    420\u001b[0m         \u001b[0mcheck_is_fitted\u001b[0m\u001b[0;34m(\u001b[0m\u001b[0mself\u001b[0m\u001b[0;34m)\u001b[0m\u001b[0;34m\u001b[0m\u001b[0;34m\u001b[0m\u001b[0m\n\u001b[1;32m    421\u001b[0m \u001b[0;34m\u001b[0m\u001b[0m\n\u001b[0;32m--> 422\u001b[0;31m         \u001b[0;32mreturn\u001b[0m \u001b[0mself\u001b[0m\u001b[0;34m.\u001b[0m\u001b[0mestimators_\u001b[0m\u001b[0;34m[\u001b[0m\u001b[0;36m0\u001b[0m\u001b[0;34m]\u001b[0m\u001b[0;34m.\u001b[0m\u001b[0m_validate_X_predict\u001b[0m\u001b[0;34m(\u001b[0m\u001b[0mX\u001b[0m\u001b[0;34m,\u001b[0m \u001b[0mcheck_input\u001b[0m\u001b[0;34m=\u001b[0m\u001b[0;32mTrue\u001b[0m\u001b[0;34m)\u001b[0m\u001b[0;34m\u001b[0m\u001b[0;34m\u001b[0m\u001b[0m\n\u001b[0m\u001b[1;32m    423\u001b[0m \u001b[0;34m\u001b[0m\u001b[0m\n\u001b[1;32m    424\u001b[0m     \u001b[0;34m@\u001b[0m\u001b[0mproperty\u001b[0m\u001b[0;34m\u001b[0m\u001b[0;34m\u001b[0m\u001b[0m\n",
      "\u001b[0;32m~/opt/anaconda3/envs/py39/lib/python3.9/site-packages/sklearn/tree/_classes.py\u001b[0m in \u001b[0;36m_validate_X_predict\u001b[0;34m(self, X, check_input)\u001b[0m\n\u001b[1;32m    400\u001b[0m         \u001b[0;34m\"\"\"Validate the training data on predict (probabilities).\"\"\"\u001b[0m\u001b[0;34m\u001b[0m\u001b[0;34m\u001b[0m\u001b[0m\n\u001b[1;32m    401\u001b[0m         \u001b[0;32mif\u001b[0m \u001b[0mcheck_input\u001b[0m\u001b[0;34m:\u001b[0m\u001b[0;34m\u001b[0m\u001b[0;34m\u001b[0m\u001b[0m\n\u001b[0;32m--> 402\u001b[0;31m             X = self._validate_data(X, dtype=DTYPE, accept_sparse=\"csr\",\n\u001b[0m\u001b[1;32m    403\u001b[0m                                     reset=False)\n\u001b[1;32m    404\u001b[0m             if issparse(X) and (X.indices.dtype != np.intc or\n",
      "\u001b[0;32m~/opt/anaconda3/envs/py39/lib/python3.9/site-packages/sklearn/base.py\u001b[0m in \u001b[0;36m_validate_data\u001b[0;34m(self, X, y, reset, validate_separately, **check_params)\u001b[0m\n\u001b[1;32m    419\u001b[0m             \u001b[0mout\u001b[0m \u001b[0;34m=\u001b[0m \u001b[0mX\u001b[0m\u001b[0;34m\u001b[0m\u001b[0;34m\u001b[0m\u001b[0m\n\u001b[1;32m    420\u001b[0m         \u001b[0;32melif\u001b[0m \u001b[0misinstance\u001b[0m\u001b[0;34m(\u001b[0m\u001b[0my\u001b[0m\u001b[0;34m,\u001b[0m \u001b[0mstr\u001b[0m\u001b[0;34m)\u001b[0m \u001b[0;32mand\u001b[0m \u001b[0my\u001b[0m \u001b[0;34m==\u001b[0m \u001b[0;34m'no_validation'\u001b[0m\u001b[0;34m:\u001b[0m\u001b[0;34m\u001b[0m\u001b[0;34m\u001b[0m\u001b[0m\n\u001b[0;32m--> 421\u001b[0;31m             \u001b[0mX\u001b[0m \u001b[0;34m=\u001b[0m \u001b[0mcheck_array\u001b[0m\u001b[0;34m(\u001b[0m\u001b[0mX\u001b[0m\u001b[0;34m,\u001b[0m \u001b[0;34m**\u001b[0m\u001b[0mcheck_params\u001b[0m\u001b[0;34m)\u001b[0m\u001b[0;34m\u001b[0m\u001b[0;34m\u001b[0m\u001b[0m\n\u001b[0m\u001b[1;32m    422\u001b[0m             \u001b[0mout\u001b[0m \u001b[0;34m=\u001b[0m \u001b[0mX\u001b[0m\u001b[0;34m\u001b[0m\u001b[0;34m\u001b[0m\u001b[0m\n\u001b[1;32m    423\u001b[0m         \u001b[0;32melse\u001b[0m\u001b[0;34m:\u001b[0m\u001b[0;34m\u001b[0m\u001b[0;34m\u001b[0m\u001b[0m\n",
      "\u001b[0;32m~/opt/anaconda3/envs/py39/lib/python3.9/site-packages/sklearn/utils/validation.py\u001b[0m in \u001b[0;36minner_f\u001b[0;34m(*args, **kwargs)\u001b[0m\n\u001b[1;32m     61\u001b[0m             \u001b[0mextra_args\u001b[0m \u001b[0;34m=\u001b[0m \u001b[0mlen\u001b[0m\u001b[0;34m(\u001b[0m\u001b[0margs\u001b[0m\u001b[0;34m)\u001b[0m \u001b[0;34m-\u001b[0m \u001b[0mlen\u001b[0m\u001b[0;34m(\u001b[0m\u001b[0mall_args\u001b[0m\u001b[0;34m)\u001b[0m\u001b[0;34m\u001b[0m\u001b[0;34m\u001b[0m\u001b[0m\n\u001b[1;32m     62\u001b[0m             \u001b[0;32mif\u001b[0m \u001b[0mextra_args\u001b[0m \u001b[0;34m<=\u001b[0m \u001b[0;36m0\u001b[0m\u001b[0;34m:\u001b[0m\u001b[0;34m\u001b[0m\u001b[0;34m\u001b[0m\u001b[0m\n\u001b[0;32m---> 63\u001b[0;31m                 \u001b[0;32mreturn\u001b[0m \u001b[0mf\u001b[0m\u001b[0;34m(\u001b[0m\u001b[0;34m*\u001b[0m\u001b[0margs\u001b[0m\u001b[0;34m,\u001b[0m \u001b[0;34m**\u001b[0m\u001b[0mkwargs\u001b[0m\u001b[0;34m)\u001b[0m\u001b[0;34m\u001b[0m\u001b[0;34m\u001b[0m\u001b[0m\n\u001b[0m\u001b[1;32m     64\u001b[0m \u001b[0;34m\u001b[0m\u001b[0m\n\u001b[1;32m     65\u001b[0m             \u001b[0;31m# extra_args > 0\u001b[0m\u001b[0;34m\u001b[0m\u001b[0;34m\u001b[0m\u001b[0;34m\u001b[0m\u001b[0m\n",
      "\u001b[0;32m~/opt/anaconda3/envs/py39/lib/python3.9/site-packages/sklearn/utils/validation.py\u001b[0m in \u001b[0;36mcheck_array\u001b[0;34m(array, accept_sparse, accept_large_sparse, dtype, order, copy, force_all_finite, ensure_2d, allow_nd, ensure_min_samples, ensure_min_features, estimator)\u001b[0m\n\u001b[1;32m    635\u001b[0m             \u001b[0;31m# If input is 1D raise error\u001b[0m\u001b[0;34m\u001b[0m\u001b[0;34m\u001b[0m\u001b[0;34m\u001b[0m\u001b[0m\n\u001b[1;32m    636\u001b[0m             \u001b[0;32mif\u001b[0m \u001b[0marray\u001b[0m\u001b[0;34m.\u001b[0m\u001b[0mndim\u001b[0m \u001b[0;34m==\u001b[0m \u001b[0;36m1\u001b[0m\u001b[0;34m:\u001b[0m\u001b[0;34m\u001b[0m\u001b[0;34m\u001b[0m\u001b[0m\n\u001b[0;32m--> 637\u001b[0;31m                 raise ValueError(\n\u001b[0m\u001b[1;32m    638\u001b[0m                     \u001b[0;34m\"Expected 2D array, got 1D array instead:\\narray={}.\\n\"\u001b[0m\u001b[0;34m\u001b[0m\u001b[0;34m\u001b[0m\u001b[0m\n\u001b[1;32m    639\u001b[0m                     \u001b[0;34m\"Reshape your data either using array.reshape(-1, 1) if \"\u001b[0m\u001b[0;34m\u001b[0m\u001b[0;34m\u001b[0m\u001b[0m\n",
      "\u001b[0;31mValueError\u001b[0m: Expected 2D array, got 1D array instead:\narray=[0. 0. 1. ... 1. 1. 0.].\nReshape your data either using array.reshape(-1, 1) if your data has a single feature or array.reshape(1, -1) if it contains a single sample."
     ]
    }
   ],
   "source": [
    "from sklearn.model_selection import RandomizedSearchCV\n",
    "\n",
    "n_estimators = list(range(100,1001,100))\n",
    "max_features = ['auto', 'sqrt']\n",
    "max_depth = list(range(10,111,10))\n",
    "min_samples_split = [2,5,10]\n",
    "min_samples_leaf = [1,2,4]\n",
    "bootstrap = ['True', 'False']\n",
    "\n",
    "random_grid = {'n_estimators': n_estimators,\n",
    "               'max_features': max_features,\n",
    "               'max_depth': max_depth,\n",
    "               'min_samples_split': min_samples_split,\n",
    "               'min_samples_leaf': min_samples_leaf,\n",
    "               'bootstrap': bootstrap}\n",
    "\n",
    "rf = RandomForestClassifier()\n",
    "\n",
    "rf_random = RandomizedSearchCV(estimator=rf,\n",
    "                               param_distributions=random_grid,\n",
    "                               n_iter = 100,\n",
    "                               cv = 3,\n",
    "                               verbose = 1,\n",
    "                               n_jobs = -1,\n",
    "                               scoring = 'accuracy')\n",
    "rf_random.fit(X_trainSM, y_trainSM)\n",
    "# pred = rf_random.predict(X_testSM)\n",
    "# rf_random.score(y_testSM, pred)"
   ]
  },
  {
   "cell_type": "code",
   "execution_count": 169,
   "id": "expected-wallpaper",
   "metadata": {},
   "outputs": [
    {
     "data": {
      "text/plain": [
       "{'n_estimators': 500,\n",
       " 'min_samples_split': 2,\n",
       " 'min_samples_leaf': 1,\n",
       " 'max_features': 'auto',\n",
       " 'max_depth': 90,\n",
       " 'bootstrap': 'False'}"
      ]
     },
     "execution_count": 169,
     "metadata": {},
     "output_type": "execute_result"
    }
   ],
   "source": [
    "rf_random.best_params_"
   ]
  },
  {
   "cell_type": "code",
   "execution_count": 164,
   "id": "intensive-adams",
   "metadata": {
    "scrolled": true
   },
   "outputs": [
    {
     "name": "stdout",
     "output_type": "stream",
     "text": [
      "Accuracy: 0.815\n",
      "Precision: 0.797\n",
      "Recall: 0.844\n",
      "F1 Score: 0.82\n",
      "AUC: 0.889\n"
     ]
    },
    {
     "data": {
      "text/plain": [
       "{'model': RandomForestClassifier(bootstrap='False', max_depth=30, max_features='sqrt',\n",
       "                        n_estimators=500),\n",
       " 'y_pred': array([1., 0., 1., ..., 0., 1., 0.]),\n",
       " 'y_score': array([0.6745458 , 0.328     , 0.76962791, ..., 0.428     , 0.55859561,\n",
       "        0.128     ]),\n",
       " 'fpr': array([0.        , 0.        , 0.        , ..., 0.99392265, 0.99889503,\n",
       "        1.        ]),\n",
       " 'tpr': array([0.00000000e+00, 5.53709856e-04, 1.10741971e-03, ...,\n",
       "        1.00000000e+00, 1.00000000e+00, 1.00000000e+00]),\n",
       " 'thresh': array([1.99800000e+00, 9.98000000e-01, 9.94000000e-01, ...,\n",
       "        6.00000000e-03, 1.42857143e-04, 0.00000000e+00]),\n",
       " 'accuracy': 0.8149889380530974,\n",
       " 'precision': 0.7971772085729221,\n",
       " 'recall': 0.844407530454042,\n",
       " 'f1': 0.8201129335842969,\n",
       " 'auc': 0.8894538157033338,\n",
       " 'params': {'bootstrap': 'False',\n",
       "  'ccp_alpha': 0.0,\n",
       "  'class_weight': None,\n",
       "  'criterion': 'gini',\n",
       "  'max_depth': 30,\n",
       "  'max_features': 'sqrt',\n",
       "  'max_leaf_nodes': None,\n",
       "  'max_samples': None,\n",
       "  'min_impurity_decrease': 0.0,\n",
       "  'min_impurity_split': None,\n",
       "  'min_samples_leaf': 1,\n",
       "  'min_samples_split': 2,\n",
       "  'min_weight_fraction_leaf': 0.0,\n",
       "  'n_estimators': 500,\n",
       "  'n_jobs': None,\n",
       "  'oob_score': False,\n",
       "  'random_state': None,\n",
       "  'verbose': 0,\n",
       "  'warm_start': False},\n",
       " 'cfm': array([[1422,  388],\n",
       "        [ 281, 1525]])}"
      ]
     },
     "execution_count": 164,
     "metadata": {},
     "output_type": "execute_result"
    }
   ],
   "source": [
    "rf_smoteCV = build_model(rf_random.best_estimator_, X_smote, y_smote, decision_function=False)\n",
    "rf_smoteCV"
   ]
  },
  {
   "cell_type": "code",
   "execution_count": 165,
   "id": "attempted-gateway",
   "metadata": {},
   "outputs": [
    {
     "data": {
      "image/png": "[encoded data removed]",
      "text/plain": [
       "<Figure size 432x288 with 1 Axes>"
      ]
     },
     "metadata": {},
     "output_type": "display_data"
    }
   ],
   "source": [
    "plot_matrix(rf_smoteCV['cfm'])"
   ]
  },
  {
   "cell_type": "code",
   "execution_count": 179,
   "id": "minimal-bridges",
   "metadata": {},
   "outputs": [
    {
     "data": {
      "text/plain": [
       "{'bootstrap': 'False',\n",
       " 'ccp_alpha': 0.0,\n",
       " 'class_weight': None,\n",
       " 'criterion': 'gini',\n",
       " 'max_depth': 30,\n",
       " 'max_features': 'sqrt',\n",
       " 'max_leaf_nodes': None,\n",
       " 'max_samples': None,\n",
       " 'min_impurity_decrease': 0.0,\n",
       " 'min_impurity_split': None,\n",
       " 'min_samples_leaf': 1,\n",
       " 'min_samples_split': 2,\n",
       " 'min_weight_fraction_leaf': 0.0,\n",
       " 'n_estimators': 500,\n",
       " 'n_jobs': None,\n",
       " 'oob_score': False,\n",
       " 'random_state': None,\n",
       " 'verbose': 0,\n",
       " 'warm_start': False}"
      ]
     },
     "execution_count": 179,
     "metadata": {},
     "output_type": "execute_result"
    }
   ],
   "source": [
    "rf_smoteCV['params']"
   ]
  },
  {
   "cell_type": "code",
   "execution_count": 173,
   "id": "refined-anatomy",
   "metadata": {},
   "outputs": [
    {
     "name": "stdout",
     "output_type": "stream",
     "text": [
      "              precision    recall  f1-score   support\n",
      "\n",
      "         0.0       0.83      0.79      0.81      1810\n",
      "         1.0       0.80      0.84      0.82      1806\n",
      "\n",
      "    accuracy                           0.81      3616\n",
      "   macro avg       0.81      0.81      0.81      3616\n",
      "weighted avg       0.81      0.81      0.81      3616\n",
      "\n"
     ]
    }
   ],
   "source": [
    "model = rf_smoteCV['model']\n",
    "model.fit(X_trainSM, y_trainSM)\n",
    "pred = model.predict(X_testSM)\n",
    "print(classification_report(y_testSM, pred))"
   ]
  },
  {
   "cell_type": "code",
   "execution_count": 176,
   "id": "russian-prior",
   "metadata": {},
   "outputs": [
    {
     "data": {
      "text/plain": [
       "(3616, 2)"
      ]
     },
     "execution_count": 176,
     "metadata": {},
     "output_type": "execute_result"
    }
   ],
   "source": [
    "model.predict_proba(X_testSM).shape"
   ]
  },
  {
   "cell_type": "code",
   "execution_count": 181,
   "id": "brown-cherry",
   "metadata": {},
   "outputs": [
    {
     "data": {
      "text/plain": [
       "(3616,)"
      ]
     },
     "execution_count": 181,
     "metadata": {},
     "output_type": "execute_result"
    }
   ],
   "source": [
    "model.predict(X_testSM).shape"
   ]
  },
  {
   "cell_type": "code",
   "execution_count": null,
   "id": "limiting-subdivision",
   "metadata": {},
   "outputs": [],
   "source": []
  }
 ],
 "metadata": {
  "kernelspec": {
   "display_name": "Python 3",
   "language": "python",
   "name": "python3"
  },
  "language_info": {
   "codemirror_mode": {
    "name": "ipython",
    "version": 3
   },
   "file_extension": ".py",
   "mimetype": "text/x-python",
   "name": "python",
   "nbconvert_exporter": "python",
   "pygments_lexer": "ipython3",
   "version": "3.9.2"
  }
 },
 "nbformat": 4,
 "nbformat_minor": 5
}
