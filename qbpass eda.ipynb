{
 "cells": [
  {
   "cell_type": "code",
   "execution_count": 1,
   "id": "external-construction",
   "metadata": {},
   "outputs": [],
   "source": [
    "from bs4 import BeautifulSoup\n",
    "import requests\n",
    "import pandas as pd\n",
    "import numpy as np\n",
    "import json\n",
    "import matplotlib.pyplot as plt\n",
    "%matplotlib inline\n",
    "import seaborn as sns\n",
    "sns.set_style('darkgrid')\n",
    "\n",
    "import ast\n",
    "\n",
    "pd.set_option('display.max_columns', None)"
   ]
  },
  {
   "cell_type": "code",
   "execution_count": 2,
   "id": "boring-specialist",
   "metadata": {},
   "outputs": [],
   "source": [
    "def corr_(df, n = 0.85, x = 1):\n",
    "    '''\n",
    "    \n",
    "    Input - df: dataframe\n",
    "            n: lower limit of correlation\n",
    "            x: upper limit of correlation\n",
    "            \n",
    "    Output - dataframe with correlated pairs and correlation values\n",
    "    \n",
    "    '''\n",
    "    df_cc=df.corr().abs().stack().reset_index().sort_values(0, ascending=False)\n",
    "    df_cc['pairs'] = list(zip(df_cc.level_0, df_cc.level_1))\n",
    "    df_cc.set_index(['pairs'], inplace = True)\n",
    "    df_cc.drop(columns=['level_1', 'level_0'], inplace = True)\n",
    "    df_cc.columns = ['cc']\n",
    "    df_cc.drop_duplicates(inplace=True)\n",
    "    \n",
    "    return df_cc[(df_cc['cc'] > n) & (df_cc['cc'] < x)]\n",
    "\n",
    "def find_outlier(df, feature):\n",
    "    q1 = df[feature].quantile(0.25)\n",
    "    q3 = df[feature].quantile(0.75)\n",
    "    iqr = q3 - q1\n",
    "    lower = q1-(iqr*1.5)\n",
    "    upper = q3+(iqr*1.5)\n",
    "    return iqr, lower, upper\n",
    "\n",
    "def convert_game_clock(row):\n",
    "    raw_game_clock = row['clock']\n",
    "    quarter = int(row['quarter'])\n",
    "    game_clock = raw_game_clock.split(':')\n",
    "    minutes = game_clock[0]\n",
    "    seconds = game_clock[1]\n",
    "    seconds_left_in_quarter = int(seconds) + (int(minutes) * 60)\n",
    "    \n",
    "    if quarter == 1 or quarter == 3:\n",
    "        return seconds_left_in_quarter + 900\n",
    "    elif quarter == 2 or quarter == 4:\n",
    "        return seconds_left_in_quarter\n",
    "    \n",
    "    \n",
    "def make_table(data, groups, agg=['sum', 'count']):\n",
    "\n",
    "    data = data.groupby(groups).agg(agg)['complete']\n",
    "    data['pct'] = data['sum']/data['count']\n",
    "    return data"
   ]
  },
  {
   "cell_type": "code",
   "execution_count": 3,
   "id": "increased-mongolia",
   "metadata": {},
   "outputs": [],
   "source": [
    "df = pd.read_csv('./Data/all_dfs.csv', index_col=0)"
   ]
  },
  {
   "cell_type": "code",
   "execution_count": 4,
   "id": "running-strength",
   "metadata": {},
   "outputs": [
    {
     "data": {
      "text/plain": [
       "(13693, 36)"
      ]
     },
     "execution_count": 4,
     "metadata": {},
     "output_type": "execute_result"
    }
   ],
   "source": [
    "df.shape"
   ]
  },
  {
   "cell_type": "code",
   "execution_count": 5,
   "id": "verified-nepal",
   "metadata": {},
   "outputs": [
    {
     "data": {
      "text/plain": [
       "nullified            13691\n",
       "result               13685\n",
       "interception         13437\n",
       "touchdown            13111\n",
       "incompletion_type     9641\n",
       "yards                 4052\n",
       "complete               256\n",
       "direction               11\n",
       "pocket_time              2\n",
       "firstdown                2\n",
       "att_yards                1\n",
       "pass_route               0\n",
       "pocket_location          0\n",
       "down                     0\n",
       "players_rushed           0\n",
       "qb_at_snap               0\n",
       "season                   0\n",
       "blitz_y                  0\n",
       "run_pass_option          0\n",
       "play_action              0\n",
       "hash_mark                0\n",
       "yards_to_first           0\n",
       "name                     0\n",
       "quarter                  0\n",
       "clock                    0\n",
       "end_location             0\n",
       "team                     0\n",
       "sequence                 0\n",
       "batted_pass              0\n",
       "on_target_throw          0\n",
       "knockdown                0\n",
       "hurry                    0\n",
       "blitz_x                  0\n",
       "goaltogo                 0\n",
       "inside_20                0\n",
       "start_location           0\n",
       "dtype: int64"
      ]
     },
     "execution_count": 5,
     "metadata": {},
     "output_type": "execute_result"
    }
   ],
   "source": [
    "df.isna().sum().sort_values(ascending=False)"
   ]
  },
  {
   "cell_type": "markdown",
   "id": "solid-shirt",
   "metadata": {},
   "source": [
    "- nullified --> was play null --> drop\n",
    "- result --> qb tackled after play --> drop\n",
    "- interception --> change nan to 0\n",
    "- touchdown --> change nan to 0\n",
    "- incompletion type --> change to 'complete'\n",
    "- yards --> change nan to 0 --> will most likely use att_yards for qb accuracy\n",
    "- complete --> change nan to 0\n",
    "- direction --> drop 11 nans\n",
    "- firstdown and pocket_time --> drop 2 nans\n",
    "- att_yards --> drop single missing\n"
   ]
  },
  {
   "cell_type": "code",
   "execution_count": 6,
   "id": "saving-consciousness",
   "metadata": {},
   "outputs": [],
   "source": [
    "drop_cols = ['nullified', 'result']\n",
    "make_zero = ['interception', 'touchdown', 'yards', 'complete']\n",
    "drop_ind = df.loc[(df['direction'].isna()) |\n",
    "                  (df['firstdown'].isna()) |\n",
    "                  (df['att_yards'].isna())].index\n",
    "\n",
    "df.drop(drop_cols, axis=1, inplace=True)\n",
    "df.drop(drop_ind, axis=0, inplace=True)\n",
    "\n",
    "for col in make_zero:\n",
    "    df[col].fillna(value=0, inplace=True)\n",
    "    \n",
    "df['incompletion_type'].fillna(value='Complete', inplace=True)"
   ]
  },
  {
   "cell_type": "code",
   "execution_count": 7,
   "id": "southeast-monthly",
   "metadata": {},
   "outputs": [],
   "source": [
    "df = df.sort_values('name').reset_index(drop=True)"
   ]
  },
  {
   "cell_type": "code",
   "execution_count": 8,
   "id": "simple-explanation",
   "metadata": {
    "scrolled": true
   },
   "outputs": [],
   "source": [
    "qb_attempts = {}\n",
    "for n in df['name']:\n",
    "    k = n\n",
    "    if k not in qb_attempts.keys():\n",
    "        v = len(df.loc[df['name'] == k])\n",
    "        qb_attempts[k] = v\n",
    "    else:\n",
    "        continue\n",
    "        \n",
    "qb_attempts = sorted(qb_attempts.items(), key=lambda item: item[1])"
   ]
  },
  {
   "cell_type": "code",
   "execution_count": 9,
   "id": "contemporary-algeria",
   "metadata": {},
   "outputs": [],
   "source": [
    "low_throw_count = []\n",
    "for qb, passes in qb_attempts:\n",
    "    if passes <= 10:\n",
    "        low_throw_count.append(qb)"
   ]
  },
  {
   "cell_type": "code",
   "execution_count": 10,
   "id": "pediatric-organic",
   "metadata": {},
   "outputs": [],
   "source": [
    "df = df.drop(index=df.loc[df['name'].isin(low_throw_count)].index)"
   ]
  },
  {
   "cell_type": "code",
   "execution_count": 11,
   "id": "equal-circle",
   "metadata": {},
   "outputs": [],
   "source": [
    "def yards_to_goal(row):\n",
    "    if row['start_location']['alias'] == row['team']:\n",
    "        return 100 - row['start_location']['yardline']\n",
    "    else:\n",
    "        return row['start_location']['yardline']"
   ]
  },
  {
   "cell_type": "code",
   "execution_count": 12,
   "id": "studied-amino",
   "metadata": {},
   "outputs": [],
   "source": [
    "df['start_location'] = df['start_location'].map(lambda x: ast.literal_eval(x))"
   ]
  },
  {
   "cell_type": "code",
   "execution_count": 13,
   "id": "elect-fruit",
   "metadata": {},
   "outputs": [],
   "source": [
    "df['yards_to_goal'] = df.apply(yards_to_goal, axis=1)\n",
    "ytg = df.pop('yards_to_goal')\n",
    "df.insert(22, 'yards_to_goal', ytg)"
   ]
  },
  {
   "cell_type": "markdown",
   "id": "intense-engine",
   "metadata": {},
   "source": [
    "## First Look\n",
    "\n",
    "- a model that always predicts a complete pass will be correct 70% of the time\n",
    "- last year's longest pass play went for 92 yards\n",
    "    - longest pass in air is 60 yards\n",
    "- most incomplete passes are due to poorly thrown balls"
   ]
  },
  {
   "cell_type": "code",
   "execution_count": 14,
   "id": "hired-matrix",
   "metadata": {},
   "outputs": [
    {
     "data": {
      "text/plain": [
       "Complete         0.705115\n",
       "Poorly Thrown    0.154481\n",
       "Pass Defended    0.093087\n",
       "Dropped Pass     0.044885\n",
       "Thrown Away      0.002432\n",
       "Name: incompletion_type, dtype: float64"
      ]
     },
     "execution_count": 14,
     "metadata": {},
     "output_type": "execute_result"
    }
   ],
   "source": [
    "df['incompletion_type'].value_counts(normalize=True)"
   ]
  },
  {
   "cell_type": "code",
   "execution_count": 15,
   "id": "checked-shipping",
   "metadata": {},
   "outputs": [
    {
     "data": {
      "image/png": "[encoded data removed]",
      "text/plain": [
       "<Figure size 360x360 with 1 Axes>"
      ]
     },
     "metadata": {},
     "output_type": "display_data"
    }
   ],
   "source": [
    "sns.catplot(x='complete', kind='count', data=df,\n",
    "            orient='h', height=5, aspect=1);"
   ]
  },
  {
   "cell_type": "markdown",
   "id": "exposed-match",
   "metadata": {},
   "source": [
    "### Matching `pass_route` with Conventional WR Route Tree Terms"
   ]
  },
  {
   "cell_type": "markdown",
   "id": "lightweight-treasury",
   "metadata": {},
   "source": [
    "<img src='./Images/route_tree.png' width=\"300\" height=\"300\">"
   ]
  },
  {
   "cell_type": "markdown",
   "id": "everyday-clinton",
   "metadata": {},
   "source": [
    "### Route Tree Definitions\n",
    "- Flat(Flat): short yardage; 3 yd break; to sideline\n",
    "- Slant(Slant): short yardage; 3 yd break; slant towards middle of field\n",
    "- Comeback(Comeback): medium yardage; 10 yd break; angle back towards sideline\n",
    "- Curl(Curl): medium yardage; 10 yd break; angle back towards middle of field\n",
    "- Out(Out): medium yardage; 10 yd break; towards sideline\n",
    "- In/Dig(?): medium yardage; 10 yd break; towards middle of field\n",
    "- Corner(?): med/long yardage; 10 yd break; angle forward towards sideline\n",
    "- Post(Cross): med/long yardage; 10 yd break; angle forward towards middle of field\n",
    "- Fade/Go(Go): long yardage; no break; run to endzone"
   ]
  },
  {
   "cell_type": "code",
   "execution_count": 16,
   "id": "formed-river",
   "metadata": {},
   "outputs": [
    {
     "data": {
      "text/plain": [
       "short right     4827\n",
       "short left      4546\n",
       "short middle    2454\n",
       "deep right       770\n",
       "deep left        679\n",
       "deep middle      292\n",
       "Name: direction, dtype: int64"
      ]
     },
     "execution_count": 16,
     "metadata": {},
     "output_type": "execute_result"
    }
   ],
   "source": [
    "df['direction'].value_counts()"
   ]
  },
  {
   "cell_type": "code",
   "execution_count": 17,
   "id": "historic-cholesterol",
   "metadata": {},
   "outputs": [
    {
     "data": {
      "text/plain": [
       "Go          536\n",
       "Out         109\n",
       "Comeback     46\n",
       "Cross        32\n",
       "Curl         28\n",
       "Slant        19\n",
       "Name: pass_route, dtype: int64"
      ]
     },
     "execution_count": 17,
     "metadata": {},
     "output_type": "execute_result"
    }
   ],
   "source": [
    "df.loc[df['direction'] == 'deep right', 'pass_route'].value_counts()"
   ]
  },
  {
   "cell_type": "code",
   "execution_count": 18,
   "id": "alpha-agent",
   "metadata": {},
   "outputs": [
    {
     "data": {
      "text/plain": [
       "count    2430.000000\n",
       "mean        7.016461\n",
       "std         5.094227\n",
       "min        -5.000000\n",
       "25%         4.000000\n",
       "50%         5.000000\n",
       "75%        10.000000\n",
       "max        48.000000\n",
       "Name: att_yards, dtype: float64"
      ]
     },
     "execution_count": 18,
     "metadata": {},
     "output_type": "execute_result"
    }
   ],
   "source": [
    "df.loc[df['pass_route'] == 'Out', 'att_yards'].describe()"
   ]
  },
  {
   "cell_type": "markdown",
   "id": "indie-niagara",
   "metadata": {},
   "source": [
    "It seems like `pass_route` cannot be used to accurately convey where the quarterback was trying to throw. This could be due to multiple factors including:\n",
    "1. Broken play\n",
    "2. Scramble\n",
    "3. Collapsed pocket\n",
    "\n",
    "In order to determine the different areas that the quarterbacks targetted, we will be using `att_yards` to determine the distance of the throw as well as `direction` to determine the area of the field that was targetted."
   ]
  },
  {
   "cell_type": "code",
   "execution_count": 19,
   "id": "photographic-reservoir",
   "metadata": {},
   "outputs": [
    {
     "data": {
      "text/plain": [
       "count    13568.000000\n",
       "mean         6.477889\n",
       "std          9.630834\n",
       "min        -11.000000\n",
       "25%          1.000000\n",
       "50%          4.000000\n",
       "75%          9.000000\n",
       "max         60.000000\n",
       "Name: att_yards, dtype: float64"
      ]
     },
     "execution_count": 19,
     "metadata": {},
     "output_type": "execute_result"
    }
   ],
   "source": [
    "df['att_yards'].describe()"
   ]
  },
  {
   "cell_type": "code",
   "execution_count": 20,
   "id": "varied-spelling",
   "metadata": {},
   "outputs": [
    {
     "data": {
      "text/plain": [
       "<AxesSubplot:>"
      ]
     },
     "execution_count": 20,
     "metadata": {},
     "output_type": "execute_result"
    },
    {
     "data": {
      "image/png": "[encoded data removed]",
      "text/plain": [
       "<Figure size 432x288 with 1 Axes>"
      ]
     },
     "metadata": {},
     "output_type": "display_data"
    }
   ],
   "source": [
    "df['att_yards'].hist(bins='auto')"
   ]
  },
  {
   "cell_type": "markdown",
   "id": "white-lexington",
   "metadata": {},
   "source": [
    "## Outliers"
   ]
  },
  {
   "cell_type": "code",
   "execution_count": 21,
   "id": "dedicated-sweet",
   "metadata": {},
   "outputs": [
    {
     "data": {
      "text/plain": [
       "<AxesSubplot:>"
      ]
     },
     "execution_count": 21,
     "metadata": {},
     "output_type": "execute_result"
    },
    {
     "data": {
      "image/png": "[encoded data removed]",
      "text/plain": [
       "<Figure size 360x720 with 1 Axes>"
      ]
     },
     "metadata": {},
     "output_type": "display_data"
    }
   ],
   "source": [
    "df.boxplot(column='att_yards', figsize=(5,10))"
   ]
  },
  {
   "cell_type": "code",
   "execution_count": 22,
   "id": "collective-dylan",
   "metadata": {},
   "outputs": [
    {
     "data": {
      "text/plain": [
       "<AxesSubplot:>"
      ]
     },
     "execution_count": 22,
     "metadata": {},
     "output_type": "execute_result"
    },
    {
     "data": {
      "image/png": "[encoded data removed]",
      "text/plain": [
       "<Figure size 432x288 with 1 Axes>"
      ]
     },
     "metadata": {},
     "output_type": "display_data"
    }
   ],
   "source": [
    "df['att_yards'].hist(bins='auto')"
   ]
  },
  {
   "cell_type": "code",
   "execution_count": 23,
   "id": "affected-black",
   "metadata": {},
   "outputs": [
    {
     "data": {
      "text/plain": [
       "(8.0, -11.0, 21.0)"
      ]
     },
     "execution_count": 23,
     "metadata": {},
     "output_type": "execute_result"
    }
   ],
   "source": [
    "find_outlier(df, 'att_yards')"
   ]
  },
  {
   "cell_type": "code",
   "execution_count": 24,
   "id": "protected-lease",
   "metadata": {},
   "outputs": [
    {
     "name": "stdout",
     "output_type": "stream",
     "text": [
      "Removing outliers results in 7.46% data loss\n"
     ]
    }
   ],
   "source": [
    "pct_outlier = len(df.loc[df['att_yards'] > 21]) / len(df)\n",
    "print(f'Removing outliers results in {round(pct_outlier*100,2)}% data loss')"
   ]
  },
  {
   "cell_type": "code",
   "execution_count": 25,
   "id": "perfect-grounds",
   "metadata": {},
   "outputs": [],
   "source": [
    "df = df.loc[df['att_yards'] <= 21]"
   ]
  },
  {
   "cell_type": "code",
   "execution_count": 26,
   "id": "incorrect-resource",
   "metadata": {},
   "outputs": [
    {
     "data": {
      "text/plain": [
       "<AxesSubplot:>"
      ]
     },
     "execution_count": 26,
     "metadata": {},
     "output_type": "execute_result"
    },
    {
     "data": {
      "image/png": "[encoded data removed]",
      "text/plain": [
       "<Figure size 432x288 with 1 Axes>"
      ]
     },
     "metadata": {},
     "output_type": "display_data"
    }
   ],
   "source": [
    "df['pocket_time'].hist(bins='auto')"
   ]
  },
  {
   "cell_type": "code",
   "execution_count": 27,
   "id": "fifteen-muscle",
   "metadata": {},
   "outputs": [
    {
     "data": {
      "text/plain": [
       "(0.9510000000000001, 0.3474999999999999, 4.1515)"
      ]
     },
     "execution_count": 27,
     "metadata": {},
     "output_type": "execute_result"
    }
   ],
   "source": [
    "find_outlier(df, 'pocket_time')"
   ]
  },
  {
   "cell_type": "code",
   "execution_count": 28,
   "id": "approved-jurisdiction",
   "metadata": {},
   "outputs": [
    {
     "name": "stdout",
     "output_type": "stream",
     "text": [
      "Removing outliers results in 2.48% data loss\n"
     ]
    }
   ],
   "source": [
    "pct_outlier = len(df.loc[df['pocket_time'] > 4.1515]) / len(df)\n",
    "print(f'Removing outliers results in {round(pct_outlier*100,2)}% data loss')"
   ]
  },
  {
   "cell_type": "code",
   "execution_count": 29,
   "id": "appreciated-rogers",
   "metadata": {},
   "outputs": [],
   "source": [
    "df = df.loc[df['pocket_time'] < 4.1515]"
   ]
  },
  {
   "cell_type": "code",
   "execution_count": 30,
   "id": "judicial-kingdom",
   "metadata": {},
   "outputs": [],
   "source": [
    "df['seconds_left_in_half'] = df.apply(convert_game_clock, axis=1)"
   ]
  },
  {
   "cell_type": "code",
   "execution_count": 31,
   "id": "friendly-dragon",
   "metadata": {},
   "outputs": [],
   "source": [
    "repeating_cols = ['season', 'sequence']\n",
    "df.drop(repeating_cols, axis=1, inplace=True)"
   ]
  },
  {
   "cell_type": "code",
   "execution_count": 32,
   "id": "consecutive-period",
   "metadata": {},
   "outputs": [],
   "source": [
    "drop_cols = ['team', 'start_location', 'end_location', 'clock']\n",
    "df.drop(drop_cols, axis=1, inplace=True)"
   ]
  },
  {
   "cell_type": "code",
   "execution_count": 33,
   "id": "undefined-daily",
   "metadata": {},
   "outputs": [
    {
     "data": {
      "text/html": [
       "<div>\n",
       "<style scoped>\n",
       "    .dataframe tbody tr th:only-of-type {\n",
       "        vertical-align: middle;\n",
       "    }\n",
       "\n",
       "    .dataframe tbody tr th {\n",
       "        vertical-align: top;\n",
       "    }\n",
       "\n",
       "    .dataframe thead th {\n",
       "        text-align: right;\n",
       "    }\n",
       "</style>\n",
       "<table border=\"1\" class=\"dataframe\">\n",
       "  <thead>\n",
       "    <tr style=\"text-align: right;\">\n",
       "      <th></th>\n",
       "      <th>cc</th>\n",
       "    </tr>\n",
       "    <tr>\n",
       "      <th>pairs</th>\n",
       "      <th></th>\n",
       "    </tr>\n",
       "  </thead>\n",
       "  <tbody>\n",
       "    <tr>\n",
       "      <th>(complete, on_target_throw)</th>\n",
       "      <td>0.804859</td>\n",
       "    </tr>\n",
       "  </tbody>\n",
       "</table>\n",
       "</div>"
      ],
      "text/plain": [
       "                                   cc\n",
       "pairs                                \n",
       "(complete, on_target_throw)  0.804859"
      ]
     },
     "execution_count": 33,
     "metadata": {},
     "output_type": "execute_result"
    }
   ],
   "source": [
    "corr_(df, 0.8)"
   ]
  },
  {
   "cell_type": "code",
   "execution_count": 34,
   "id": "divided-jason",
   "metadata": {},
   "outputs": [],
   "source": [
    "df.drop('on_target_throw', axis=1, inplace=True)"
   ]
  },
  {
   "cell_type": "code",
   "execution_count": 35,
   "id": "adapted-orchestra",
   "metadata": {
    "scrolled": true
   },
   "outputs": [
    {
     "name": "stdout",
     "output_type": "stream",
     "text": [
      "short right\n",
      "Min: -10.0\n",
      "Max: 15.0\n",
      "\n",
      "\n",
      "short middle\n",
      "Min: -8.0\n",
      "Max: 15.0\n",
      "\n",
      "\n",
      "short left\n",
      "Min: -11.0\n",
      "Max: 19.0\n",
      "\n",
      "\n",
      "deep middle\n",
      "Min: 16.0\n",
      "Max: 21.0\n",
      "\n",
      "\n",
      "deep right\n",
      "Min: 10.0\n",
      "Max: 21.0\n",
      "\n",
      "\n",
      "deep left\n",
      "Min: 7.0\n",
      "Max: 21.0\n",
      "\n",
      "\n"
     ]
    }
   ],
   "source": [
    "for direc in df['direction'].unique():\n",
    "    print(direc)\n",
    "    print(f'Min: {min(df.loc[df[\"direction\"] == direc, \"att_yards\"])}')\n",
    "    print(f'Max: {max(df.loc[df[\"direction\"] == direc, \"att_yards\"])}')\n",
    "    print('\\n')\n",
    "    "
   ]
  },
  {
   "cell_type": "code",
   "execution_count": 36,
   "id": "sorted-complaint",
   "metadata": {},
   "outputs": [],
   "source": [
    "short = df.loc[df['direction'].str.contains('short')]\n",
    "deep = df.loc[df['direction'].str.contains('deep')]"
   ]
  },
  {
   "cell_type": "code",
   "execution_count": 37,
   "id": "packed-rating",
   "metadata": {},
   "outputs": [
    {
     "data": {
      "text/plain": [
       "<seaborn.axisgrid.FacetGrid at 0x160997ca0>"
      ]
     },
     "execution_count": 37,
     "metadata": {},
     "output_type": "execute_result"
    },
    {
     "data": {
      "image/png": "[encoded data removed]",
      "text/plain": [
       "<Figure size 450.875x360 with 1 Axes>"
      ]
     },
     "metadata": {},
     "output_type": "display_data"
    }
   ],
   "source": [
    "sns.displot(df, x='att_yards', hue='direction', kind='ecdf')"
   ]
  },
  {
   "cell_type": "markdown",
   "id": "ordinary-smith",
   "metadata": {},
   "source": [
    "The cut-off for `short` and `deep` passes seem to be right around the 15 yard mark. We can categorize each pass as `behind`, `short`, `medium`, or `deep` by binning `att_yards` in discrete intervals."
   ]
  },
  {
   "cell_type": "code",
   "execution_count": 38,
   "id": "manual-speaking",
   "metadata": {},
   "outputs": [],
   "source": [
    "att_dist = pd.cut(df['att_yards'],\n",
    "                  bins=[-12, -1, 9, 19, 100],\n",
    "                  labels=['behind', 'short', 'medium', 'deep'])\n",
    "df = df.assign(att_dist=att_dist)"
   ]
  },
  {
   "cell_type": "code",
   "execution_count": 39,
   "id": "western-bleeding",
   "metadata": {},
   "outputs": [
    {
     "data": {
      "text/plain": [
       "<seaborn.axisgrid.FacetGrid at 0x15ff90460>"
      ]
     },
     "execution_count": 39,
     "metadata": {},
     "output_type": "execute_result"
    },
    {
     "data": {
      "image/png": "[encoded data removed]",
      "text/plain": [
       "<Figure size 935.75x432 with 1 Axes>"
      ]
     },
     "metadata": {},
     "output_type": "display_data"
    }
   ],
   "source": [
    "sns.displot(df, x='att_yards', hue='att_dist',\n",
    "            height=6, aspect=2, stat='probability')"
   ]
  },
  {
   "cell_type": "code",
   "execution_count": 40,
   "id": "moral-fashion",
   "metadata": {},
   "outputs": [
    {
     "data": {
      "text/plain": [
       "<seaborn.axisgrid.FacetGrid at 0x160f9e190>"
      ]
     },
     "execution_count": 40,
     "metadata": {},
     "output_type": "execute_result"
    },
    {
     "data": {
      "image/png": "[encoded data removed]",
      "text/plain": [
       "<Figure size 576x2592 with 9 Axes>"
      ]
     },
     "metadata": {},
     "output_type": "display_data"
    }
   ],
   "source": [
    "sns.displot(df, x='down', row='pass_route', height=4, aspect=2)"
   ]
  },
  {
   "cell_type": "code",
   "execution_count": 41,
   "id": "central-mobile",
   "metadata": {
    "scrolled": false
   },
   "outputs": [
    {
     "data": {
      "text/plain": [
       "<seaborn.axisgrid.FacetGrid at 0x160163f70>"
      ]
     },
     "execution_count": 41,
     "metadata": {},
     "output_type": "execute_result"
    },
    {
     "data": {
      "image/png": "[encoded data removed]",
      "text/plain": [
       "<Figure size 1080x360 with 1 Axes>"
      ]
     },
     "metadata": {},
     "output_type": "display_data"
    }
   ],
   "source": [
    "# plt.figure(figsize=(20,15));\n",
    "sns.catplot(x='pass_route', kind='count', data=df, orient='h',\n",
    "            height=5, aspect=3)"
   ]
  },
  {
   "cell_type": "code",
   "execution_count": 42,
   "id": "ordered-grain",
   "metadata": {},
   "outputs": [
    {
     "data": {
      "text/plain": [
       "<AxesSubplot:xlabel='pass_route', ylabel='yards'>"
      ]
     },
     "execution_count": 42,
     "metadata": {},
     "output_type": "execute_result"
    },
    {
     "data": {
      "image/png": "[encoded data removed]",
      "text/plain": [
       "<Figure size 1152x864 with 1 Axes>"
      ]
     },
     "metadata": {},
     "output_type": "display_data"
    }
   ],
   "source": [
    "plt.figure(figsize=(16,12))\n",
    "sns.boxplot(data=df, x='pass_route', y='yards')"
   ]
  },
  {
   "cell_type": "markdown",
   "id": "metric-favorite",
   "metadata": {},
   "source": [
    "# EDA\n",
    "## Question 1\n",
    "\n",
    "What is the relationship between the 9 different passing routes and the attempted yards for each route?"
   ]
  },
  {
   "cell_type": "code",
   "execution_count": 43,
   "id": "changed-partnership",
   "metadata": {
    "scrolled": false
   },
   "outputs": [
    {
     "data": {
      "image/png": "[encoded data removed]",
      "text/plain": [
       "<Figure size 1152x864 with 1 Axes>"
      ]
     },
     "metadata": {},
     "output_type": "display_data"
    },
    {
     "data": {
      "text/plain": [
       "<Figure size 432x288 with 0 Axes>"
      ]
     },
     "metadata": {},
     "output_type": "display_data"
    }
   ],
   "source": [
    "plt.figure(figsize=(16,12))\n",
    "\n",
    "ax = sns.boxplot(data=df, x='pass_route', y='att_yards')\n",
    "\n",
    "plt.title('Attempted Yards vs Passing Route', fontdict={'fontsize':20})\n",
    "ax.set(xlabel='Passing Route', ylabel='Attempted Yards')\n",
    "\n",
    "plt.xlabel('Passing Routes', fontdict={'fontsize':20})\n",
    "plt.ylabel('Attempted Yards', fontdict={'fontsize':20})\n",
    "\n",
    "plt.show()\n",
    "plt.savefig('./Images/attyards_vs_passroute.png')"
   ]
  },
  {
   "cell_type": "markdown",
   "id": "packed-booking",
   "metadata": {},
   "source": [
    "The attempted yards is distributed appropriately when taking into account the break distance and angle of each route. The `Go` route, a straight shot towards the endzone, has the highest mean and median of all the routes as well as the deepest attempted throw at 20+ yards. The screen plays, `WR Screen` and `Underneath Screen`, have the lowest averages for attempted yards per throw due to screen plays developing close to the line of scrimmage. A screen play wouldn't make much sense if the receiver is waiting to receive the ball 10+ yards down the field with no other teammates around to create a protective ___screen___."
   ]
  },
  {
   "cell_type": "code",
   "execution_count": 44,
   "id": "thick-champagne",
   "metadata": {},
   "outputs": [
    {
     "data": {
      "image/png": "[encoded data removed]",
      "text/plain": [
       "<Figure size 1152x864 with 1 Axes>"
      ]
     },
     "metadata": {},
     "output_type": "display_data"
    },
    {
     "data": {
      "text/plain": [
       "<Figure size 432x288 with 0 Axes>"
      ]
     },
     "metadata": {},
     "output_type": "display_data"
    }
   ],
   "source": [
    "plt.figure(figsize=(16,12))\n",
    "\n",
    "ax = sns.boxplot(data=df.loc[df['complete'] == 1],\n",
    "                 x='pass_route', y='yards')\n",
    "\n",
    "plt.title('Completed Yards vs Passing Route', fontdict={'fontsize':20})\n",
    "ax.set(xlabel='Passing Route', ylabel='Completed Yards')\n",
    "\n",
    "plt.xlabel('Passing Routes', fontdict={'fontsize':20})\n",
    "plt.ylabel('Completed Yards', fontdict={'fontsize':20})\n",
    "\n",
    "plt.show()\n",
    "plt.savefig('./Images/completedyards_vs_passroute.png')"
   ]
  },
  {
   "cell_type": "markdown",
   "id": "swedish-hobby",
   "metadata": {},
   "source": [
    "The completed yards by passing route shows an almost consistent median among all of the routes besides `Go`. While the other 8 plays have medians right around 5-10 yards (which is ideal for marching down the field slowly but surely), `Go` has a median value of around 20 yards."
   ]
  },
  {
   "cell_type": "code",
   "execution_count": 45,
   "id": "saving-screen",
   "metadata": {},
   "outputs": [],
   "source": [
    "qbs_by_att = df['name'].value_counts().sort_values(ascending=False).head(40)\n",
    "passes_complete = df.groupby('name')['complete'].sum().sort_values(ascending=False)\n",
    "\n",
    "qb_complete_pct = []\n",
    "total_passes = []\n",
    "for qb, item in qbs_by_att.iteritems():\n",
    "    att = item\n",
    "    pct = passes_complete[qb]/item\n",
    "#     print(f'{qb.split(\" \")[1]} completion percentage:\\t {passes_complete[qb]/item}')\n",
    "    qb_complete_pct.append((qb,att,pct))\n",
    "    \n",
    "qb_complete_pct = pd.DataFrame(qb_complete_pct, columns=['name', 'total_passes','completion_percentage'])\n",
    "qb_complete_pct = qb_complete_pct.sort_values('completion_percentage', ascending=False)\n",
    "qb_complete_pct['pct'] = qb_complete_pct['completion_percentage'].map(lambda x: x*100)"
   ]
  },
  {
   "cell_type": "code",
   "execution_count": 46,
   "id": "radio-peninsula",
   "metadata": {
    "scrolled": true
   },
   "outputs": [
    {
     "data": {
      "text/html": [
       "<div>\n",
       "<style scoped>\n",
       "    .dataframe tbody tr th:only-of-type {\n",
       "        vertical-align: middle;\n",
       "    }\n",
       "\n",
       "    .dataframe tbody tr th {\n",
       "        vertical-align: top;\n",
       "    }\n",
       "\n",
       "    .dataframe thead th {\n",
       "        text-align: right;\n",
       "    }\n",
       "</style>\n",
       "<table border=\"1\" class=\"dataframe\">\n",
       "  <thead>\n",
       "    <tr style=\"text-align: right;\">\n",
       "      <th></th>\n",
       "      <th>name</th>\n",
       "      <th>total_passes</th>\n",
       "      <th>completion_percentage</th>\n",
       "      <th>pct</th>\n",
       "    </tr>\n",
       "  </thead>\n",
       "  <tbody>\n",
       "    <tr>\n",
       "      <th>11</th>\n",
       "      <td>Aaron Rodgers</td>\n",
       "      <td>356</td>\n",
       "      <td>0.817416</td>\n",
       "      <td>81.741573</td>\n",
       "    </tr>\n",
       "    <tr>\n",
       "      <th>12</th>\n",
       "      <td>Deshaun Watson</td>\n",
       "      <td>351</td>\n",
       "      <td>0.794872</td>\n",
       "      <td>79.487179</td>\n",
       "    </tr>\n",
       "    <tr>\n",
       "      <th>15</th>\n",
       "      <td>Teddy Bridgewater</td>\n",
       "      <td>320</td>\n",
       "      <td>0.793750</td>\n",
       "      <td>79.375000</td>\n",
       "    </tr>\n",
       "    <tr>\n",
       "      <th>30</th>\n",
       "      <td>Mitchell Trubisky</td>\n",
       "      <td>214</td>\n",
       "      <td>0.785047</td>\n",
       "      <td>78.504673</td>\n",
       "    </tr>\n",
       "    <tr>\n",
       "      <th>7</th>\n",
       "      <td>Philip Rivers</td>\n",
       "      <td>376</td>\n",
       "      <td>0.784574</td>\n",
       "      <td>78.457447</td>\n",
       "    </tr>\n",
       "    <tr>\n",
       "      <th>10</th>\n",
       "      <td>Kyler Murray</td>\n",
       "      <td>360</td>\n",
       "      <td>0.780556</td>\n",
       "      <td>78.055556</td>\n",
       "    </tr>\n",
       "    <tr>\n",
       "      <th>8</th>\n",
       "      <td>Russell Wilson</td>\n",
       "      <td>375</td>\n",
       "      <td>0.778667</td>\n",
       "      <td>77.866667</td>\n",
       "    </tr>\n",
       "    <tr>\n",
       "      <th>5</th>\n",
       "      <td>Josh Allen</td>\n",
       "      <td>401</td>\n",
       "      <td>0.770574</td>\n",
       "      <td>77.057357</td>\n",
       "    </tr>\n",
       "    <tr>\n",
       "      <th>27</th>\n",
       "      <td>Gardner Minshew II</td>\n",
       "      <td>227</td>\n",
       "      <td>0.766520</td>\n",
       "      <td>76.651982</td>\n",
       "    </tr>\n",
       "    <tr>\n",
       "      <th>2</th>\n",
       "      <td>Jared Goff</td>\n",
       "      <td>422</td>\n",
       "      <td>0.758294</td>\n",
       "      <td>75.829384</td>\n",
       "    </tr>\n",
       "    <tr>\n",
       "      <th>9</th>\n",
       "      <td>Derek Carr</td>\n",
       "      <td>364</td>\n",
       "      <td>0.758242</td>\n",
       "      <td>75.824176</td>\n",
       "    </tr>\n",
       "    <tr>\n",
       "      <th>38</th>\n",
       "      <td>Jimmy Garoppolo</td>\n",
       "      <td>99</td>\n",
       "      <td>0.757576</td>\n",
       "      <td>75.757576</td>\n",
       "    </tr>\n",
       "    <tr>\n",
       "      <th>6</th>\n",
       "      <td>Patrick Mahomes II</td>\n",
       "      <td>385</td>\n",
       "      <td>0.755844</td>\n",
       "      <td>75.584416</td>\n",
       "    </tr>\n",
       "    <tr>\n",
       "      <th>22</th>\n",
       "      <td>Joe Burrow</td>\n",
       "      <td>272</td>\n",
       "      <td>0.750000</td>\n",
       "      <td>75.000000</td>\n",
       "    </tr>\n",
       "    <tr>\n",
       "      <th>28</th>\n",
       "      <td>Nick Foles</td>\n",
       "      <td>223</td>\n",
       "      <td>0.748879</td>\n",
       "      <td>74.887892</td>\n",
       "    </tr>\n",
       "    <tr>\n",
       "      <th>14</th>\n",
       "      <td>Kirk Cousins</td>\n",
       "      <td>342</td>\n",
       "      <td>0.745614</td>\n",
       "      <td>74.561404</td>\n",
       "    </tr>\n",
       "    <tr>\n",
       "      <th>4</th>\n",
       "      <td>Tom Brady</td>\n",
       "      <td>405</td>\n",
       "      <td>0.743210</td>\n",
       "      <td>74.320988</td>\n",
       "    </tr>\n",
       "    <tr>\n",
       "      <th>20</th>\n",
       "      <td>Drew Brees</td>\n",
       "      <td>284</td>\n",
       "      <td>0.742958</td>\n",
       "      <td>74.295775</td>\n",
       "    </tr>\n",
       "    <tr>\n",
       "      <th>33</th>\n",
       "      <td>Alex Smith</td>\n",
       "      <td>191</td>\n",
       "      <td>0.738220</td>\n",
       "      <td>73.821990</td>\n",
       "    </tr>\n",
       "    <tr>\n",
       "      <th>3</th>\n",
       "      <td>Matt Ryan</td>\n",
       "      <td>407</td>\n",
       "      <td>0.737101</td>\n",
       "      <td>73.710074</td>\n",
       "    </tr>\n",
       "    <tr>\n",
       "      <th>36</th>\n",
       "      <td>Mike Glennon</td>\n",
       "      <td>114</td>\n",
       "      <td>0.736842</td>\n",
       "      <td>73.684211</td>\n",
       "    </tr>\n",
       "    <tr>\n",
       "      <th>1</th>\n",
       "      <td>Justin Herbert</td>\n",
       "      <td>430</td>\n",
       "      <td>0.734884</td>\n",
       "      <td>73.488372</td>\n",
       "    </tr>\n",
       "    <tr>\n",
       "      <th>16</th>\n",
       "      <td>Baker Mayfield</td>\n",
       "      <td>319</td>\n",
       "      <td>0.733542</td>\n",
       "      <td>73.354232</td>\n",
       "    </tr>\n",
       "    <tr>\n",
       "      <th>37</th>\n",
       "      <td>Brandon Allen</td>\n",
       "      <td>101</td>\n",
       "      <td>0.732673</td>\n",
       "      <td>73.267327</td>\n",
       "    </tr>\n",
       "    <tr>\n",
       "      <th>24</th>\n",
       "      <td>Lamar Jackson</td>\n",
       "      <td>256</td>\n",
       "      <td>0.722656</td>\n",
       "      <td>72.265625</td>\n",
       "    </tr>\n",
       "    <tr>\n",
       "      <th>21</th>\n",
       "      <td>Cam Newton</td>\n",
       "      <td>274</td>\n",
       "      <td>0.722628</td>\n",
       "      <td>72.262774</td>\n",
       "    </tr>\n",
       "    <tr>\n",
       "      <th>13</th>\n",
       "      <td>Matthew Stafford</td>\n",
       "      <td>347</td>\n",
       "      <td>0.720461</td>\n",
       "      <td>72.046110</td>\n",
       "    </tr>\n",
       "    <tr>\n",
       "      <th>35</th>\n",
       "      <td>Dak Prescott</td>\n",
       "      <td>164</td>\n",
       "      <td>0.719512</td>\n",
       "      <td>71.951220</td>\n",
       "    </tr>\n",
       "    <tr>\n",
       "      <th>31</th>\n",
       "      <td>Ryan Fitzpatrick</td>\n",
       "      <td>209</td>\n",
       "      <td>0.717703</td>\n",
       "      <td>71.770335</td>\n",
       "    </tr>\n",
       "    <tr>\n",
       "      <th>25</th>\n",
       "      <td>Andy Dalton</td>\n",
       "      <td>244</td>\n",
       "      <td>0.713115</td>\n",
       "      <td>71.311475</td>\n",
       "    </tr>\n",
       "    <tr>\n",
       "      <th>34</th>\n",
       "      <td>Dwayne Haskins</td>\n",
       "      <td>177</td>\n",
       "      <td>0.711864</td>\n",
       "      <td>71.186441</td>\n",
       "    </tr>\n",
       "    <tr>\n",
       "      <th>32</th>\n",
       "      <td>Tua Tagovailoa</td>\n",
       "      <td>200</td>\n",
       "      <td>0.710000</td>\n",
       "      <td>71.000000</td>\n",
       "    </tr>\n",
       "    <tr>\n",
       "      <th>26</th>\n",
       "      <td>Sam Darnold</td>\n",
       "      <td>229</td>\n",
       "      <td>0.703057</td>\n",
       "      <td>70.305677</td>\n",
       "    </tr>\n",
       "    <tr>\n",
       "      <th>29</th>\n",
       "      <td>Nick Mullens</td>\n",
       "      <td>221</td>\n",
       "      <td>0.701357</td>\n",
       "      <td>70.135747</td>\n",
       "    </tr>\n",
       "    <tr>\n",
       "      <th>19</th>\n",
       "      <td>Drew Lock</td>\n",
       "      <td>290</td>\n",
       "      <td>0.700000</td>\n",
       "      <td>70.000000</td>\n",
       "    </tr>\n",
       "    <tr>\n",
       "      <th>18</th>\n",
       "      <td>Ryan Tannehill</td>\n",
       "      <td>308</td>\n",
       "      <td>0.698052</td>\n",
       "      <td>69.805195</td>\n",
       "    </tr>\n",
       "    <tr>\n",
       "      <th>0</th>\n",
       "      <td>Ben Roethlisberger</td>\n",
       "      <td>471</td>\n",
       "      <td>0.696391</td>\n",
       "      <td>69.639066</td>\n",
       "    </tr>\n",
       "    <tr>\n",
       "      <th>23</th>\n",
       "      <td>Carson Wentz</td>\n",
       "      <td>270</td>\n",
       "      <td>0.685185</td>\n",
       "      <td>68.518519</td>\n",
       "    </tr>\n",
       "    <tr>\n",
       "      <th>17</th>\n",
       "      <td>Daniel Jones</td>\n",
       "      <td>318</td>\n",
       "      <td>0.682390</td>\n",
       "      <td>68.238994</td>\n",
       "    </tr>\n",
       "    <tr>\n",
       "      <th>39</th>\n",
       "      <td>Jalen Hurts</td>\n",
       "      <td>95</td>\n",
       "      <td>0.610526</td>\n",
       "      <td>61.052632</td>\n",
       "    </tr>\n",
       "  </tbody>\n",
       "</table>\n",
       "</div>"
      ],
      "text/plain": [
       "                  name  total_passes  completion_percentage        pct\n",
       "11       Aaron Rodgers           356               0.817416  81.741573\n",
       "12      Deshaun Watson           351               0.794872  79.487179\n",
       "15   Teddy Bridgewater           320               0.793750  79.375000\n",
       "30   Mitchell Trubisky           214               0.785047  78.504673\n",
       "7        Philip Rivers           376               0.784574  78.457447\n",
       "10        Kyler Murray           360               0.780556  78.055556\n",
       "8       Russell Wilson           375               0.778667  77.866667\n",
       "5           Josh Allen           401               0.770574  77.057357\n",
       "27  Gardner Minshew II           227               0.766520  76.651982\n",
       "2           Jared Goff           422               0.758294  75.829384\n",
       "9           Derek Carr           364               0.758242  75.824176\n",
       "38     Jimmy Garoppolo            99               0.757576  75.757576\n",
       "6   Patrick Mahomes II           385               0.755844  75.584416\n",
       "22          Joe Burrow           272               0.750000  75.000000\n",
       "28          Nick Foles           223               0.748879  74.887892\n",
       "14        Kirk Cousins           342               0.745614  74.561404\n",
       "4            Tom Brady           405               0.743210  74.320988\n",
       "20          Drew Brees           284               0.742958  74.295775\n",
       "33          Alex Smith           191               0.738220  73.821990\n",
       "3            Matt Ryan           407               0.737101  73.710074\n",
       "36        Mike Glennon           114               0.736842  73.684211\n",
       "1       Justin Herbert           430               0.734884  73.488372\n",
       "16      Baker Mayfield           319               0.733542  73.354232\n",
       "37       Brandon Allen           101               0.732673  73.267327\n",
       "24       Lamar Jackson           256               0.722656  72.265625\n",
       "21          Cam Newton           274               0.722628  72.262774\n",
       "13    Matthew Stafford           347               0.720461  72.046110\n",
       "35        Dak Prescott           164               0.719512  71.951220\n",
       "31    Ryan Fitzpatrick           209               0.717703  71.770335\n",
       "25         Andy Dalton           244               0.713115  71.311475\n",
       "34      Dwayne Haskins           177               0.711864  71.186441\n",
       "32      Tua Tagovailoa           200               0.710000  71.000000\n",
       "26         Sam Darnold           229               0.703057  70.305677\n",
       "29        Nick Mullens           221               0.701357  70.135747\n",
       "19           Drew Lock           290               0.700000  70.000000\n",
       "18      Ryan Tannehill           308               0.698052  69.805195\n",
       "0   Ben Roethlisberger           471               0.696391  69.639066\n",
       "23        Carson Wentz           270               0.685185  68.518519\n",
       "17        Daniel Jones           318               0.682390  68.238994\n",
       "39         Jalen Hurts            95               0.610526  61.052632"
      ]
     },
     "execution_count": 46,
     "metadata": {},
     "output_type": "execute_result"
    }
   ],
   "source": [
    "qb_complete_pct"
   ]
  },
  {
   "cell_type": "code",
   "execution_count": 47,
   "id": "seventh-grade",
   "metadata": {},
   "outputs": [
    {
     "data": {
      "image/png": "[encoded data removed]",
      "text/plain": [
       "<Figure size 1152x864 with 1 Axes>"
      ]
     },
     "metadata": {},
     "output_type": "display_data"
    },
    {
     "data": {
      "text/plain": [
       "<Figure size 432x288 with 0 Axes>"
      ]
     },
     "metadata": {},
     "output_type": "display_data"
    }
   ],
   "source": [
    "plt.figure(figsize=(16,12))\n",
    "\n",
    "\n",
    "sns.barplot(data=qb_complete_pct[:15],\n",
    "            x='pct', y='name', orient='h', palette='rainbow')\n",
    "plt.xlim(50,83)\n",
    "plt.title('Completion Rate of NFL QBs in 2020 Season')\n",
    "plt.xlabel('Complete Pass Percentage')\n",
    "plt.ylabel('QB')\n",
    "\n",
    "plt.show()\n",
    "plt.savefig('./Images/completionrate_2020.png')"
   ]
  },
  {
   "cell_type": "markdown",
   "id": "practical-capability",
   "metadata": {},
   "source": [
    "## Question 2\n",
    "\n",
    "How does the direction and distance of the pass affect the completion rate?"
   ]
  },
  {
   "cell_type": "code",
   "execution_count": 48,
   "id": "owned-newark",
   "metadata": {},
   "outputs": [
    {
     "data": {
      "text/html": [
       "<div>\n",
       "<style scoped>\n",
       "    .dataframe tbody tr th:only-of-type {\n",
       "        vertical-align: middle;\n",
       "    }\n",
       "\n",
       "    .dataframe tbody tr th {\n",
       "        vertical-align: top;\n",
       "    }\n",
       "\n",
       "    .dataframe thead th {\n",
       "        text-align: right;\n",
       "    }\n",
       "</style>\n",
       "<table border=\"1\" class=\"dataframe\">\n",
       "  <thead>\n",
       "    <tr style=\"text-align: right;\">\n",
       "      <th></th>\n",
       "      <th></th>\n",
       "      <th>sum</th>\n",
       "      <th>count</th>\n",
       "      <th>pct</th>\n",
       "    </tr>\n",
       "    <tr>\n",
       "      <th>name</th>\n",
       "      <th>direction</th>\n",
       "      <th></th>\n",
       "      <th></th>\n",
       "      <th></th>\n",
       "    </tr>\n",
       "  </thead>\n",
       "  <tbody>\n",
       "    <tr>\n",
       "      <th rowspan=\"5\" valign=\"top\">Aaron Rodgers</th>\n",
       "      <th>deep left</th>\n",
       "      <td>2.0</td>\n",
       "      <td>5</td>\n",
       "      <td>0.400000</td>\n",
       "    </tr>\n",
       "    <tr>\n",
       "      <th>deep middle</th>\n",
       "      <td>1.0</td>\n",
       "      <td>1</td>\n",
       "      <td>1.000000</td>\n",
       "    </tr>\n",
       "    <tr>\n",
       "      <th>deep right</th>\n",
       "      <td>3.0</td>\n",
       "      <td>11</td>\n",
       "      <td>0.272727</td>\n",
       "    </tr>\n",
       "    <tr>\n",
       "      <th>short left</th>\n",
       "      <td>113.0</td>\n",
       "      <td>139</td>\n",
       "      <td>0.812950</td>\n",
       "    </tr>\n",
       "    <tr>\n",
       "      <th>short middle</th>\n",
       "      <td>34.0</td>\n",
       "      <td>42</td>\n",
       "      <td>0.809524</td>\n",
       "    </tr>\n",
       "    <tr>\n",
       "      <th>...</th>\n",
       "      <th>...</th>\n",
       "      <td>...</td>\n",
       "      <td>...</td>\n",
       "      <td>...</td>\n",
       "    </tr>\n",
       "    <tr>\n",
       "      <th rowspan=\"5\" valign=\"top\">Tyrod Taylor</th>\n",
       "      <th>deep left</th>\n",
       "      <td>0.0</td>\n",
       "      <td>1</td>\n",
       "      <td>0.000000</td>\n",
       "    </tr>\n",
       "    <tr>\n",
       "      <th>deep right</th>\n",
       "      <td>0.0</td>\n",
       "      <td>1</td>\n",
       "      <td>0.000000</td>\n",
       "    </tr>\n",
       "    <tr>\n",
       "      <th>short left</th>\n",
       "      <td>6.0</td>\n",
       "      <td>7</td>\n",
       "      <td>0.857143</td>\n",
       "    </tr>\n",
       "    <tr>\n",
       "      <th>short middle</th>\n",
       "      <td>2.0</td>\n",
       "      <td>3</td>\n",
       "      <td>0.666667</td>\n",
       "    </tr>\n",
       "    <tr>\n",
       "      <th>short right</th>\n",
       "      <td>4.0</td>\n",
       "      <td>5</td>\n",
       "      <td>0.800000</td>\n",
       "    </tr>\n",
       "  </tbody>\n",
       "</table>\n",
       "<p>333 rows × 3 columns</p>\n",
       "</div>"
      ],
      "text/plain": [
       "                              sum  count       pct\n",
       "name          direction                           \n",
       "Aaron Rodgers deep left       2.0      5  0.400000\n",
       "              deep middle     1.0      1  1.000000\n",
       "              deep right      3.0     11  0.272727\n",
       "              short left    113.0    139  0.812950\n",
       "              short middle   34.0     42  0.809524\n",
       "...                           ...    ...       ...\n",
       "Tyrod Taylor  deep left       0.0      1  0.000000\n",
       "              deep right      0.0      1  0.000000\n",
       "              short left      6.0      7  0.857143\n",
       "              short middle    2.0      3  0.666667\n",
       "              short right     4.0      5  0.800000\n",
       "\n",
       "[333 rows x 3 columns]"
      ]
     },
     "execution_count": 48,
     "metadata": {},
     "output_type": "execute_result"
    }
   ],
   "source": [
    "complete_by_direction = make_table(df, ['name', 'direction'])\n",
    "complete_by_direction"
   ]
  },
  {
   "cell_type": "code",
   "execution_count": 49,
   "id": "brutal-black",
   "metadata": {},
   "outputs": [],
   "source": [
    "direction_complete_pct = complete_by_direction.unstack()['pct'].mean()\n",
    "direction_complete_pct = direction_complete_pct.map(lambda x: x*100)"
   ]
  },
  {
   "cell_type": "code",
   "execution_count": 50,
   "id": "authentic-discharge",
   "metadata": {},
   "outputs": [
    {
     "data": {
      "image/png": "[encoded data removed]",
      "text/plain": [
       "<Figure size 1152x648 with 1 Axes>"
      ]
     },
     "metadata": {},
     "output_type": "display_data"
    },
    {
     "data": {
      "text/plain": [
       "<Figure size 432x288 with 0 Axes>"
      ]
     },
     "metadata": {},
     "output_type": "display_data"
    }
   ],
   "source": [
    "direction_complete_pct.plot(kind='bar', figsize=(16,9),\n",
    "                            color='tab:purple', rot=45)\n",
    "plt.xlabel(None)\n",
    "plt.ylabel('Completion Rate (%)')\n",
    "plt.title('2020 NFL Season Average QB\\nCompletion Rate vs Pass Direction')\n",
    "\n",
    "plt.show()\n",
    "plt.savefig('./Images/completion_vs_passdirec.png')"
   ]
  },
  {
   "cell_type": "markdown",
   "id": "promising-grass",
   "metadata": {},
   "source": [
    "The completion percentage of passes decreases as the distance increases from the line of scrimmage. This result is expected as the ball needs to travel a greater distance, requiring increased accuracy and precision by the quarterback."
   ]
  },
  {
   "cell_type": "code",
   "execution_count": 51,
   "id": "guilty-charleston",
   "metadata": {},
   "outputs": [
    {
     "data": {
      "image/png": "[encoded data removed]",
      "text/plain": [
       "<Figure size 1152x864 with 1 Axes>"
      ]
     },
     "metadata": {},
     "output_type": "display_data"
    }
   ],
   "source": [
    "plt.figure(figsize=(16,12))\n",
    "sns.barplot(data=df, x='att_dist', y='complete')\n",
    "\n",
    "plt.show()"
   ]
  },
  {
   "cell_type": "code",
   "execution_count": 52,
   "id": "single-accuracy",
   "metadata": {},
   "outputs": [
    {
     "data": {
      "image/png": "[encoded data removed]",
      "text/plain": [
       "<Figure size 720x360 with 1 Axes>"
      ]
     },
     "metadata": {},
     "output_type": "display_data"
    },
    {
     "data": {
      "text/plain": [
       "<Figure size 432x288 with 0 Axes>"
      ]
     },
     "metadata": {},
     "output_type": "display_data"
    }
   ],
   "source": [
    "sns.lmplot(x='att_yards', y='complete', data=df,\n",
    "          y_jitter=0.03, logistic=True, aspect=2)\n",
    "plt.title('2020 NFL Average QB\\nChange in Completion Rate vs Attempted Yards')\n",
    "plt.xlabel('Attempted Yards')\n",
    "plt.ylabel('Complete')\n",
    "\n",
    "plt.show()\n",
    "plt.savefig('./Images/avg_complete_vs_attyards.png')"
   ]
  },
  {
   "cell_type": "markdown",
   "id": "exciting-honor",
   "metadata": {},
   "source": [
    "The plot above illustrates the relationship between completion rate and the yards that the ball traveled in the air. As the attempted yards, `att_yards`, increases, the number of completed passes decreases."
   ]
  },
  {
   "cell_type": "markdown",
   "id": "second-costa",
   "metadata": {},
   "source": [
    "## Question 3\n",
    "\n",
    "How do NFL QB's perform in the pocket?"
   ]
  },
  {
   "cell_type": "code",
   "execution_count": 53,
   "id": "floral-muslim",
   "metadata": {
    "scrolled": true
   },
   "outputs": [
    {
     "data": {
      "image/png": "[encoded data removed]",
      "text/plain": [
       "<Figure size 720x360 with 1 Axes>"
      ]
     },
     "metadata": {},
     "output_type": "display_data"
    },
    {
     "data": {
      "text/plain": [
       "<Figure size 432x288 with 0 Axes>"
      ]
     },
     "metadata": {},
     "output_type": "display_data"
    }
   ],
   "source": [
    "sns.lmplot(x='pocket_time', y='complete', data=df,\n",
    "           logistic=True, aspect=2)\n",
    "plt.xlabel('Pocket Time (sec)')\n",
    "plt.ylabel('Completion Rate')\n",
    "plt.title('Change in Completion Rate vs Time in Pocket')\n",
    "plt.show()\n",
    "plt.savefig('./Images/complete_vs_pocket_time.png')"
   ]
  },
  {
   "cell_type": "markdown",
   "id": "executive-basement",
   "metadata": {},
   "source": [
    "Completion rate decreases as the time the quarterback spends in the pocket increases. Although the quarterback has more time to go through the progression of the play, get their feet set, and pick their target, the play still has many other factors that can lead to a dropped or incomplete pass."
   ]
  },
  {
   "cell_type": "code",
   "execution_count": 54,
   "id": "neutral-french",
   "metadata": {},
   "outputs": [
    {
     "data": {
      "text/plain": [
       "Middle            10833\n",
       "Boot Right          382\n",
       "Rollout Right       361\n",
       "Scramble Right      320\n",
       "Boot Left           157\n",
       "Scramble Left       119\n",
       "Rollout Left         73\n",
       "Name: pocket_location, dtype: int64"
      ]
     },
     "execution_count": 54,
     "metadata": {},
     "output_type": "execute_result"
    }
   ],
   "source": [
    "df['pocket_location'].value_counts()"
   ]
  },
  {
   "cell_type": "code",
   "execution_count": 55,
   "id": "eight-minister",
   "metadata": {},
   "outputs": [
    {
     "data": {
      "text/html": [
       "<div>\n",
       "<style scoped>\n",
       "    .dataframe tbody tr th:only-of-type {\n",
       "        vertical-align: middle;\n",
       "    }\n",
       "\n",
       "    .dataframe tbody tr th {\n",
       "        vertical-align: top;\n",
       "    }\n",
       "\n",
       "    .dataframe thead th {\n",
       "        text-align: right;\n",
       "    }\n",
       "</style>\n",
       "<table border=\"1\" class=\"dataframe\">\n",
       "  <thead>\n",
       "    <tr style=\"text-align: right;\">\n",
       "      <th></th>\n",
       "      <th>name</th>\n",
       "      <th>complete</th>\n",
       "      <th>yards</th>\n",
       "      <th>att_yards</th>\n",
       "      <th>firstdown</th>\n",
       "      <th>inside_20</th>\n",
       "      <th>goaltogo</th>\n",
       "      <th>blitz_x</th>\n",
       "      <th>hurry</th>\n",
       "      <th>knockdown</th>\n",
       "      <th>pocket_time</th>\n",
       "      <th>batted_pass</th>\n",
       "      <th>incompletion_type</th>\n",
       "      <th>interception</th>\n",
       "      <th>direction</th>\n",
       "      <th>quarter</th>\n",
       "      <th>yards_to_goal</th>\n",
       "      <th>down</th>\n",
       "      <th>yards_to_first</th>\n",
       "      <th>hash_mark</th>\n",
       "      <th>play_action</th>\n",
       "      <th>run_pass_option</th>\n",
       "      <th>blitz_y</th>\n",
       "      <th>qb_at_snap</th>\n",
       "      <th>players_rushed</th>\n",
       "      <th>pocket_location</th>\n",
       "      <th>pass_route</th>\n",
       "      <th>touchdown</th>\n",
       "      <th>seconds_left_in_half</th>\n",
       "      <th>att_dist</th>\n",
       "    </tr>\n",
       "  </thead>\n",
       "  <tbody>\n",
       "    <tr>\n",
       "      <th>0</th>\n",
       "      <td>Aaron Rodgers</td>\n",
       "      <td>1.0</td>\n",
       "      <td>5.0</td>\n",
       "      <td>0.0</td>\n",
       "      <td>0.0</td>\n",
       "      <td>0.0</td>\n",
       "      <td>0.0</td>\n",
       "      <td>0.0</td>\n",
       "      <td>0.0</td>\n",
       "      <td>0.0</td>\n",
       "      <td>3.134</td>\n",
       "      <td>0.0</td>\n",
       "      <td>Complete</td>\n",
       "      <td>0.0</td>\n",
       "      <td>short right</td>\n",
       "      <td>2.0</td>\n",
       "      <td>31</td>\n",
       "      <td>1</td>\n",
       "      <td>10</td>\n",
       "      <td>Right Hash</td>\n",
       "      <td>False</td>\n",
       "      <td>False</td>\n",
       "      <td>False</td>\n",
       "      <td>Shotgun</td>\n",
       "      <td>4.0</td>\n",
       "      <td>Middle</td>\n",
       "      <td>Flat</td>\n",
       "      <td>0.0</td>\n",
       "      <td>120</td>\n",
       "      <td>short</td>\n",
       "    </tr>\n",
       "    <tr>\n",
       "      <th>1</th>\n",
       "      <td>Aaron Rodgers</td>\n",
       "      <td>1.0</td>\n",
       "      <td>14.0</td>\n",
       "      <td>13.0</td>\n",
       "      <td>1.0</td>\n",
       "      <td>1.0</td>\n",
       "      <td>0.0</td>\n",
       "      <td>0.0</td>\n",
       "      <td>0.0</td>\n",
       "      <td>0.0</td>\n",
       "      <td>1.820</td>\n",
       "      <td>0.0</td>\n",
       "      <td>Complete</td>\n",
       "      <td>0.0</td>\n",
       "      <td>short right</td>\n",
       "      <td>2.0</td>\n",
       "      <td>14</td>\n",
       "      <td>2</td>\n",
       "      <td>9</td>\n",
       "      <td>Left Hash</td>\n",
       "      <td>False</td>\n",
       "      <td>False</td>\n",
       "      <td>False</td>\n",
       "      <td>Shotgun</td>\n",
       "      <td>4.0</td>\n",
       "      <td>Middle</td>\n",
       "      <td>Go</td>\n",
       "      <td>1.0</td>\n",
       "      <td>858</td>\n",
       "      <td>medium</td>\n",
       "    </tr>\n",
       "    <tr>\n",
       "      <th>2</th>\n",
       "      <td>Aaron Rodgers</td>\n",
       "      <td>1.0</td>\n",
       "      <td>12.0</td>\n",
       "      <td>5.0</td>\n",
       "      <td>1.0</td>\n",
       "      <td>0.0</td>\n",
       "      <td>0.0</td>\n",
       "      <td>1.0</td>\n",
       "      <td>0.0</td>\n",
       "      <td>0.0</td>\n",
       "      <td>1.855</td>\n",
       "      <td>0.0</td>\n",
       "      <td>Complete</td>\n",
       "      <td>0.0</td>\n",
       "      <td>short middle</td>\n",
       "      <td>1.0</td>\n",
       "      <td>27</td>\n",
       "      <td>1</td>\n",
       "      <td>10</td>\n",
       "      <td>Left Hash</td>\n",
       "      <td>False</td>\n",
       "      <td>False</td>\n",
       "      <td>True</td>\n",
       "      <td>Shotgun</td>\n",
       "      <td>6.0</td>\n",
       "      <td>Middle</td>\n",
       "      <td>Slant</td>\n",
       "      <td>0.0</td>\n",
       "      <td>913</td>\n",
       "      <td>short</td>\n",
       "    </tr>\n",
       "    <tr>\n",
       "      <th>3</th>\n",
       "      <td>Aaron Rodgers</td>\n",
       "      <td>1.0</td>\n",
       "      <td>5.0</td>\n",
       "      <td>-4.0</td>\n",
       "      <td>1.0</td>\n",
       "      <td>0.0</td>\n",
       "      <td>0.0</td>\n",
       "      <td>0.0</td>\n",
       "      <td>0.0</td>\n",
       "      <td>0.0</td>\n",
       "      <td>1.191</td>\n",
       "      <td>0.0</td>\n",
       "      <td>Complete</td>\n",
       "      <td>0.0</td>\n",
       "      <td>short left</td>\n",
       "      <td>1.0</td>\n",
       "      <td>32</td>\n",
       "      <td>2</td>\n",
       "      <td>5</td>\n",
       "      <td>Right Hash</td>\n",
       "      <td>True</td>\n",
       "      <td>True</td>\n",
       "      <td>False</td>\n",
       "      <td>Shotgun</td>\n",
       "      <td>4.0</td>\n",
       "      <td>Middle</td>\n",
       "      <td>WR Screen</td>\n",
       "      <td>0.0</td>\n",
       "      <td>953</td>\n",
       "      <td>behind</td>\n",
       "    </tr>\n",
       "    <tr>\n",
       "      <th>4</th>\n",
       "      <td>Aaron Rodgers</td>\n",
       "      <td>1.0</td>\n",
       "      <td>3.0</td>\n",
       "      <td>-5.0</td>\n",
       "      <td>0.0</td>\n",
       "      <td>0.0</td>\n",
       "      <td>0.0</td>\n",
       "      <td>0.0</td>\n",
       "      <td>0.0</td>\n",
       "      <td>0.0</td>\n",
       "      <td>2.697</td>\n",
       "      <td>0.0</td>\n",
       "      <td>Complete</td>\n",
       "      <td>0.0</td>\n",
       "      <td>short right</td>\n",
       "      <td>1.0</td>\n",
       "      <td>56</td>\n",
       "      <td>2</td>\n",
       "      <td>7</td>\n",
       "      <td>Left Hash</td>\n",
       "      <td>False</td>\n",
       "      <td>False</td>\n",
       "      <td>False</td>\n",
       "      <td>Shotgun</td>\n",
       "      <td>4.0</td>\n",
       "      <td>Middle</td>\n",
       "      <td>Flat</td>\n",
       "      <td>0.0</td>\n",
       "      <td>1203</td>\n",
       "      <td>behind</td>\n",
       "    </tr>\n",
       "    <tr>\n",
       "      <th>...</th>\n",
       "      <td>...</td>\n",
       "      <td>...</td>\n",
       "      <td>...</td>\n",
       "      <td>...</td>\n",
       "      <td>...</td>\n",
       "      <td>...</td>\n",
       "      <td>...</td>\n",
       "      <td>...</td>\n",
       "      <td>...</td>\n",
       "      <td>...</td>\n",
       "      <td>...</td>\n",
       "      <td>...</td>\n",
       "      <td>...</td>\n",
       "      <td>...</td>\n",
       "      <td>...</td>\n",
       "      <td>...</td>\n",
       "      <td>...</td>\n",
       "      <td>...</td>\n",
       "      <td>...</td>\n",
       "      <td>...</td>\n",
       "      <td>...</td>\n",
       "      <td>...</td>\n",
       "      <td>...</td>\n",
       "      <td>...</td>\n",
       "      <td>...</td>\n",
       "      <td>...</td>\n",
       "      <td>...</td>\n",
       "      <td>...</td>\n",
       "      <td>...</td>\n",
       "      <td>...</td>\n",
       "    </tr>\n",
       "    <tr>\n",
       "      <th>13664</th>\n",
       "      <td>Tyrod Taylor</td>\n",
       "      <td>1.0</td>\n",
       "      <td>8.0</td>\n",
       "      <td>2.0</td>\n",
       "      <td>1.0</td>\n",
       "      <td>0.0</td>\n",
       "      <td>0.0</td>\n",
       "      <td>0.0</td>\n",
       "      <td>0.0</td>\n",
       "      <td>0.0</td>\n",
       "      <td>1.701</td>\n",
       "      <td>0.0</td>\n",
       "      <td>Complete</td>\n",
       "      <td>0.0</td>\n",
       "      <td>short left</td>\n",
       "      <td>4.0</td>\n",
       "      <td>22</td>\n",
       "      <td>2</td>\n",
       "      <td>8</td>\n",
       "      <td>Left Hash</td>\n",
       "      <td>True</td>\n",
       "      <td>True</td>\n",
       "      <td>False</td>\n",
       "      <td>Under Center</td>\n",
       "      <td>4.0</td>\n",
       "      <td>Middle</td>\n",
       "      <td>Flat</td>\n",
       "      <td>0.0</td>\n",
       "      <td>695</td>\n",
       "      <td>short</td>\n",
       "    </tr>\n",
       "    <tr>\n",
       "      <th>13665</th>\n",
       "      <td>Tyrod Taylor</td>\n",
       "      <td>0.0</td>\n",
       "      <td>0.0</td>\n",
       "      <td>6.0</td>\n",
       "      <td>0.0</td>\n",
       "      <td>1.0</td>\n",
       "      <td>1.0</td>\n",
       "      <td>0.0</td>\n",
       "      <td>0.0</td>\n",
       "      <td>0.0</td>\n",
       "      <td>2.387</td>\n",
       "      <td>0.0</td>\n",
       "      <td>Poorly Thrown</td>\n",
       "      <td>0.0</td>\n",
       "      <td>short left</td>\n",
       "      <td>2.0</td>\n",
       "      <td>6</td>\n",
       "      <td>3</td>\n",
       "      <td>6</td>\n",
       "      <td>Left Hash</td>\n",
       "      <td>False</td>\n",
       "      <td>False</td>\n",
       "      <td>False</td>\n",
       "      <td>Shotgun</td>\n",
       "      <td>4.0</td>\n",
       "      <td>Middle</td>\n",
       "      <td>Slant</td>\n",
       "      <td>0.0</td>\n",
       "      <td>438</td>\n",
       "      <td>short</td>\n",
       "    </tr>\n",
       "    <tr>\n",
       "      <th>13669</th>\n",
       "      <td>Tyrod Taylor</td>\n",
       "      <td>1.0</td>\n",
       "      <td>10.0</td>\n",
       "      <td>6.0</td>\n",
       "      <td>0.0</td>\n",
       "      <td>0.0</td>\n",
       "      <td>0.0</td>\n",
       "      <td>0.0</td>\n",
       "      <td>0.0</td>\n",
       "      <td>0.0</td>\n",
       "      <td>1.862</td>\n",
       "      <td>0.0</td>\n",
       "      <td>Complete</td>\n",
       "      <td>0.0</td>\n",
       "      <td>short middle</td>\n",
       "      <td>4.0</td>\n",
       "      <td>77</td>\n",
       "      <td>2</td>\n",
       "      <td>11</td>\n",
       "      <td>Right Hash</td>\n",
       "      <td>False</td>\n",
       "      <td>False</td>\n",
       "      <td>False</td>\n",
       "      <td>Shotgun</td>\n",
       "      <td>4.0</td>\n",
       "      <td>Middle</td>\n",
       "      <td>Curl</td>\n",
       "      <td>0.0</td>\n",
       "      <td>274</td>\n",
       "      <td>short</td>\n",
       "    </tr>\n",
       "    <tr>\n",
       "      <th>13670</th>\n",
       "      <td>Tyrod Taylor</td>\n",
       "      <td>1.0</td>\n",
       "      <td>7.0</td>\n",
       "      <td>6.0</td>\n",
       "      <td>0.0</td>\n",
       "      <td>0.0</td>\n",
       "      <td>0.0</td>\n",
       "      <td>0.0</td>\n",
       "      <td>0.0</td>\n",
       "      <td>0.0</td>\n",
       "      <td>2.682</td>\n",
       "      <td>0.0</td>\n",
       "      <td>Complete</td>\n",
       "      <td>0.0</td>\n",
       "      <td>short right</td>\n",
       "      <td>1.0</td>\n",
       "      <td>46</td>\n",
       "      <td>3</td>\n",
       "      <td>9</td>\n",
       "      <td>Middle</td>\n",
       "      <td>False</td>\n",
       "      <td>False</td>\n",
       "      <td>False</td>\n",
       "      <td>Shotgun</td>\n",
       "      <td>3.0</td>\n",
       "      <td>Middle</td>\n",
       "      <td>Slant</td>\n",
       "      <td>0.0</td>\n",
       "      <td>909</td>\n",
       "      <td>short</td>\n",
       "    </tr>\n",
       "    <tr>\n",
       "      <th>13676</th>\n",
       "      <td>Tyrod Taylor</td>\n",
       "      <td>0.0</td>\n",
       "      <td>0.0</td>\n",
       "      <td>10.0</td>\n",
       "      <td>0.0</td>\n",
       "      <td>0.0</td>\n",
       "      <td>0.0</td>\n",
       "      <td>0.0</td>\n",
       "      <td>0.0</td>\n",
       "      <td>0.0</td>\n",
       "      <td>3.645</td>\n",
       "      <td>0.0</td>\n",
       "      <td>Pass Defended</td>\n",
       "      <td>0.0</td>\n",
       "      <td>short right</td>\n",
       "      <td>1.0</td>\n",
       "      <td>95</td>\n",
       "      <td>3</td>\n",
       "      <td>10</td>\n",
       "      <td>Right Hash</td>\n",
       "      <td>False</td>\n",
       "      <td>False</td>\n",
       "      <td>False</td>\n",
       "      <td>Shotgun</td>\n",
       "      <td>4.0</td>\n",
       "      <td>Middle</td>\n",
       "      <td>Comeback</td>\n",
       "      <td>0.0</td>\n",
       "      <td>1153</td>\n",
       "      <td>medium</td>\n",
       "    </tr>\n",
       "  </tbody>\n",
       "</table>\n",
       "<p>10833 rows × 30 columns</p>\n",
       "</div>"
      ],
      "text/plain": [
       "                name  complete  yards  att_yards  firstdown  inside_20  \\\n",
       "0      Aaron Rodgers       1.0    5.0        0.0        0.0        0.0   \n",
       "1      Aaron Rodgers       1.0   14.0       13.0        1.0        1.0   \n",
       "2      Aaron Rodgers       1.0   12.0        5.0        1.0        0.0   \n",
       "3      Aaron Rodgers       1.0    5.0       -4.0        1.0        0.0   \n",
       "4      Aaron Rodgers       1.0    3.0       -5.0        0.0        0.0   \n",
       "...              ...       ...    ...        ...        ...        ...   \n",
       "13664   Tyrod Taylor       1.0    8.0        2.0        1.0        0.0   \n",
       "13665   Tyrod Taylor       0.0    0.0        6.0        0.0        1.0   \n",
       "13669   Tyrod Taylor       1.0   10.0        6.0        0.0        0.0   \n",
       "13670   Tyrod Taylor       1.0    7.0        6.0        0.0        0.0   \n",
       "13676   Tyrod Taylor       0.0    0.0       10.0        0.0        0.0   \n",
       "\n",
       "       goaltogo  blitz_x  hurry  knockdown  pocket_time  batted_pass  \\\n",
       "0           0.0      0.0    0.0        0.0        3.134          0.0   \n",
       "1           0.0      0.0    0.0        0.0        1.820          0.0   \n",
       "2           0.0      1.0    0.0        0.0        1.855          0.0   \n",
       "3           0.0      0.0    0.0        0.0        1.191          0.0   \n",
       "4           0.0      0.0    0.0        0.0        2.697          0.0   \n",
       "...         ...      ...    ...        ...          ...          ...   \n",
       "13664       0.0      0.0    0.0        0.0        1.701          0.0   \n",
       "13665       1.0      0.0    0.0        0.0        2.387          0.0   \n",
       "13669       0.0      0.0    0.0        0.0        1.862          0.0   \n",
       "13670       0.0      0.0    0.0        0.0        2.682          0.0   \n",
       "13676       0.0      0.0    0.0        0.0        3.645          0.0   \n",
       "\n",
       "      incompletion_type  interception     direction  quarter  yards_to_goal  \\\n",
       "0              Complete           0.0   short right      2.0             31   \n",
       "1              Complete           0.0   short right      2.0             14   \n",
       "2              Complete           0.0  short middle      1.0             27   \n",
       "3              Complete           0.0    short left      1.0             32   \n",
       "4              Complete           0.0   short right      1.0             56   \n",
       "...                 ...           ...           ...      ...            ...   \n",
       "13664          Complete           0.0    short left      4.0             22   \n",
       "13665     Poorly Thrown           0.0    short left      2.0              6   \n",
       "13669          Complete           0.0  short middle      4.0             77   \n",
       "13670          Complete           0.0   short right      1.0             46   \n",
       "13676     Pass Defended           0.0   short right      1.0             95   \n",
       "\n",
       "       down  yards_to_first   hash_mark  play_action  run_pass_option  \\\n",
       "0         1              10  Right Hash        False            False   \n",
       "1         2               9   Left Hash        False            False   \n",
       "2         1              10   Left Hash        False            False   \n",
       "3         2               5  Right Hash         True             True   \n",
       "4         2               7   Left Hash        False            False   \n",
       "...     ...             ...         ...          ...              ...   \n",
       "13664     2               8   Left Hash         True             True   \n",
       "13665     3               6   Left Hash        False            False   \n",
       "13669     2              11  Right Hash        False            False   \n",
       "13670     3               9      Middle        False            False   \n",
       "13676     3              10  Right Hash        False            False   \n",
       "\n",
       "       blitz_y    qb_at_snap  players_rushed pocket_location pass_route  \\\n",
       "0        False       Shotgun             4.0          Middle       Flat   \n",
       "1        False       Shotgun             4.0          Middle         Go   \n",
       "2         True       Shotgun             6.0          Middle      Slant   \n",
       "3        False       Shotgun             4.0          Middle  WR Screen   \n",
       "4        False       Shotgun             4.0          Middle       Flat   \n",
       "...        ...           ...             ...             ...        ...   \n",
       "13664    False  Under Center             4.0          Middle       Flat   \n",
       "13665    False       Shotgun             4.0          Middle      Slant   \n",
       "13669    False       Shotgun             4.0          Middle       Curl   \n",
       "13670    False       Shotgun             3.0          Middle      Slant   \n",
       "13676    False       Shotgun             4.0          Middle   Comeback   \n",
       "\n",
       "       touchdown  seconds_left_in_half att_dist  \n",
       "0            0.0                   120    short  \n",
       "1            1.0                   858   medium  \n",
       "2            0.0                   913    short  \n",
       "3            0.0                   953   behind  \n",
       "4            0.0                  1203   behind  \n",
       "...          ...                   ...      ...  \n",
       "13664        0.0                   695    short  \n",
       "13665        0.0                   438    short  \n",
       "13669        0.0                   274    short  \n",
       "13670        0.0                   909    short  \n",
       "13676        0.0                  1153   medium  \n",
       "\n",
       "[10833 rows x 30 columns]"
      ]
     },
     "execution_count": 55,
     "metadata": {},
     "output_type": "execute_result"
    }
   ],
   "source": [
    "pocket_qb = df.loc[df['pocket_location'] == 'Middle']\n",
    "pocket_qb"
   ]
  },
  {
   "cell_type": "code",
   "execution_count": 56,
   "id": "plain-sigma",
   "metadata": {
    "scrolled": true
   },
   "outputs": [],
   "source": [
    "best_pocket_qb = make_table(pocket_qb, ['name'])\n",
    "best_pocket_qb = best_pocket_qb.loc[best_pocket_qb['count'] > 100]\n",
    "best_pocket_qb = best_pocket_qb.unstack()['pct']\n",
    "best_pocket_qb = best_pocket_qb.map(lambda x: x*100)\n",
    "best_pocket_qb.sort_values(ascending=False, inplace=True)"
   ]
  },
  {
   "cell_type": "code",
   "execution_count": 63,
   "id": "sonic-naples",
   "metadata": {},
   "outputs": [
    {
     "data": {
      "image/png": "[encoded data removed]",
      "text/plain": [
       "<Figure size 864x576 with 1 Axes>"
      ]
     },
     "metadata": {},
     "output_type": "display_data"
    },
    {
     "data": {
      "text/plain": [
       "<Figure size 432x288 with 0 Axes>"
      ]
     },
     "metadata": {},
     "output_type": "display_data"
    }
   ],
   "source": [
    "##### plt.figure(figsize=(16,12))\n",
    "plt.figure(figsize=(12,8))\n",
    "\n",
    "best_pocket_qb[9::-1].plot(y='pct', kind='barh', color='tab:purple',\n",
    "                         xlim=(70,83))\n",
    "plt.xlabel('Completion Rate (%)')\n",
    "plt.ylabel(None)\n",
    "plt.title('2020 NFL Season Best Pocket QB\\nBy Completion Rate ')\n",
    "plt.show()\n",
    "plt.savefig('./Images/bestPocketQB_bycompletion.png')"
   ]
  },
  {
   "cell_type": "code",
   "execution_count": 58,
   "id": "parallel-particular",
   "metadata": {
    "scrolled": true
   },
   "outputs": [
    {
     "data": {
      "text/plain": [
       "name\n",
       "Aaron Rodgers         81.789137\n",
       "Josh Allen            80.000000\n",
       "Kyler Murray          79.503106\n",
       "Deshaun Watson        79.264214\n",
       "Russell Wilson        78.929766\n",
       "Teddy Bridgewater     78.647687\n",
       "Mitchell Trubisky     78.488372\n",
       "Philip Rivers         78.453039\n",
       "Joe Burrow            77.235772\n",
       "Derek Carr            76.615385\n",
       "Jared Goff            76.271186\n",
       "Gardner Minshew II    76.213592\n",
       "Alex Smith            76.136364\n",
       "Patrick Mahomes II    76.100629\n",
       "Kirk Cousins          75.874126\n",
       "Tom Brady             75.572519\n",
       "Drew Brees            75.000000\n",
       "Nick Foles            74.626866\n",
       "Baker Mayfield        74.242424\n",
       "Matt Ryan             74.043716\n",
       "Mike Glennon          73.786408\n",
       "Sam Darnold           73.762376\n",
       "Justin Herbert        73.107050\n",
       "Lamar Jackson         72.946860\n",
       "Dak Prescott          72.916667\n",
       "Ryan Fitzpatrick      72.395833\n",
       "Matthew Stafford      72.327044\n",
       "Cam Newton            71.875000\n",
       "Andy Dalton           71.698113\n",
       "Nick Mullens          71.356784\n",
       "Tua Tagovailoa        71.345029\n",
       "Dwayne Haskins        71.341463\n",
       "Ben Roethlisberger    69.977427\n",
       "Daniel Jones          69.503546\n",
       "Ryan Tannehill        69.503546\n",
       "Drew Lock             69.421488\n",
       "Carson Wentz          67.901235\n",
       "dtype: float64"
      ]
     },
     "execution_count": 58,
     "metadata": {},
     "output_type": "execute_result"
    }
   ],
   "source": [
    "best_pocket_qb"
   ]
  },
  {
   "cell_type": "markdown",
   "id": "lyric-jewel",
   "metadata": {},
   "source": [
    "Aaron Rodgers, the 2020 NFL Season MVP, had the highest completion rate when standing in the middle of the pocket compared to the rest of the league. He is almost 2% higher than the runner-up Josh Allen who is followed very closely by 6 others within the same gap (+/- 1.8%)."
   ]
  },
  {
   "cell_type": "markdown",
   "id": "overall-brief",
   "metadata": {},
   "source": [
    "# per player stats"
   ]
  },
  {
   "cell_type": "code",
   "execution_count": 59,
   "id": "hispanic-class",
   "metadata": {},
   "outputs": [
    {
     "data": {
      "text/html": [
       "<div>\n",
       "<style scoped>\n",
       "    .dataframe tbody tr th:only-of-type {\n",
       "        vertical-align: middle;\n",
       "    }\n",
       "\n",
       "    .dataframe tbody tr th {\n",
       "        vertical-align: top;\n",
       "    }\n",
       "\n",
       "    .dataframe thead th {\n",
       "        text-align: right;\n",
       "    }\n",
       "</style>\n",
       "<table border=\"1\" class=\"dataframe\">\n",
       "  <thead>\n",
       "    <tr style=\"text-align: right;\">\n",
       "      <th></th>\n",
       "      <th>complete</th>\n",
       "      <th>yards</th>\n",
       "      <th>att_yards</th>\n",
       "      <th>firstdown</th>\n",
       "      <th>inside_20</th>\n",
       "      <th>goaltogo</th>\n",
       "      <th>blitz_x</th>\n",
       "      <th>hurry</th>\n",
       "      <th>knockdown</th>\n",
       "      <th>pocket_time</th>\n",
       "      <th>batted_pass</th>\n",
       "      <th>interception</th>\n",
       "      <th>quarter</th>\n",
       "      <th>yards_to_goal</th>\n",
       "      <th>down</th>\n",
       "      <th>yards_to_first</th>\n",
       "      <th>play_action</th>\n",
       "      <th>run_pass_option</th>\n",
       "      <th>blitz_y</th>\n",
       "      <th>players_rushed</th>\n",
       "      <th>touchdown</th>\n",
       "      <th>seconds_left_in_half</th>\n",
       "    </tr>\n",
       "    <tr>\n",
       "      <th>name</th>\n",
       "      <th></th>\n",
       "      <th></th>\n",
       "      <th></th>\n",
       "      <th></th>\n",
       "      <th></th>\n",
       "      <th></th>\n",
       "      <th></th>\n",
       "      <th></th>\n",
       "      <th></th>\n",
       "      <th></th>\n",
       "      <th></th>\n",
       "      <th></th>\n",
       "      <th></th>\n",
       "      <th></th>\n",
       "      <th></th>\n",
       "      <th></th>\n",
       "      <th></th>\n",
       "      <th></th>\n",
       "      <th></th>\n",
       "      <th></th>\n",
       "      <th></th>\n",
       "      <th></th>\n",
       "    </tr>\n",
       "  </thead>\n",
       "  <tbody>\n",
       "    <tr>\n",
       "      <th>Aaron Rodgers</th>\n",
       "      <td>0.817416</td>\n",
       "      <td>6.820225</td>\n",
       "      <td>2.941011</td>\n",
       "      <td>0.410112</td>\n",
       "      <td>0.160112</td>\n",
       "      <td>0.103933</td>\n",
       "      <td>0.286517</td>\n",
       "      <td>0.028090</td>\n",
       "      <td>0.028090</td>\n",
       "      <td>2.143632</td>\n",
       "      <td>0.005618</td>\n",
       "      <td>0.011236</td>\n",
       "      <td>2.356742</td>\n",
       "      <td>47.915730</td>\n",
       "      <td>1.859551</td>\n",
       "      <td>8.404494</td>\n",
       "      <td>0.283708</td>\n",
       "      <td>0.087079</td>\n",
       "      <td>0.286517</td>\n",
       "      <td>4.289326</td>\n",
       "      <td>0.078652</td>\n",
       "      <td>895.719101</td>\n",
       "    </tr>\n",
       "    <tr>\n",
       "      <th>Alex Smith</th>\n",
       "      <td>0.738220</td>\n",
       "      <td>5.628272</td>\n",
       "      <td>2.314136</td>\n",
       "      <td>0.293194</td>\n",
       "      <td>0.104712</td>\n",
       "      <td>0.041885</td>\n",
       "      <td>0.219895</td>\n",
       "      <td>0.099476</td>\n",
       "      <td>0.089005</td>\n",
       "      <td>2.148005</td>\n",
       "      <td>0.015707</td>\n",
       "      <td>0.036649</td>\n",
       "      <td>2.570681</td>\n",
       "      <td>53.000000</td>\n",
       "      <td>1.827225</td>\n",
       "      <td>9.052356</td>\n",
       "      <td>0.198953</td>\n",
       "      <td>0.089005</td>\n",
       "      <td>0.219895</td>\n",
       "      <td>4.136126</td>\n",
       "      <td>0.015707</td>\n",
       "      <td>736.267016</td>\n",
       "    </tr>\n",
       "    <tr>\n",
       "      <th>Andy Dalton</th>\n",
       "      <td>0.713115</td>\n",
       "      <td>6.200820</td>\n",
       "      <td>4.323770</td>\n",
       "      <td>0.352459</td>\n",
       "      <td>0.143443</td>\n",
       "      <td>0.053279</td>\n",
       "      <td>0.327869</td>\n",
       "      <td>0.028689</td>\n",
       "      <td>0.065574</td>\n",
       "      <td>2.118611</td>\n",
       "      <td>0.016393</td>\n",
       "      <td>0.020492</td>\n",
       "      <td>2.598361</td>\n",
       "      <td>52.004098</td>\n",
       "      <td>1.815574</td>\n",
       "      <td>8.680328</td>\n",
       "      <td>0.184426</td>\n",
       "      <td>0.053279</td>\n",
       "      <td>0.327869</td>\n",
       "      <td>4.364754</td>\n",
       "      <td>0.028689</td>\n",
       "      <td>741.819672</td>\n",
       "    </tr>\n",
       "    <tr>\n",
       "      <th>Baker Mayfield</th>\n",
       "      <td>0.733542</td>\n",
       "      <td>7.231975</td>\n",
       "      <td>5.605016</td>\n",
       "      <td>0.407524</td>\n",
       "      <td>0.141066</td>\n",
       "      <td>0.053292</td>\n",
       "      <td>0.351097</td>\n",
       "      <td>0.081505</td>\n",
       "      <td>0.037618</td>\n",
       "      <td>2.459683</td>\n",
       "      <td>0.018809</td>\n",
       "      <td>0.009404</td>\n",
       "      <td>2.285266</td>\n",
       "      <td>50.523511</td>\n",
       "      <td>1.974922</td>\n",
       "      <td>8.730408</td>\n",
       "      <td>0.257053</td>\n",
       "      <td>0.012539</td>\n",
       "      <td>0.351097</td>\n",
       "      <td>4.376176</td>\n",
       "      <td>0.043887</td>\n",
       "      <td>884.000000</td>\n",
       "    </tr>\n",
       "    <tr>\n",
       "      <th>Ben DiNucci</th>\n",
       "      <td>0.709677</td>\n",
       "      <td>6.870968</td>\n",
       "      <td>5.193548</td>\n",
       "      <td>0.354839</td>\n",
       "      <td>0.096774</td>\n",
       "      <td>0.000000</td>\n",
       "      <td>0.322581</td>\n",
       "      <td>0.064516</td>\n",
       "      <td>0.064516</td>\n",
       "      <td>1.893935</td>\n",
       "      <td>0.000000</td>\n",
       "      <td>0.000000</td>\n",
       "      <td>3.000000</td>\n",
       "      <td>50.419355</td>\n",
       "      <td>2.000000</td>\n",
       "      <td>9.806452</td>\n",
       "      <td>0.129032</td>\n",
       "      <td>0.032258</td>\n",
       "      <td>0.322581</td>\n",
       "      <td>4.387097</td>\n",
       "      <td>0.000000</td>\n",
       "      <td>560.129032</td>\n",
       "    </tr>\n",
       "    <tr>\n",
       "      <th>...</th>\n",
       "      <td>...</td>\n",
       "      <td>...</td>\n",
       "      <td>...</td>\n",
       "      <td>...</td>\n",
       "      <td>...</td>\n",
       "      <td>...</td>\n",
       "      <td>...</td>\n",
       "      <td>...</td>\n",
       "      <td>...</td>\n",
       "      <td>...</td>\n",
       "      <td>...</td>\n",
       "      <td>...</td>\n",
       "      <td>...</td>\n",
       "      <td>...</td>\n",
       "      <td>...</td>\n",
       "      <td>...</td>\n",
       "      <td>...</td>\n",
       "      <td>...</td>\n",
       "      <td>...</td>\n",
       "      <td>...</td>\n",
       "      <td>...</td>\n",
       "      <td>...</td>\n",
       "    </tr>\n",
       "    <tr>\n",
       "      <th>Taysom Hill</th>\n",
       "      <td>0.747126</td>\n",
       "      <td>5.528736</td>\n",
       "      <td>3.586207</td>\n",
       "      <td>0.287356</td>\n",
       "      <td>0.103448</td>\n",
       "      <td>0.057471</td>\n",
       "      <td>0.298851</td>\n",
       "      <td>0.045977</td>\n",
       "      <td>0.091954</td>\n",
       "      <td>2.329310</td>\n",
       "      <td>0.011494</td>\n",
       "      <td>0.022989</td>\n",
       "      <td>2.471264</td>\n",
       "      <td>51.137931</td>\n",
       "      <td>1.954023</td>\n",
       "      <td>9.126437</td>\n",
       "      <td>0.241379</td>\n",
       "      <td>0.034483</td>\n",
       "      <td>0.298851</td>\n",
       "      <td>4.333333</td>\n",
       "      <td>0.000000</td>\n",
       "      <td>872.540230</td>\n",
       "    </tr>\n",
       "    <tr>\n",
       "      <th>Teddy Bridgewater</th>\n",
       "      <td>0.793750</td>\n",
       "      <td>6.678125</td>\n",
       "      <td>3.578125</td>\n",
       "      <td>0.340625</td>\n",
       "      <td>0.115625</td>\n",
       "      <td>0.043750</td>\n",
       "      <td>0.281250</td>\n",
       "      <td>0.075000</td>\n",
       "      <td>0.043750</td>\n",
       "      <td>2.121950</td>\n",
       "      <td>0.009375</td>\n",
       "      <td>0.015625</td>\n",
       "      <td>2.465625</td>\n",
       "      <td>52.350000</td>\n",
       "      <td>1.918750</td>\n",
       "      <td>8.746875</td>\n",
       "      <td>0.165625</td>\n",
       "      <td>0.037500</td>\n",
       "      <td>0.281250</td>\n",
       "      <td>4.253125</td>\n",
       "      <td>0.028125</td>\n",
       "      <td>848.525000</td>\n",
       "    </tr>\n",
       "    <tr>\n",
       "      <th>Tom Brady</th>\n",
       "      <td>0.743210</td>\n",
       "      <td>6.474074</td>\n",
       "      <td>4.441975</td>\n",
       "      <td>0.355556</td>\n",
       "      <td>0.140741</td>\n",
       "      <td>0.069136</td>\n",
       "      <td>0.266667</td>\n",
       "      <td>0.039506</td>\n",
       "      <td>0.079012</td>\n",
       "      <td>2.195914</td>\n",
       "      <td>0.004938</td>\n",
       "      <td>0.012346</td>\n",
       "      <td>2.417284</td>\n",
       "      <td>51.767901</td>\n",
       "      <td>1.967901</td>\n",
       "      <td>8.728395</td>\n",
       "      <td>0.155556</td>\n",
       "      <td>0.022222</td>\n",
       "      <td>0.266667</td>\n",
       "      <td>4.160494</td>\n",
       "      <td>0.046914</td>\n",
       "      <td>845.987654</td>\n",
       "    </tr>\n",
       "    <tr>\n",
       "      <th>Tua Tagovailoa</th>\n",
       "      <td>0.710000</td>\n",
       "      <td>6.140000</td>\n",
       "      <td>4.495000</td>\n",
       "      <td>0.350000</td>\n",
       "      <td>0.110000</td>\n",
       "      <td>0.075000</td>\n",
       "      <td>0.380000</td>\n",
       "      <td>0.030000</td>\n",
       "      <td>0.040000</td>\n",
       "      <td>2.153775</td>\n",
       "      <td>0.010000</td>\n",
       "      <td>0.005000</td>\n",
       "      <td>2.530000</td>\n",
       "      <td>53.620000</td>\n",
       "      <td>1.825000</td>\n",
       "      <td>8.330000</td>\n",
       "      <td>0.305000</td>\n",
       "      <td>0.125000</td>\n",
       "      <td>0.380000</td>\n",
       "      <td>4.355000</td>\n",
       "      <td>0.030000</td>\n",
       "      <td>924.970000</td>\n",
       "    </tr>\n",
       "    <tr>\n",
       "      <th>Tyrod Taylor</th>\n",
       "      <td>0.705882</td>\n",
       "      <td>6.588235</td>\n",
       "      <td>7.294118</td>\n",
       "      <td>0.411765</td>\n",
       "      <td>0.117647</td>\n",
       "      <td>0.117647</td>\n",
       "      <td>0.235294</td>\n",
       "      <td>0.176471</td>\n",
       "      <td>0.000000</td>\n",
       "      <td>2.417588</td>\n",
       "      <td>0.000000</td>\n",
       "      <td>0.000000</td>\n",
       "      <td>2.117647</td>\n",
       "      <td>55.176471</td>\n",
       "      <td>2.235294</td>\n",
       "      <td>8.647059</td>\n",
       "      <td>0.294118</td>\n",
       "      <td>0.117647</td>\n",
       "      <td>0.235294</td>\n",
       "      <td>4.176471</td>\n",
       "      <td>0.000000</td>\n",
       "      <td>948.352941</td>\n",
       "    </tr>\n",
       "  </tbody>\n",
       "</table>\n",
       "<p>63 rows × 22 columns</p>\n",
       "</div>"
      ],
      "text/plain": [
       "                   complete     yards  att_yards  firstdown  inside_20  \\\n",
       "name                                                                     \n",
       "Aaron Rodgers      0.817416  6.820225   2.941011   0.410112   0.160112   \n",
       "Alex Smith         0.738220  5.628272   2.314136   0.293194   0.104712   \n",
       "Andy Dalton        0.713115  6.200820   4.323770   0.352459   0.143443   \n",
       "Baker Mayfield     0.733542  7.231975   5.605016   0.407524   0.141066   \n",
       "Ben DiNucci        0.709677  6.870968   5.193548   0.354839   0.096774   \n",
       "...                     ...       ...        ...        ...        ...   \n",
       "Taysom Hill        0.747126  5.528736   3.586207   0.287356   0.103448   \n",
       "Teddy Bridgewater  0.793750  6.678125   3.578125   0.340625   0.115625   \n",
       "Tom Brady          0.743210  6.474074   4.441975   0.355556   0.140741   \n",
       "Tua Tagovailoa     0.710000  6.140000   4.495000   0.350000   0.110000   \n",
       "Tyrod Taylor       0.705882  6.588235   7.294118   0.411765   0.117647   \n",
       "\n",
       "                   goaltogo   blitz_x     hurry  knockdown  pocket_time  \\\n",
       "name                                                                      \n",
       "Aaron Rodgers      0.103933  0.286517  0.028090   0.028090     2.143632   \n",
       "Alex Smith         0.041885  0.219895  0.099476   0.089005     2.148005   \n",
       "Andy Dalton        0.053279  0.327869  0.028689   0.065574     2.118611   \n",
       "Baker Mayfield     0.053292  0.351097  0.081505   0.037618     2.459683   \n",
       "Ben DiNucci        0.000000  0.322581  0.064516   0.064516     1.893935   \n",
       "...                     ...       ...       ...        ...          ...   \n",
       "Taysom Hill        0.057471  0.298851  0.045977   0.091954     2.329310   \n",
       "Teddy Bridgewater  0.043750  0.281250  0.075000   0.043750     2.121950   \n",
       "Tom Brady          0.069136  0.266667  0.039506   0.079012     2.195914   \n",
       "Tua Tagovailoa     0.075000  0.380000  0.030000   0.040000     2.153775   \n",
       "Tyrod Taylor       0.117647  0.235294  0.176471   0.000000     2.417588   \n",
       "\n",
       "                   batted_pass  interception   quarter  yards_to_goal  \\\n",
       "name                                                                    \n",
       "Aaron Rodgers         0.005618      0.011236  2.356742      47.915730   \n",
       "Alex Smith            0.015707      0.036649  2.570681      53.000000   \n",
       "Andy Dalton           0.016393      0.020492  2.598361      52.004098   \n",
       "Baker Mayfield        0.018809      0.009404  2.285266      50.523511   \n",
       "Ben DiNucci           0.000000      0.000000  3.000000      50.419355   \n",
       "...                        ...           ...       ...            ...   \n",
       "Taysom Hill           0.011494      0.022989  2.471264      51.137931   \n",
       "Teddy Bridgewater     0.009375      0.015625  2.465625      52.350000   \n",
       "Tom Brady             0.004938      0.012346  2.417284      51.767901   \n",
       "Tua Tagovailoa        0.010000      0.005000  2.530000      53.620000   \n",
       "Tyrod Taylor          0.000000      0.000000  2.117647      55.176471   \n",
       "\n",
       "                       down  yards_to_first  play_action  run_pass_option  \\\n",
       "name                                                                        \n",
       "Aaron Rodgers      1.859551        8.404494     0.283708         0.087079   \n",
       "Alex Smith         1.827225        9.052356     0.198953         0.089005   \n",
       "Andy Dalton        1.815574        8.680328     0.184426         0.053279   \n",
       "Baker Mayfield     1.974922        8.730408     0.257053         0.012539   \n",
       "Ben DiNucci        2.000000        9.806452     0.129032         0.032258   \n",
       "...                     ...             ...          ...              ...   \n",
       "Taysom Hill        1.954023        9.126437     0.241379         0.034483   \n",
       "Teddy Bridgewater  1.918750        8.746875     0.165625         0.037500   \n",
       "Tom Brady          1.967901        8.728395     0.155556         0.022222   \n",
       "Tua Tagovailoa     1.825000        8.330000     0.305000         0.125000   \n",
       "Tyrod Taylor       2.235294        8.647059     0.294118         0.117647   \n",
       "\n",
       "                    blitz_y  players_rushed  touchdown  seconds_left_in_half  \n",
       "name                                                                          \n",
       "Aaron Rodgers      0.286517        4.289326   0.078652            895.719101  \n",
       "Alex Smith         0.219895        4.136126   0.015707            736.267016  \n",
       "Andy Dalton        0.327869        4.364754   0.028689            741.819672  \n",
       "Baker Mayfield     0.351097        4.376176   0.043887            884.000000  \n",
       "Ben DiNucci        0.322581        4.387097   0.000000            560.129032  \n",
       "...                     ...             ...        ...                   ...  \n",
       "Taysom Hill        0.298851        4.333333   0.000000            872.540230  \n",
       "Teddy Bridgewater  0.281250        4.253125   0.028125            848.525000  \n",
       "Tom Brady          0.266667        4.160494   0.046914            845.987654  \n",
       "Tua Tagovailoa     0.380000        4.355000   0.030000            924.970000  \n",
       "Tyrod Taylor       0.235294        4.176471   0.000000            948.352941  \n",
       "\n",
       "[63 rows x 22 columns]"
      ]
     },
     "execution_count": 59,
     "metadata": {},
     "output_type": "execute_result"
    }
   ],
   "source": [
    "test = df.groupby('name').mean()\n",
    "test"
   ]
  },
  {
   "cell_type": "code",
   "execution_count": 60,
   "id": "herbal-benchmark",
   "metadata": {},
   "outputs": [
    {
     "data": {
      "text/html": [
       "<div>\n",
       "<style scoped>\n",
       "    .dataframe tbody tr th:only-of-type {\n",
       "        vertical-align: middle;\n",
       "    }\n",
       "\n",
       "    .dataframe tbody tr th {\n",
       "        vertical-align: top;\n",
       "    }\n",
       "\n",
       "    .dataframe thead th {\n",
       "        text-align: right;\n",
       "    }\n",
       "</style>\n",
       "<table border=\"1\" class=\"dataframe\">\n",
       "  <thead>\n",
       "    <tr style=\"text-align: right;\">\n",
       "      <th></th>\n",
       "      <th>complete</th>\n",
       "      <th>yards</th>\n",
       "      <th>att_yards</th>\n",
       "      <th>firstdown</th>\n",
       "      <th>inside_20</th>\n",
       "      <th>goaltogo</th>\n",
       "      <th>blitz_x</th>\n",
       "      <th>hurry</th>\n",
       "      <th>knockdown</th>\n",
       "      <th>pocket_time</th>\n",
       "      <th>batted_pass</th>\n",
       "      <th>interception</th>\n",
       "      <th>quarter</th>\n",
       "      <th>yards_to_goal</th>\n",
       "      <th>down</th>\n",
       "      <th>yards_to_first</th>\n",
       "      <th>play_action</th>\n",
       "      <th>run_pass_option</th>\n",
       "      <th>blitz_y</th>\n",
       "      <th>players_rushed</th>\n",
       "      <th>touchdown</th>\n",
       "      <th>seconds_left_in_half</th>\n",
       "    </tr>\n",
       "    <tr>\n",
       "      <th>name</th>\n",
       "      <th></th>\n",
       "      <th></th>\n",
       "      <th></th>\n",
       "      <th></th>\n",
       "      <th></th>\n",
       "      <th></th>\n",
       "      <th></th>\n",
       "      <th></th>\n",
       "      <th></th>\n",
       "      <th></th>\n",
       "      <th></th>\n",
       "      <th></th>\n",
       "      <th></th>\n",
       "      <th></th>\n",
       "      <th></th>\n",
       "      <th></th>\n",
       "      <th></th>\n",
       "      <th></th>\n",
       "      <th></th>\n",
       "      <th></th>\n",
       "      <th></th>\n",
       "      <th></th>\n",
       "    </tr>\n",
       "  </thead>\n",
       "  <tbody>\n",
       "    <tr>\n",
       "      <th>Matt Barkley</th>\n",
       "      <td>0.384615</td>\n",
       "      <td>3.307692</td>\n",
       "      <td>6.538462</td>\n",
       "      <td>0.230769</td>\n",
       "      <td>0.000000</td>\n",
       "      <td>0.000000</td>\n",
       "      <td>0.307692</td>\n",
       "      <td>0.076923</td>\n",
       "      <td>0.000000</td>\n",
       "      <td>2.466308</td>\n",
       "      <td>0.076923</td>\n",
       "      <td>0.076923</td>\n",
       "      <td>3.538462</td>\n",
       "      <td>49.384615</td>\n",
       "      <td>1.769231</td>\n",
       "      <td>9.846154</td>\n",
       "      <td>0.307692</td>\n",
       "      <td>0.076923</td>\n",
       "      <td>0.307692</td>\n",
       "      <td>4.461538</td>\n",
       "      <td>0.000000</td>\n",
       "      <td>748.076923</td>\n",
       "    </tr>\n",
       "    <tr>\n",
       "      <th>Jeff Driskel</th>\n",
       "      <td>0.578947</td>\n",
       "      <td>5.473684</td>\n",
       "      <td>5.868421</td>\n",
       "      <td>0.184211</td>\n",
       "      <td>0.078947</td>\n",
       "      <td>0.052632</td>\n",
       "      <td>0.605263</td>\n",
       "      <td>0.052632</td>\n",
       "      <td>0.184211</td>\n",
       "      <td>2.356395</td>\n",
       "      <td>0.052632</td>\n",
       "      <td>0.000000</td>\n",
       "      <td>2.631579</td>\n",
       "      <td>63.947368</td>\n",
       "      <td>2.026316</td>\n",
       "      <td>11.315789</td>\n",
       "      <td>0.105263</td>\n",
       "      <td>0.052632</td>\n",
       "      <td>0.605263</td>\n",
       "      <td>4.710526</td>\n",
       "      <td>0.026316</td>\n",
       "      <td>935.026316</td>\n",
       "    </tr>\n",
       "    <tr>\n",
       "      <th>Blaine Gabbert</th>\n",
       "      <td>0.583333</td>\n",
       "      <td>9.666667</td>\n",
       "      <td>4.916667</td>\n",
       "      <td>0.333333</td>\n",
       "      <td>0.000000</td>\n",
       "      <td>0.000000</td>\n",
       "      <td>0.416667</td>\n",
       "      <td>0.083333</td>\n",
       "      <td>0.000000</td>\n",
       "      <td>1.838167</td>\n",
       "      <td>0.000000</td>\n",
       "      <td>0.000000</td>\n",
       "      <td>3.333333</td>\n",
       "      <td>56.416667</td>\n",
       "      <td>2.000000</td>\n",
       "      <td>7.500000</td>\n",
       "      <td>0.166667</td>\n",
       "      <td>0.000000</td>\n",
       "      <td>0.416667</td>\n",
       "      <td>4.583333</td>\n",
       "      <td>0.083333</td>\n",
       "      <td>977.000000</td>\n",
       "    </tr>\n",
       "    <tr>\n",
       "      <th>Jalen Hurts</th>\n",
       "      <td>0.610526</td>\n",
       "      <td>6.221053</td>\n",
       "      <td>4.778947</td>\n",
       "      <td>0.284211</td>\n",
       "      <td>0.063158</td>\n",
       "      <td>0.021053</td>\n",
       "      <td>0.378947</td>\n",
       "      <td>0.052632</td>\n",
       "      <td>0.042105</td>\n",
       "      <td>2.481947</td>\n",
       "      <td>0.042105</td>\n",
       "      <td>0.021053</td>\n",
       "      <td>2.715789</td>\n",
       "      <td>53.810526</td>\n",
       "      <td>1.905263</td>\n",
       "      <td>9.315789</td>\n",
       "      <td>0.168421</td>\n",
       "      <td>0.115789</td>\n",
       "      <td>0.378947</td>\n",
       "      <td>4.347368</td>\n",
       "      <td>0.021053</td>\n",
       "      <td>716.515789</td>\n",
       "    </tr>\n",
       "    <tr>\n",
       "      <th>Garrett Gilbert</th>\n",
       "      <td>0.620690</td>\n",
       "      <td>5.482759</td>\n",
       "      <td>6.172414</td>\n",
       "      <td>0.241379</td>\n",
       "      <td>0.103448</td>\n",
       "      <td>0.068966</td>\n",
       "      <td>0.482759</td>\n",
       "      <td>0.172414</td>\n",
       "      <td>0.172414</td>\n",
       "      <td>2.318448</td>\n",
       "      <td>0.103448</td>\n",
       "      <td>0.034483</td>\n",
       "      <td>2.896552</td>\n",
       "      <td>46.413793</td>\n",
       "      <td>1.931034</td>\n",
       "      <td>9.241379</td>\n",
       "      <td>0.103448</td>\n",
       "      <td>0.034483</td>\n",
       "      <td>0.482759</td>\n",
       "      <td>4.724138</td>\n",
       "      <td>0.034483</td>\n",
       "      <td>801.689655</td>\n",
       "    </tr>\n",
       "    <tr>\n",
       "      <th>...</th>\n",
       "      <td>...</td>\n",
       "      <td>...</td>\n",
       "      <td>...</td>\n",
       "      <td>...</td>\n",
       "      <td>...</td>\n",
       "      <td>...</td>\n",
       "      <td>...</td>\n",
       "      <td>...</td>\n",
       "      <td>...</td>\n",
       "      <td>...</td>\n",
       "      <td>...</td>\n",
       "      <td>...</td>\n",
       "      <td>...</td>\n",
       "      <td>...</td>\n",
       "      <td>...</td>\n",
       "      <td>...</td>\n",
       "      <td>...</td>\n",
       "      <td>...</td>\n",
       "      <td>...</td>\n",
       "      <td>...</td>\n",
       "      <td>...</td>\n",
       "      <td>...</td>\n",
       "    </tr>\n",
       "    <tr>\n",
       "      <th>Deshaun Watson</th>\n",
       "      <td>0.794872</td>\n",
       "      <td>8.034188</td>\n",
       "      <td>5.606838</td>\n",
       "      <td>0.396011</td>\n",
       "      <td>0.162393</td>\n",
       "      <td>0.074074</td>\n",
       "      <td>0.284900</td>\n",
       "      <td>0.085470</td>\n",
       "      <td>0.068376</td>\n",
       "      <td>2.198330</td>\n",
       "      <td>0.008547</td>\n",
       "      <td>0.008547</td>\n",
       "      <td>2.572650</td>\n",
       "      <td>51.091168</td>\n",
       "      <td>1.811966</td>\n",
       "      <td>8.672365</td>\n",
       "      <td>0.196581</td>\n",
       "      <td>0.105413</td>\n",
       "      <td>0.284900</td>\n",
       "      <td>4.270655</td>\n",
       "      <td>0.054131</td>\n",
       "      <td>782.829060</td>\n",
       "    </tr>\n",
       "    <tr>\n",
       "      <th>Robert Griffin III</th>\n",
       "      <td>0.800000</td>\n",
       "      <td>4.200000</td>\n",
       "      <td>2.100000</td>\n",
       "      <td>0.100000</td>\n",
       "      <td>0.000000</td>\n",
       "      <td>0.000000</td>\n",
       "      <td>0.400000</td>\n",
       "      <td>0.000000</td>\n",
       "      <td>0.100000</td>\n",
       "      <td>1.896300</td>\n",
       "      <td>0.000000</td>\n",
       "      <td>0.100000</td>\n",
       "      <td>2.000000</td>\n",
       "      <td>63.700000</td>\n",
       "      <td>2.100000</td>\n",
       "      <td>10.500000</td>\n",
       "      <td>0.300000</td>\n",
       "      <td>0.000000</td>\n",
       "      <td>0.400000</td>\n",
       "      <td>4.200000</td>\n",
       "      <td>0.000000</td>\n",
       "      <td>1052.300000</td>\n",
       "    </tr>\n",
       "    <tr>\n",
       "      <th>Kyle Allen</th>\n",
       "      <td>0.816667</td>\n",
       "      <td>6.950000</td>\n",
       "      <td>3.083333</td>\n",
       "      <td>0.350000</td>\n",
       "      <td>0.066667</td>\n",
       "      <td>0.016667</td>\n",
       "      <td>0.283333</td>\n",
       "      <td>0.066667</td>\n",
       "      <td>0.066667</td>\n",
       "      <td>2.254167</td>\n",
       "      <td>0.016667</td>\n",
       "      <td>0.000000</td>\n",
       "      <td>2.166667</td>\n",
       "      <td>50.583333</td>\n",
       "      <td>1.883333</td>\n",
       "      <td>9.050000</td>\n",
       "      <td>0.266667</td>\n",
       "      <td>0.083333</td>\n",
       "      <td>0.283333</td>\n",
       "      <td>4.200000</td>\n",
       "      <td>0.016667</td>\n",
       "      <td>833.316667</td>\n",
       "    </tr>\n",
       "    <tr>\n",
       "      <th>Aaron Rodgers</th>\n",
       "      <td>0.817416</td>\n",
       "      <td>6.820225</td>\n",
       "      <td>2.941011</td>\n",
       "      <td>0.410112</td>\n",
       "      <td>0.160112</td>\n",
       "      <td>0.103933</td>\n",
       "      <td>0.286517</td>\n",
       "      <td>0.028090</td>\n",
       "      <td>0.028090</td>\n",
       "      <td>2.143632</td>\n",
       "      <td>0.005618</td>\n",
       "      <td>0.011236</td>\n",
       "      <td>2.356742</td>\n",
       "      <td>47.915730</td>\n",
       "      <td>1.859551</td>\n",
       "      <td>8.404494</td>\n",
       "      <td>0.283708</td>\n",
       "      <td>0.087079</td>\n",
       "      <td>0.286517</td>\n",
       "      <td>4.289326</td>\n",
       "      <td>0.078652</td>\n",
       "      <td>895.719101</td>\n",
       "    </tr>\n",
       "    <tr>\n",
       "      <th>Taylor Heinicke</th>\n",
       "      <td>0.833333</td>\n",
       "      <td>7.416667</td>\n",
       "      <td>6.000000</td>\n",
       "      <td>0.333333</td>\n",
       "      <td>0.166667</td>\n",
       "      <td>0.000000</td>\n",
       "      <td>0.166667</td>\n",
       "      <td>0.083333</td>\n",
       "      <td>0.000000</td>\n",
       "      <td>2.569833</td>\n",
       "      <td>0.000000</td>\n",
       "      <td>0.000000</td>\n",
       "      <td>4.000000</td>\n",
       "      <td>45.833333</td>\n",
       "      <td>1.833333</td>\n",
       "      <td>8.333333</td>\n",
       "      <td>0.000000</td>\n",
       "      <td>0.000000</td>\n",
       "      <td>0.166667</td>\n",
       "      <td>4.083333</td>\n",
       "      <td>0.000000</td>\n",
       "      <td>334.416667</td>\n",
       "    </tr>\n",
       "  </tbody>\n",
       "</table>\n",
       "<p>63 rows × 22 columns</p>\n",
       "</div>"
      ],
      "text/plain": [
       "                    complete     yards  att_yards  firstdown  inside_20  \\\n",
       "name                                                                      \n",
       "Matt Barkley        0.384615  3.307692   6.538462   0.230769   0.000000   \n",
       "Jeff Driskel        0.578947  5.473684   5.868421   0.184211   0.078947   \n",
       "Blaine Gabbert      0.583333  9.666667   4.916667   0.333333   0.000000   \n",
       "Jalen Hurts         0.610526  6.221053   4.778947   0.284211   0.063158   \n",
       "Garrett Gilbert     0.620690  5.482759   6.172414   0.241379   0.103448   \n",
       "...                      ...       ...        ...        ...        ...   \n",
       "Deshaun Watson      0.794872  8.034188   5.606838   0.396011   0.162393   \n",
       "Robert Griffin III  0.800000  4.200000   2.100000   0.100000   0.000000   \n",
       "Kyle Allen          0.816667  6.950000   3.083333   0.350000   0.066667   \n",
       "Aaron Rodgers       0.817416  6.820225   2.941011   0.410112   0.160112   \n",
       "Taylor Heinicke     0.833333  7.416667   6.000000   0.333333   0.166667   \n",
       "\n",
       "                    goaltogo   blitz_x     hurry  knockdown  pocket_time  \\\n",
       "name                                                                       \n",
       "Matt Barkley        0.000000  0.307692  0.076923   0.000000     2.466308   \n",
       "Jeff Driskel        0.052632  0.605263  0.052632   0.184211     2.356395   \n",
       "Blaine Gabbert      0.000000  0.416667  0.083333   0.000000     1.838167   \n",
       "Jalen Hurts         0.021053  0.378947  0.052632   0.042105     2.481947   \n",
       "Garrett Gilbert     0.068966  0.482759  0.172414   0.172414     2.318448   \n",
       "...                      ...       ...       ...        ...          ...   \n",
       "Deshaun Watson      0.074074  0.284900  0.085470   0.068376     2.198330   \n",
       "Robert Griffin III  0.000000  0.400000  0.000000   0.100000     1.896300   \n",
       "Kyle Allen          0.016667  0.283333  0.066667   0.066667     2.254167   \n",
       "Aaron Rodgers       0.103933  0.286517  0.028090   0.028090     2.143632   \n",
       "Taylor Heinicke     0.000000  0.166667  0.083333   0.000000     2.569833   \n",
       "\n",
       "                    batted_pass  interception   quarter  yards_to_goal  \\\n",
       "name                                                                     \n",
       "Matt Barkley           0.076923      0.076923  3.538462      49.384615   \n",
       "Jeff Driskel           0.052632      0.000000  2.631579      63.947368   \n",
       "Blaine Gabbert         0.000000      0.000000  3.333333      56.416667   \n",
       "Jalen Hurts            0.042105      0.021053  2.715789      53.810526   \n",
       "Garrett Gilbert        0.103448      0.034483  2.896552      46.413793   \n",
       "...                         ...           ...       ...            ...   \n",
       "Deshaun Watson         0.008547      0.008547  2.572650      51.091168   \n",
       "Robert Griffin III     0.000000      0.100000  2.000000      63.700000   \n",
       "Kyle Allen             0.016667      0.000000  2.166667      50.583333   \n",
       "Aaron Rodgers          0.005618      0.011236  2.356742      47.915730   \n",
       "Taylor Heinicke        0.000000      0.000000  4.000000      45.833333   \n",
       "\n",
       "                        down  yards_to_first  play_action  run_pass_option  \\\n",
       "name                                                                         \n",
       "Matt Barkley        1.769231        9.846154     0.307692         0.076923   \n",
       "Jeff Driskel        2.026316       11.315789     0.105263         0.052632   \n",
       "Blaine Gabbert      2.000000        7.500000     0.166667         0.000000   \n",
       "Jalen Hurts         1.905263        9.315789     0.168421         0.115789   \n",
       "Garrett Gilbert     1.931034        9.241379     0.103448         0.034483   \n",
       "...                      ...             ...          ...              ...   \n",
       "Deshaun Watson      1.811966        8.672365     0.196581         0.105413   \n",
       "Robert Griffin III  2.100000       10.500000     0.300000         0.000000   \n",
       "Kyle Allen          1.883333        9.050000     0.266667         0.083333   \n",
       "Aaron Rodgers       1.859551        8.404494     0.283708         0.087079   \n",
       "Taylor Heinicke     1.833333        8.333333     0.000000         0.000000   \n",
       "\n",
       "                     blitz_y  players_rushed  touchdown  seconds_left_in_half  \n",
       "name                                                                           \n",
       "Matt Barkley        0.307692        4.461538   0.000000            748.076923  \n",
       "Jeff Driskel        0.605263        4.710526   0.026316            935.026316  \n",
       "Blaine Gabbert      0.416667        4.583333   0.083333            977.000000  \n",
       "Jalen Hurts         0.378947        4.347368   0.021053            716.515789  \n",
       "Garrett Gilbert     0.482759        4.724138   0.034483            801.689655  \n",
       "...                      ...             ...        ...                   ...  \n",
       "Deshaun Watson      0.284900        4.270655   0.054131            782.829060  \n",
       "Robert Griffin III  0.400000        4.200000   0.000000           1052.300000  \n",
       "Kyle Allen          0.283333        4.200000   0.016667            833.316667  \n",
       "Aaron Rodgers       0.286517        4.289326   0.078652            895.719101  \n",
       "Taylor Heinicke     0.166667        4.083333   0.000000            334.416667  \n",
       "\n",
       "[63 rows x 22 columns]"
      ]
     },
     "execution_count": 60,
     "metadata": {},
     "output_type": "execute_result"
    }
   ],
   "source": [
    "test.sort_values('complete')"
   ]
  },
  {
   "cell_type": "code",
   "execution_count": 61,
   "id": "unauthorized-organ",
   "metadata": {},
   "outputs": [
    {
     "data": {
      "text/plain": [
       "<AxesSubplot:xlabel='att_yards', ylabel='complete'>"
      ]
     },
     "execution_count": 61,
     "metadata": {},
     "output_type": "execute_result"
    },
    {
     "data": {
      "image/png": "[encoded data removed]",
      "text/plain": [
       "<Figure size 432x720 with 1 Axes>"
      ]
     },
     "metadata": {},
     "output_type": "display_data"
    }
   ],
   "source": [
    "plt.figure(figsize=(6,10))\n",
    "sns.set_style('darkgrid')\n",
    "sns.scatterplot(x='att_yards', y='complete', hue='name', data=test, legend=False)"
   ]
  },
  {
   "cell_type": "code",
   "execution_count": 62,
   "id": "competitive-royal",
   "metadata": {},
   "outputs": [],
   "source": [
    "df.to_csv('df_cleaned.csv')"
   ]
  }
 ],
 "metadata": {
  "kernelspec": {
   "display_name": "Python 3",
   "language": "python",
   "name": "python3"
  },
  "language_info": {
   "codemirror_mode": {
    "name": "ipython",
    "version": 3
   },
   "file_extension": ".py",
   "mimetype": "text/x-python",
   "name": "python",
   "nbconvert_exporter": "python",
   "pygments_lexer": "ipython3",
   "version": "3.9.2"
  }
 },
 "nbformat": 4,
 "nbformat_minor": 5
}
